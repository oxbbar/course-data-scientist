{
 "cells": [
  {
   "cell_type": "markdown",
   "id": "e9f9507a",
   "metadata": {},
   "source": [
    "# Part 1.2: Basic Operators and Data Structures in Python"
   ]
  },
  {
   "cell_type": "markdown",
   "id": "6c1dd124",
   "metadata": {},
   "source": [
    "## Python For Loops"
   ]
  },
  {
   "cell_type": "markdown",
   "id": "0df658c0",
   "metadata": {},
   "source": [
    "Printing all using for loop:"
   ]
  },
  {
   "cell_type": "code",
   "execution_count": 1,
   "id": "848936ab",
   "metadata": {},
   "outputs": [
    {
     "name": "stdout",
     "output_type": "stream",
     "text": [
      "Facebook\n",
      "Instagram\n",
      "Clash of Clans\n",
      "Fruit Ninja Classic\n",
      "Minecraft: Pocket Edition\n"
     ]
    }
   ],
   "source": [
    "app_names = ['Facebook', 'Instagram', 'Clash of Clans', 'Fruit Ninja Classic', 'Minecraft: Pocket Edition']\n",
    "for element in app_names:\n",
    "    print(element)"
   ]
  },
  {
   "cell_type": "markdown",
   "id": "5596cc2b",
   "metadata": {},
   "source": [
    "Printing from lists of lists using for loop:"
   ]
  },
  {
   "cell_type": "code",
   "execution_count": 2,
   "id": "62072865",
   "metadata": {},
   "outputs": [
    {
     "name": "stdout",
     "output_type": "stream",
     "text": [
      "2974676\n",
      "2161558\n",
      "2130805\n",
      "698516\n",
      "522012\n"
     ]
    }
   ],
   "source": [
    "row_1 = ['Facebook', 0.0, 'USD', 2974676, 3.5]\n",
    "row_2 = ['Instagram', 0.0, 'USD', 2161558, 4.5]\n",
    "row_3 = ['Clash of Clans', 0.0, 'USD', 2130805, 4.5]\n",
    "row_4 = ['Fruit Ninja Classic', 1.99, 'USD', 698516, 4.5]\n",
    "row_5 = ['Minecraft: Pocket Edition', 6.99, 'USD', 522012, 4.5]\n",
    "\n",
    "app_data_set = [row_1, row_2, row_3, row_4, row_5]\n",
    "for row in app_data_set:\n",
    "    rating_count = row[3]\n",
    "    print(rating_count)"
   ]
  },
  {
   "cell_type": "markdown",
   "id": "7db26145",
   "metadata": {},
   "source": [
    "Combining loops and basic maths:"
   ]
  },
  {
   "cell_type": "code",
   "execution_count": 3,
   "id": "51f738af",
   "metadata": {},
   "outputs": [
    {
     "name": "stdout",
     "output_type": "stream",
     "text": [
      "2974676\n",
      "5136234\n",
      "7267039\n",
      "7965555\n",
      "8487567\n"
     ]
    }
   ],
   "source": [
    "row_1 = ['Facebook', 0.0, 'USD', 2974676, 3.5]\n",
    "row_2 = ['Instagram', 0.0, 'USD', 2161558, 4.5]\n",
    "row_3 = ['Clash of Clans', 0.0, 'USD', 2130805, 4.5]\n",
    "row_4 = ['Fruit Ninja Classic', 1.99, 'USD', 698516, 4.5]\n",
    "row_5 = ['Minecraft: Pocket Edition', 6.99, 'USD', 522012, 4.5]\n",
    "\n",
    "app_data_set = [row_1, row_2, row_3, row_4, row_5]\n",
    "rating_sum = 0\n",
    "for row in app_data_set:\n",
    "    rating_count = row[3]\n",
    "    rating_sum = rating_sum + rating_count\n",
    "    print(rating_sum)"
   ]
  },
  {
   "cell_type": "code",
   "execution_count": 6,
   "id": "0aa875c4",
   "metadata": {},
   "outputs": [
    {
     "name": "stdout",
     "output_type": "stream",
     "text": [
      "4.3\n"
     ]
    }
   ],
   "source": [
    "row_1 = ['Facebook', 0.0, 'USD', 2974676, 3.5]\n",
    "row_2 = ['Instagram', 0.0, 'USD', 2161558, 4.5]\n",
    "row_3 = ['Clash of Clans', 0.0, 'USD', 2130805, 4.5]\n",
    "row_4 = ['Fruit Ninja Classic', 1.99, 'USD', 698516, 4.5]\n",
    "row_5 = ['Minecraft: Pocket Edition', 6.99, 'USD', 522012, 4.5]\n",
    "\n",
    "app_data_set = [row_1, row_2, row_3, row_4, row_5]\n",
    "rating_sum = 0\n",
    "for row in app_data_set:\n",
    "    rating = row[4]\n",
    "    rating_sum = rating_sum + rating\n",
    "    \n",
    "avg_rating = rating_sum / len(app_data_set)\n",
    "print(avg_rating)"
   ]
  },
  {
   "cell_type": "markdown",
   "id": "393bb531",
   "metadata": {},
   "source": [
    "Opening a file:"
   ]
  },
  {
   "cell_type": "code",
   "execution_count": 11,
   "id": "7bcc375c",
   "metadata": {
    "scrolled": true
   },
   "outputs": [
    {
     "name": "stdout",
     "output_type": "stream",
     "text": [
      "Number of rows = 7198\n",
      "['id', 'track_name', 'size_bytes', 'currency', 'price', 'rating_count_tot', 'rating_count_ver', 'user_rating', 'user_rating_ver', 'ver', 'cont_rating', 'prime_genre', 'sup_devices.num', 'ipadSc_urls.num', 'lang.num', 'vpp_lic'] [['284882215', 'Facebook', '389879808', 'USD', '0.0', '2974676', '212', '3.5', '3.5', '95.0', '4+', 'Social Networking', '37', '1', '29', '1'], ['389801252', 'Instagram', '113954816', 'USD', '0.0', '2161558', '1289', '4.5', '4.0', '10.23', '12+', 'Photo & Video', '37', '0', '29', '1']]\n"
     ]
    }
   ],
   "source": [
    "from csv import reader\n",
    "opened_file = open('AppleStore.csv', encoding=\"utf8\")\n",
    "read_file = reader(opened_file)\n",
    "apps_data = list(read_file)\n",
    "print(\"Number of rows =\", len(apps_data))\n",
    "print(apps_data[0], apps_data[1:3])"
   ]
  },
  {
   "cell_type": "markdown",
   "id": "b86d8e3b",
   "metadata": {},
   "source": [
    "Using for loop after opening a file. Skipping first row of data and adding 8th column after coverting to float:"
   ]
  },
  {
   "cell_type": "code",
   "execution_count": 12,
   "id": "4a5b2020",
   "metadata": {},
   "outputs": [
    {
     "name": "stdout",
     "output_type": "stream",
     "text": [
      "3.526955675976101\n"
     ]
    }
   ],
   "source": [
    "opened_file = open('AppleStore.csv', encoding=\"utf8\")\n",
    "from csv import reader\n",
    "read_file = reader(opened_file)\n",
    "apps_data = list(read_file)\n",
    "\n",
    "rating_sum = 0\n",
    "for row in apps_data[1:]:\n",
    "    rating = float(row[7])\n",
    "    rating_sum = rating_sum + rating\n",
    "avg_rating = rating_sum / len(apps_data[1:])\n",
    "print(avg_rating)"
   ]
  },
  {
   "cell_type": "markdown",
   "id": "f2923e39",
   "metadata": {},
   "source": [
    "Extracting values into new list using append:"
   ]
  },
  {
   "cell_type": "code",
   "execution_count": 13,
   "id": "e3d89b78",
   "metadata": {},
   "outputs": [
    {
     "name": "stdout",
     "output_type": "stream",
     "text": [
      "3.526955675976101\n"
     ]
    }
   ],
   "source": [
    "opened_file = open('AppleStore.csv', encoding=\"utf8\")\n",
    "from csv import reader\n",
    "read_file = reader(opened_file)\n",
    "apps_data = list(read_file)\n",
    "\n",
    "rating_sum = []\n",
    "for row in apps_data[1:]:\n",
    "    rating = float(row[7])\n",
    "    rating_sum.append(rating)\n",
    "\n",
    "avg_rating = sum(rating_sum) / len(rating_sum)\n",
    "print(avg_rating)"
   ]
  },
  {
   "cell_type": "markdown",
   "id": "47994858",
   "metadata": {},
   "source": [
    "## Python If, Else, Elif Statements"
   ]
  },
  {
   "cell_type": "markdown",
   "id": "9e163621",
   "metadata": {},
   "source": [
    "Using conditions in for loop:"
   ]
  },
  {
   "cell_type": "code",
   "execution_count": 14,
   "id": "0fc8c35a",
   "metadata": {},
   "outputs": [
    {
     "name": "stdout",
     "output_type": "stream",
     "text": [
      "3.3767258382642997\n"
     ]
    }
   ],
   "source": [
    "opened_file = open('AppleStore.csv', encoding=\"utf8\")\n",
    "from csv import reader\n",
    "read_file = reader(opened_file)\n",
    "apps_data = list(read_file)\n",
    "\n",
    "free_apps_ratings = []\n",
    "for row in apps_data[1:]:\n",
    "    rating = float(row[7])\n",
    "    price = float(row[4])\n",
    "    if price == 0.0:\n",
    "        free_apps_ratings.append(rating)\n",
    "\n",
    "avg_rating_free = sum(free_apps_ratings) / len(free_apps_ratings)\n",
    "print(avg_rating_free)"
   ]
  },
  {
   "cell_type": "markdown",
   "id": "cac525a1",
   "metadata": {},
   "source": [
    "Using booleans:"
   ]
  },
  {
   "cell_type": "code",
   "execution_count": 15,
   "id": "f7022744",
   "metadata": {},
   "outputs": [
    {
     "name": "stdout",
     "output_type": "stream",
     "text": [
      "False\n",
      "True\n"
     ]
    }
   ],
   "source": [
    "a_price = 1\n",
    "print(a_price == 0)\n",
    "print(a_price == 1)"
   ]
  },
  {
   "cell_type": "markdown",
   "id": "d838be8f",
   "metadata": {},
   "source": [
    "Using conditions in for loop again:"
   ]
  },
  {
   "cell_type": "code",
   "execution_count": 19,
   "id": "25060ef8",
   "metadata": {},
   "outputs": [
    {
     "name": "stdout",
     "output_type": "stream",
     "text": [
      "3.720948742438714\n"
     ]
    }
   ],
   "source": [
    "opened_file = open('AppleStore.csv', encoding=\"utf8\")\n",
    "from csv import reader\n",
    "read_file = reader(opened_file)\n",
    "apps_data = list(read_file)\n",
    "\n",
    "non_free_apps_ratings = []\n",
    "for row in apps_data[1:]:\n",
    "    rating = float(row[7])\n",
    "    price = float(row[4])   \n",
    "    if price != 0.0:\n",
    "        non_free_apps_ratings.append(rating)\n",
    "    \n",
    "avg_rating_non_free = sum(non_free_apps_ratings) / len(non_free_apps_ratings)\n",
    "print(avg_rating_non_free)"
   ]
  },
  {
   "cell_type": "code",
   "execution_count": 20,
   "id": "0dcf7cea",
   "metadata": {},
   "outputs": [
    {
     "name": "stdout",
     "output_type": "stream",
     "text": [
      "3.343928035982009\n"
     ]
    }
   ],
   "source": [
    "opened_file = open('AppleStore.csv', encoding=\"utf8\")\n",
    "from csv import reader\n",
    "read_file = reader(opened_file)\n",
    "apps_data = list(read_file)\n",
    "\n",
    "non_games_ratings = []\n",
    "for row in apps_data[1:]:\n",
    "    rating = float(row[7])\n",
    "    genre = row[11]\n",
    "    if genre != 'Games':\n",
    "        non_games_ratings.append(rating)\n",
    "\n",
    "avg_rating_non_games = sum(non_games_ratings) / len(non_games_ratings)\n",
    "print(avg_rating_non_games)"
   ]
  },
  {
   "cell_type": "markdown",
   "id": "35997eb4",
   "metadata": {},
   "source": [
    "## Python If, Else, Elif Statements: Multiple Conditions"
   ]
  },
  {
   "cell_type": "markdown",
   "id": "ff85b5e1",
   "metadata": {},
   "source": [
    "Multiple conditions in for loops:"
   ]
  },
  {
   "cell_type": "code",
   "execution_count": 18,
   "id": "9107d38b",
   "metadata": {},
   "outputs": [
    {
     "name": "stdout",
     "output_type": "stream",
     "text": [
      "3.5285777580859548\n"
     ]
    }
   ],
   "source": [
    "opened_file = open('AppleStore.csv', encoding=\"utf8\")\n",
    "from csv import reader\n",
    "read_file = reader(opened_file)\n",
    "apps_data = list(read_file)\n",
    "\n",
    "free_games_ratings = []\n",
    "for row in apps_data[1:]:\n",
    "    rating = float(row[7])\n",
    "    price = float(row[4])\n",
    "    genre = row[11]\n",
    "    # Complete code from here\n",
    "    if price == 0.0 and genre == 'Games':\n",
    "        free_games_ratings.append(rating)\n",
    "\n",
    "avg_rating_free_games = sum(free_games_ratings) / len(free_games_ratings)\n",
    "print(avg_rating_free_games)"
   ]
  },
  {
   "cell_type": "code",
   "execution_count": 21,
   "id": "8b99e517",
   "metadata": {},
   "outputs": [
    {
     "name": "stdout",
     "output_type": "stream",
     "text": [
      "3.655994043186895\n"
     ]
    }
   ],
   "source": [
    "opened_file = open('AppleStore.csv', encoding=\"utf8\")\n",
    "from csv import reader\n",
    "read_file = reader(opened_file)\n",
    "apps_data = list(read_file)\n",
    "\n",
    "games_social_ratings = []\n",
    "for row in apps_data[1:]:\n",
    "    rating = float(row[7])\n",
    "    genre = row[11]\n",
    "    # Complete code from here\n",
    "    if genre == 'Social Networking' or genre == 'Games':\n",
    "        games_social_ratings.append(rating)\n",
    "        \n",
    "avg_games_social = sum(games_social_ratings) / len(games_social_ratings)\n",
    "print(avg_games_social)"
   ]
  },
  {
   "cell_type": "markdown",
   "id": "cf7f54d6",
   "metadata": {},
   "source": [
    "Combining logical operators:"
   ]
  },
  {
   "cell_type": "code",
   "execution_count": 22,
   "id": "1039ee2a",
   "metadata": {},
   "outputs": [
    {
     "name": "stdout",
     "output_type": "stream",
     "text": [
      "3.8904235727440146\n"
     ]
    }
   ],
   "source": [
    "opened_file = open('AppleStore.csv', encoding=\"utf8\")\n",
    "from csv import reader\n",
    "read_file = reader(opened_file)\n",
    "apps_data = list(read_file)\n",
    "\n",
    "not_free_games_social_ratings = []\n",
    "for row in apps_data[1:]:\n",
    "    rating = float(row[7])\n",
    "    genre = row[11]\n",
    "    price = float(row[4])\n",
    "    \n",
    "    if (genre == 'Social Networking' or genre == 'Games') and price != 0:\n",
    "        not_free_games_social_ratings.append(rating)\n",
    "        \n",
    "avg_not_free = sum(not_free_games_social_ratings) / len(not_free_games_social_ratings)\n",
    "\n",
    "# Not-free apps (average)\n",
    "\n",
    "print(avg_not_free)"
   ]
  },
  {
   "cell_type": "markdown",
   "id": "f14fbc9c",
   "metadata": {},
   "source": [
    "Comparison operators:"
   ]
  },
  {
   "cell_type": "code",
   "execution_count": 23,
   "id": "acbc6921",
   "metadata": {},
   "outputs": [
    {
     "name": "stdout",
     "output_type": "stream",
     "text": [
      "y is not equal to z\n",
      "z is between x and y\n"
     ]
    }
   ],
   "source": [
    "x = -6\n",
    "y = 14\n",
    "z = 8.5\n",
    "\n",
    "if x > z:\n",
    "    print (\"x is greater than z\")\n",
    "    \n",
    "if y != z:\n",
    "    print (\"y is not equal to z\")\n",
    "    \n",
    "if (z>x and z<y):\n",
    "    print(\"z is between x and y\")"
   ]
  },
  {
   "cell_type": "markdown",
   "id": "e28567d1",
   "metadata": {},
   "source": [
    "Applying comparison operators:"
   ]
  },
  {
   "cell_type": "code",
   "execution_count": 24,
   "id": "1aae8050",
   "metadata": {},
   "outputs": [
    {
     "name": "stdout",
     "output_type": "stream",
     "text": [
      "3.5280898876404496\n",
      "7019\n",
      "178\n"
     ]
    }
   ],
   "source": [
    "opened_file = open('AppleStore.csv', encoding=\"utf8\")\n",
    "from csv import reader\n",
    "read_file = reader(opened_file)\n",
    "apps_data = list(read_file)\n",
    "\n",
    "ratings = []\n",
    "for row in apps_data[1:]:\n",
    "    rating = float(row[7])\n",
    "    price = float(row[4])\n",
    "    if price > 9:\n",
    "        ratings.append(rating)\n",
    "        \n",
    "avg_rating = sum(ratings) / len(ratings)\n",
    "\n",
    "n_apps_more_9 = len(ratings)\n",
    "n_apps_less_9 = len(apps_data[1:]) - len(ratings)\n",
    "\n",
    "print(avg_rating)\n",
    "print(n_apps_less_9)\n",
    "print(n_apps_more_9)"
   ]
  },
  {
   "cell_type": "markdown",
   "id": "cb6bf1d0",
   "metadata": {},
   "source": [
    "Using else clause:"
   ]
  },
  {
   "cell_type": "code",
   "execution_count": 25,
   "id": "2d6a2b7e",
   "metadata": {
    "scrolled": true
   },
   "outputs": [
    {
     "name": "stdout",
     "output_type": "stream",
     "text": [
      "[['id', 'track_name', 'size_bytes', 'currency', 'price', 'rating_count_tot', 'rating_count_ver', 'user_rating', 'user_rating_ver', 'ver', 'cont_rating', 'prime_genre', 'sup_devices.num', 'ipadSc_urls.num', 'lang.num', 'vpp_lic', 'free_or_not'], ['284882215', 'Facebook', '389879808', 'USD', '0.0', '2974676', '212', '3.5', '3.5', '95.0', '4+', 'Social Networking', '37', '1', '29', '1', 'free'], ['389801252', 'Instagram', '113954816', 'USD', '0.0', '2161558', '1289', '4.5', '4.0', '10.23', '12+', 'Photo & Video', '37', '0', '29', '1', 'free'], ['529479190', 'Clash of Clans', '116476928', 'USD', '0.0', '2130805', '579', '4.5', '4.5', '9.24.12', '9+', 'Games', '38', '5', '18', '1', 'free'], ['420009108', 'Temple Run', '65921024', 'USD', '0.0', '1724546', '3842', '4.5', '4.0', '1.6.2', '9+', 'Games', '40', '5', '1', '1', 'free'], ['284035177', 'Pandora - Music & Radio', '130242560', 'USD', '0.0', '1126879', '3594', '4.0', '4.5', '8.4.1', '12+', 'Music', '37', '4', '1', '1', 'free']]\n"
     ]
    }
   ],
   "source": [
    "opened_file = open('AppleStore.csv', encoding=\"utf8\")\n",
    "from csv import reader\n",
    "read_file = reader(opened_file)\n",
    "apps_data = list(read_file)\n",
    "\n",
    "for app in apps_data[1:]:\n",
    "    price = float(app[4])\n",
    "    # Complete code from here\n",
    "    if price == 0.0:\n",
    "        app.append('free')\n",
    "    else:\n",
    "        app.append('not free')\n",
    "apps_data[0].append('free_or_not')\n",
    "print(apps_data[:6])"
   ]
  },
  {
   "cell_type": "markdown",
   "id": "b5610a4d",
   "metadata": {},
   "source": [
    "Using elif clause:"
   ]
  },
  {
   "cell_type": "code",
   "execution_count": 26,
   "id": "fb6a2f2f",
   "metadata": {},
   "outputs": [
    {
     "name": "stdout",
     "output_type": "stream",
     "text": [
      "[['Facebook', 3.5, 'roughly average'], ['Notion', 4.0, 'better than average'], ['Astropad Standard', 4.5, 'better than average'], ['NAVIGON Europe', 3.5, 'roughly average']]\n"
     ]
    }
   ],
   "source": [
    "app_ratings = [['Facebook', 3.5], ['Notion', 4.0], ['Astropad Standard', 4.5], ['NAVIGON Europe', 3.5]]\n",
    "\n",
    "for app in app_ratings:\n",
    "    rating = float(app[1])\n",
    "    if rating < 3.0:\n",
    "        app.append('below average')\n",
    "    elif rating > 3.0 and rating < 4.0:\n",
    "        app.append('roughly average')\n",
    "    elif rating >= 4:\n",
    "        app.append('better than average')\n",
    "print(app_ratings)"
   ]
  },
  {
   "cell_type": "markdown",
   "id": "39d3eaa2",
   "metadata": {},
   "source": []
  },
  {
   "cell_type": "code",
   "execution_count": 28,
   "id": "02dd5555",
   "metadata": {},
   "outputs": [
    {
     "name": "stdout",
     "output_type": "stream",
     "text": [
      "[['id', 'track_name', 'size_bytes', 'currency', 'price', 'rating_count_tot', 'rating_count_ver', 'user_rating', 'user_rating_ver', 'ver', 'cont_rating', 'prime_genre', 'sup_devices.num', 'ipadSc_urls.num', 'lang.num', 'vpp_lic', 'price_label'], ['284882215', 'Facebook', '389879808', 'USD', '0.0', '2974676', '212', '3.5', '3.5', '95.0', '4+', 'Social Networking', '37', '1', '29', '1', 'free'], ['389801252', 'Instagram', '113954816', 'USD', '0.0', '2161558', '1289', '4.5', '4.0', '10.23', '12+', 'Photo & Video', '37', '0', '29', '1', 'free'], ['529479190', 'Clash of Clans', '116476928', 'USD', '0.0', '2130805', '579', '4.5', '4.5', '9.24.12', '9+', 'Games', '38', '5', '18', '1', 'free'], ['420009108', 'Temple Run', '65921024', 'USD', '0.0', '1724546', '3842', '4.5', '4.0', '1.6.2', '9+', 'Games', '40', '5', '1', '1', 'free'], ['284035177', 'Pandora - Music & Radio', '130242560', 'USD', '0.0', '1126879', '3594', '4.0', '4.5', '8.4.1', '12+', 'Music', '37', '4', '1', '1', 'free']]\n"
     ]
    }
   ],
   "source": [
    "opened_file = open('AppleStore.csv', encoding=\"utf8\")\n",
    "from csv import reader\n",
    "read_file = reader(opened_file)\n",
    "apps_data = list(read_file)\n",
    "\n",
    "for app in apps_data[1:]:\n",
    "    price = float(app[4])\n",
    "    if price == 0:\n",
    "        app.append('free')\n",
    "    elif price > 0.0 and price < 20:\n",
    "        app.append('affordable')\n",
    "    elif price >= 20 and price < 50:\n",
    "        app.append('expensive')\n",
    "    elif price >= 50:\n",
    "        app.append('very expensive')\n",
    "        \n",
    "apps_data[0].append('price_label')\n",
    "print(apps_data[:6])"
   ]
  },
  {
   "cell_type": "markdown",
   "id": "a09449fe",
   "metadata": {},
   "source": [
    "## Python Dictionaries"
   ]
  },
  {
   "cell_type": "markdown",
   "id": "08a01c41",
   "metadata": {},
   "source": [
    "Storing list data in a table:"
   ]
  },
  {
   "cell_type": "code",
   "execution_count": 29,
   "id": "8b6f8f7a",
   "metadata": {},
   "outputs": [
    {
     "name": "stdout",
     "output_type": "stream",
     "text": [
      "[['4+', '9+', '12+', '17+'], [4433, 987, 1155, 622]]\n"
     ]
    }
   ],
   "source": [
    "content_ratings = ['4+', '9+', '12+', '17+']\n",
    "numbers = [4433, 987, 1155, 622]\n",
    "content_rating_numbers = [content_ratings,numbers]\n",
    "print(content_rating_numbers)"
   ]
  },
  {
   "cell_type": "markdown",
   "id": "81ecfff7",
   "metadata": {},
   "source": [
    "Creating a dictionary:"
   ]
  },
  {
   "cell_type": "code",
   "execution_count": 30,
   "id": "84130a4a",
   "metadata": {},
   "outputs": [
    {
     "name": "stdout",
     "output_type": "stream",
     "text": [
      "{'4+': 4433, '9+': 987, '12+': 1155, '17+': 622}\n"
     ]
    }
   ],
   "source": [
    "content_ratings = {'4+': 4433, '9+': 987, '12+': 1155, '17+': 622}\n",
    "print(content_ratings)"
   ]
  },
  {
   "cell_type": "markdown",
   "id": "b569bd92",
   "metadata": {},
   "source": [
    "Retreiving values from a dictionary:"
   ]
  },
  {
   "cell_type": "code",
   "execution_count": 31,
   "id": "425d485d",
   "metadata": {},
   "outputs": [
    {
     "name": "stdout",
     "output_type": "stream",
     "text": [
      "4433\n",
      "1155\n",
      "4433\n",
      "1155\n",
      "987\n",
      "622\n"
     ]
    }
   ],
   "source": [
    "content_ratings = {'4+': 4433, '9+': 987, '12+': 1155, '17+': 622}\n",
    "\n",
    "## how we retrieve individual elements from a list using index numbers\n",
    "numbers = [4433, 987, 1155, 622]\n",
    "print(numbers[0])\n",
    "print(numbers[2])\n",
    "\n",
    "## The equivalent when we name the index position\n",
    "print(content_ratings['4+'])\n",
    "print(content_ratings['12+'])\n",
    "\n",
    "## The equivalent when we assign dictionary values to variables\n",
    "over_9 = content_ratings['9+']\n",
    "over_17 = content_ratings['17+']\n",
    "print(over_9)\n",
    "print(over_17)"
   ]
  },
  {
   "cell_type": "markdown",
   "id": "93ff1ed1",
   "metadata": {},
   "source": [
    "Creating a dictionary:"
   ]
  },
  {
   "cell_type": "code",
   "execution_count": 32,
   "id": "7b006d22",
   "metadata": {},
   "outputs": [
    {
     "name": "stdout",
     "output_type": "stream",
     "text": [
      "{'4+': 4433, '9+': 987, '12+': 1155, '17+': 622}\n",
      "1155\n"
     ]
    }
   ],
   "source": [
    "## Create an empty dictionary\n",
    "content_ratings = {}\n",
    "\n",
    "## Add a value (4433 at index '4+')\n",
    "## dictionary_name[index] = value\n",
    "content_ratings['4+'] = 4433\n",
    "\n",
    "content_ratings['9+'] = 987\n",
    "content_ratings['12+'] = 1155\n",
    "content_ratings['17+'] = 622\n",
    "\n",
    "print(content_ratings)\n",
    "\n",
    "over_12_n_apps = content_ratings['12+']\n",
    "print(over_12_n_apps)"
   ]
  },
  {
   "cell_type": "markdown",
   "id": "902ee778",
   "metadata": {},
   "source": [
    "Creating a dictionary with lists and inner keys as values. These cannot be used as dictionary keys:"
   ]
  },
  {
   "cell_type": "code",
   "execution_count": 33,
   "id": "76372d79",
   "metadata": {},
   "outputs": [
    {
     "name": "stdout",
     "output_type": "stream",
     "text": [
      "{'key_1': 'first_value', 'key_2': 2, 'key_3': 3.14, 'key_4': True, 'key_5': [4, 2, 1], 'key_6': {'inner_key': 6}}\n"
     ]
    }
   ],
   "source": [
    "d_1={'key_1': 'first_value', \n",
    " 'key_2': 2,\n",
    " 'key_3': 3.14,\n",
    " 'key_4': True,\n",
    " 'key_5': [4,2,1],\n",
    " 'key_6': {'inner_key' : 6}\n",
    " }\n",
    "print(d_1)"
   ]
  },
  {
   "cell_type": "markdown",
   "id": "646699d9",
   "metadata": {},
   "source": [
    "## Python Dictionaries and Frequency Tables"
   ]
  },
  {
   "cell_type": "markdown",
   "id": "b9da0a0d",
   "metadata": {},
   "source": [
    "Checking for keys in a dictionary:"
   ]
  },
  {
   "cell_type": "code",
   "execution_count": 34,
   "id": "bd73dd81",
   "metadata": {},
   "outputs": [
    {
     "name": "stdout",
     "output_type": "stream",
     "text": [
      "True\n",
      "False\n",
      "It exists\n"
     ]
    }
   ],
   "source": [
    "content_ratings = {'4+': 4433, '9+': 987, '12+': 1155, '17+': 622}\n",
    "is_in_dictionary_1 = '9+' in content_ratings\n",
    "print(is_in_dictionary_1)\n",
    "is_in_dictionary_2 = 987 in content_ratings\n",
    "print(is_in_dictionary_2)\n",
    "result = \"It exists\"\n",
    "if '17+' in content_ratings:\n",
    "    result = \"It exists\"\n",
    "    print(result)"
   ]
  },
  {
   "cell_type": "markdown",
   "id": "701f071b",
   "metadata": {},
   "source": [
    "Updating dictionary values:"
   ]
  },
  {
   "cell_type": "code",
   "execution_count": 35,
   "id": "6e1ac6a4",
   "metadata": {},
   "outputs": [
    {
     "name": "stdout",
     "output_type": "stream",
     "text": [
      "{'4+': 4433, '12+': 1155, '9+': 987, '17+': 622}\n"
     ]
    }
   ],
   "source": [
    "content_ratings = {'4+': 622, '12+': '1155', '9+': 987, '17+': 4433}\n",
    "\n",
    "temp = content_ratings['4+']\n",
    "content_ratings['4+'] = content_ratings['17+']\n",
    "content_ratings['17+'] = temp\n",
    "content_ratings['12+'] = int(content_ratings['12+'])\n",
    "print(content_ratings)"
   ]
  },
  {
   "cell_type": "markdown",
   "id": "06e9d663",
   "metadata": {},
   "source": [
    "Counting with dictionaries:"
   ]
  },
  {
   "cell_type": "code",
   "execution_count": 36,
   "id": "1d3443f9",
   "metadata": {},
   "outputs": [
    {
     "name": "stdout",
     "output_type": "stream",
     "text": [
      "{'4+': 4433, '9+': 987, '12+': 1155, '17+': 622}\n"
     ]
    }
   ],
   "source": [
    "opened_file = open('AppleStore.csv', encoding=\"utf8\")\n",
    "from csv import reader\n",
    "read_file = reader(opened_file)\n",
    "apps_data = list(read_file)\n",
    "\n",
    "content_ratings = {'4+':0, '9+':0, '12+':0, '17+':0}\n",
    "for row in apps_data[1:]:\n",
    "    c_rating = row[10]\n",
    "    if c_rating in content_ratings:\n",
    "        content_ratings[c_rating] += 1\n",
    "        \n",
    "print(content_ratings)"
   ]
  },
  {
   "cell_type": "markdown",
   "id": "665e42c5",
   "metadata": {},
   "source": [
    "Finding unique values to create a dictionary as your progress:"
   ]
  },
  {
   "cell_type": "code",
   "execution_count": 37,
   "id": "5dfffab0",
   "metadata": {},
   "outputs": [
    {
     "name": "stdout",
     "output_type": "stream",
     "text": [
      "{'4+': 4433, '12+': 1155, '9+': 987, '17+': 622}\n"
     ]
    }
   ],
   "source": [
    "opened_file = open('AppleStore.csv', encoding=\"utf8\")\n",
    "from csv import reader\n",
    "read_file = reader(opened_file)\n",
    "apps_data = list(read_file)\n",
    "\n",
    "content_ratings = {}\n",
    "for row in apps_data[1:]:\n",
    "    c_rating = row[10]\n",
    "    if c_rating in content_ratings:\n",
    "        content_ratings[c_rating] += 1\n",
    "    else:\n",
    "        content_ratings[c_rating] = 1\n",
    "    \n",
    "print(content_ratings)\n",
    "        \n",
    "    "
   ]
  },
  {
   "cell_type": "code",
   "execution_count": 38,
   "id": "15a52825",
   "metadata": {},
   "outputs": [
    {
     "name": "stdout",
     "output_type": "stream",
     "text": [
      "{'Social Networking': 167, 'Photo & Video': 349, 'Games': 3862, 'Music': 138, 'Reference': 64, 'Health & Fitness': 180, 'Weather': 72, 'Utilities': 248, 'Travel': 81, 'Shopping': 122, 'News': 75, 'Navigation': 46, 'Lifestyle': 144, 'Entertainment': 535, 'Food & Drink': 63, 'Sports': 114, 'Book': 112, 'Finance': 104, 'Education': 453, 'Productivity': 178, 'Business': 57, 'Catalogs': 10, 'Medical': 23}\n"
     ]
    }
   ],
   "source": [
    "opened_file = open('AppleStore.csv', encoding=\"utf8\")\n",
    "from csv import reader\n",
    "read_file = reader(opened_file)\n",
    "apps_data = list(read_file)\n",
    "\n",
    "genre_counting = {}\n",
    "for row in apps_data[1:]:\n",
    "    genre = row[11]\n",
    "    if genre in genre_counting:\n",
    "        genre_counting[genre] +=1\n",
    "    else:\n",
    "        genre_counting[genre] = 1\n",
    "print(genre_counting)"
   ]
  },
  {
   "cell_type": "markdown",
   "id": "9f6d6ff5",
   "metadata": {},
   "source": [
    "Converting to percentages:"
   ]
  },
  {
   "cell_type": "code",
   "execution_count": 39,
   "id": "c221f123",
   "metadata": {
    "scrolled": true
   },
   "outputs": [
    {
     "name": "stdout",
     "output_type": "stream",
     "text": [
      "The key is 4+\n",
      "There are 4433 apps with this rating.\n",
      "This makes up 61.6 & of the apps.\n",
      "The key is 12+\n",
      "There are 1155 apps with this rating.\n",
      "This makes up 16.05 & of the apps.\n",
      "The key is 9+\n",
      "There are 987 apps with this rating.\n",
      "This makes up 13.71 & of the apps.\n",
      "The key is 17+\n",
      "There are 622 apps with this rating.\n",
      "This makes up 8.64 & of the apps.\n",
      "8.642489926358204\n",
      "91.35751007364179\n"
     ]
    }
   ],
   "source": [
    "content_ratings = {'4+': 4433, '12+': 1155, '9+': 987, '17+': 622}\n",
    "total_number_of_apps = 7197\n",
    "\n",
    "for rating in content_ratings:\n",
    "    print(\"The key is\", rating)\n",
    "    print(\"There are\",content_ratings[rating],\"apps with this rating.\")\n",
    "    content_ratings[rating] = (content_ratings[rating]/total_number_of_apps) \n",
    "    content_ratings[rating] *= 100\n",
    "    print(\"This makes up\", round(content_ratings[rating],2), \"& of the apps.\")\n",
    "\n",
    "percentage_17_plus=content_ratings['17+']\n",
    "percentage_15_allowed = content_ratings['4+']+content_ratings['12+']+content_ratings['9+']\n",
    "\n",
    "print(percentage_17_plus)\n",
    "print(percentage_15_allowed)                             "
   ]
  },
  {
   "cell_type": "markdown",
   "id": "a25bcc52",
   "metadata": {},
   "source": [
    "Keeping dictionaries separate:"
   ]
  },
  {
   "cell_type": "code",
   "execution_count": 40,
   "id": "8cea0882",
   "metadata": {},
   "outputs": [
    {
     "name": "stdout",
     "output_type": "stream",
     "text": [
      "{'4+': 0.6159510907322495, '12+': 0.16048353480616923, '9+': 0.13714047519799916, '17+': 0.08642489926358204}\n",
      "{'4+': 61.595109073224954, '12+': 16.04835348061692, '9+': 13.714047519799916, '17+': 8.642489926358204}\n"
     ]
    }
   ],
   "source": [
    "content_ratings = {'4+': 4433, '12+': 1155, '9+': 987, '17+': 622}\n",
    "total_number_of_apps = 7197\n",
    "\n",
    "c_ratings_proportions = {}\n",
    "c_ratings_percentages = {}\n",
    "\n",
    "for key in content_ratings:\n",
    "    proportion = content_ratings[key] / total_number_of_apps\n",
    "    percentage = (content_ratings[key] / total_number_of_apps) * 100\n",
    "    c_ratings_proportions[key] = proportion\n",
    "    c_ratings_percentages[key] = percentage\n",
    "    \n",
    "print(c_ratings_proportions)\n",
    "print(c_ratings_percentages)"
   ]
  },
  {
   "cell_type": "markdown",
   "id": "f27f3548",
   "metadata": {},
   "source": [
    "Frequency tables for numerical columns:"
   ]
  },
  {
   "cell_type": "code",
   "execution_count": 41,
   "id": "e7ec4bfb",
   "metadata": {},
   "outputs": [
    {
     "name": "stdout",
     "output_type": "stream",
     "text": [
      "589824.0\n",
      "4025969664.0\n"
     ]
    }
   ],
   "source": [
    "opened_file = open('AppleStore.csv', encoding=\"utf8\")\n",
    "from csv import reader\n",
    "read_file = reader(opened_file)\n",
    "apps_data = list(read_file)\n",
    "\n",
    "data_sizes = []\n",
    "for row in apps_data[1:]:\n",
    "    size = float(row[2])\n",
    "    data_sizes.append(size)\n",
    "\n",
    "min_size = min(data_sizes)\n",
    "max_size = max(data_sizes)\n",
    "print(min_size)\n",
    "print(max_size)"
   ]
  },
  {
   "cell_type": "markdown",
   "id": "b84fc0ba",
   "metadata": {},
   "source": [
    "Filtering for intervals:"
   ]
  },
  {
   "cell_type": "code",
   "execution_count": 42,
   "id": "6e53918a",
   "metadata": {},
   "outputs": [
    {
     "name": "stdout",
     "output_type": "stream",
     "text": [
      "0\n",
      "2974676\n",
      "{'0 - 1000': 4597, '1000 - 10000': 1584, '10000 - 100000': 798, '100000+': 218}\n"
     ]
    }
   ],
   "source": [
    "opened_file = open('AppleStore.csv', encoding=\"utf8\")\n",
    "from csv import reader\n",
    "read_file = reader(opened_file)\n",
    "apps_data = list(read_file)\n",
    "\n",
    "ratings_count = []\n",
    "\n",
    "for row in apps_data[1:]:\n",
    "    total_ratings = int(row[5])\n",
    "    ratings_count.append(total_ratings)\n",
    "\n",
    "min_ratings = min(ratings_count)\n",
    "max_ratings = max(ratings_count)\n",
    "print(min_ratings)\n",
    "print(max_ratings)\n",
    "\n",
    "rating_intervals = {'0 - 1000':0, '1000 - 10000':0, '10000 - 100000':0,'100000+':0}\n",
    "\n",
    "for row in apps_data[1:]:\n",
    "    total_ratings = int(row[5])\n",
    "    if total_ratings <= 1000:\n",
    "        rating_intervals['0 - 1000'] += 1\n",
    "    elif 1000 < total_ratings <= 10000:\n",
    "        rating_intervals['1000 - 10000'] += 1\n",
    "    elif 10000 < total_ratings <= 100000:\n",
    "        rating_intervals['10000 - 100000'] += 1\n",
    "    elif total_ratings > 100000:\n",
    "        rating_intervals['100000+'] += 1\n",
    "\n",
    "print(rating_intervals)"
   ]
  }
 ],
 "metadata": {
  "kernelspec": {
   "display_name": "Python 3 (ipykernel)",
   "language": "python",
   "name": "python3"
  },
  "language_info": {
   "codemirror_mode": {
    "name": "ipython",
    "version": 3
   },
   "file_extension": ".py",
   "mimetype": "text/x-python",
   "name": "python",
   "nbconvert_exporter": "python",
   "pygments_lexer": "ipython3",
   "version": "3.10.13"
  }
 },
 "nbformat": 4,
 "nbformat_minor": 5
}
