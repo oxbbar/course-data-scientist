{
 "cells": [
  {
   "cell_type": "markdown",
   "id": "e9f9507a",
   "metadata": {},
   "source": [
    "# Part 1.1: Introduction to Python Programming"
   ]
  },
  {
   "cell_type": "markdown",
   "id": "6c1dd124",
   "metadata": {},
   "source": [
    "## Python Programming"
   ]
  },
  {
   "cell_type": "markdown",
   "id": "a210693c",
   "metadata": {},
   "source": [
    "Instructing a basic print:"
   ]
  },
  {
   "cell_type": "code",
   "execution_count": 1,
   "id": "68b57490",
   "metadata": {},
   "outputs": [
    {
     "name": "stdout",
     "output_type": "stream",
     "text": [
      "30\n"
     ]
    }
   ],
   "source": [
    "print(23 + 7)"
   ]
  },
  {
   "cell_type": "markdown",
   "id": "fd113588",
   "metadata": {},
   "source": [
    "Using the print() function with more than one calculation:"
   ]
  },
  {
   "cell_type": "code",
   "execution_count": 2,
   "id": "e58c7bc8",
   "metadata": {},
   "outputs": [
    {
     "name": "stdout",
     "output_type": "stream",
     "text": [
      "6.99\n",
      "1.0\n"
     ]
    }
   ],
   "source": [
    "print (0.00 + 6.99)\n",
    "print(4.5 - 3.5)"
   ]
  },
  {
   "cell_type": "markdown",
   "id": "bb1bd6fb",
   "metadata": {},
   "source": [
    "Basic arithmetical operations:"
   ]
  },
  {
   "cell_type": "code",
   "execution_count": 3,
   "id": "0b5ebd86",
   "metadata": {},
   "outputs": [
    {
     "name": "stdout",
     "output_type": "stream",
     "text": [
      "160\n",
      "9.6\n",
      "125\n"
     ]
    }
   ],
   "source": [
    "print(16*10)\n",
    "print(48/5)\n",
    "print(5**3)"
   ]
  },
  {
   "cell_type": "markdown",
   "id": "47994858",
   "metadata": {},
   "source": [
    "## Programming Python Variables"
   ]
  },
  {
   "cell_type": "markdown",
   "id": "5ac54fc6",
   "metadata": {},
   "source": [
    "Save the result of an operation, then print it:"
   ]
  },
  {
   "cell_type": "code",
   "execution_count": 4,
   "id": "e284b45a",
   "metadata": {},
   "outputs": [
    {
     "name": "stdout",
     "output_type": "stream",
     "text": [
      "13.98\n"
     ]
    }
   ],
   "source": [
    "result = 6.99 * 2\n",
    "print(result)"
   ]
  },
  {
   "cell_type": "markdown",
   "id": "5dd6c8da",
   "metadata": {},
   "source": [
    "Multiple operations:"
   ]
  },
  {
   "cell_type": "code",
   "execution_count": 5,
   "id": "7af86856",
   "metadata": {},
   "outputs": [
    {
     "name": "stdout",
     "output_type": "stream",
     "text": [
      "6.99\n",
      "3.98\n",
      "8.98\n"
     ]
    }
   ],
   "source": [
    "minecraft_cost = 6.99\n",
    "fruit_ninja_cost = 1.99 * 1\n",
    "print(minecraft_cost)\n",
    "print(fruit_ninja_cost + 1.99)\n",
    "print(minecraft_cost + fruit_ninja_cost)"
   ]
  },
  {
   "cell_type": "markdown",
   "id": "4574c897",
   "metadata": {},
   "source": [
    "Updating a saved variable:"
   ]
  },
  {
   "cell_type": "code",
   "execution_count": 6,
   "id": "1eb98d14",
   "metadata": {},
   "outputs": [
    {
     "name": "stdout",
     "output_type": "stream",
     "text": [
      "1220528\n"
     ]
    }
   ],
   "source": [
    "rating_count_totals = 698516\n",
    "# Update rating_count_totals below:\n",
    "rating_count_totals = rating_count_totals + 522012\n",
    "print(rating_count_totals)"
   ]
  },
  {
   "cell_type": "markdown",
   "id": "c80894bf",
   "metadata": {},
   "source": [
    "Determining and changing data types:"
   ]
  },
  {
   "cell_type": "code",
   "execution_count": 7,
   "id": "d8eb6575",
   "metadata": {},
   "outputs": [
    {
     "name": "stdout",
     "output_type": "stream",
     "text": [
      "<class 'int'>\n",
      "<class 'float'>\n",
      "0.0\n",
      "1\n",
      "6\n",
      "7\n",
      "2\n"
     ]
    }
   ],
   "source": [
    "print(type(0))\n",
    "print(type(0.0))\n",
    "print(float(0))\n",
    "print(int(1.99))\n",
    "print(int(6.99))\n",
    "print(round(6.99))\n",
    "print(round(1.99))"
   ]
  },
  {
   "cell_type": "markdown",
   "id": "320815e2",
   "metadata": {},
   "source": [
    "Using syntax shortcuts:"
   ]
  },
  {
   "cell_type": "code",
   "execution_count": 8,
   "id": "c5b2d7b9",
   "metadata": {},
   "outputs": [
    {
     "name": "stdout",
     "output_type": "stream",
     "text": [
      "1220528\n",
      "7.96\n"
     ]
    }
   ],
   "source": [
    "rating_count_totals = 698516\n",
    "rating_count_totals +=522012\n",
    "fruit_ninja_totals = 1.99\n",
    "fruit_ninja_totals *= 4\n",
    "print(rating_count_totals)\n",
    "print(fruit_ninja_totals)"
   ]
  },
  {
   "cell_type": "markdown",
   "id": "35997eb4",
   "metadata": {},
   "source": [
    "## Python Data Types: Integers, Floats, Strings"
   ]
  },
  {
   "cell_type": "markdown",
   "id": "63a88024",
   "metadata": {},
   "source": [
    "Mixing floats and integers:"
   ]
  },
  {
   "cell_type": "code",
   "execution_count": 9,
   "id": "3468d9b3",
   "metadata": {},
   "outputs": [
    {
     "name": "stdout",
     "output_type": "stream",
     "text": [
      "1.99\n",
      "20.97\n"
     ]
    }
   ],
   "source": [
    "personal_apps = 0\n",
    "personal_apps += 1.99\n",
    "gift_apps = 6.99\n",
    "gift_apps *= 3\n",
    "print(personal_apps)\n",
    "print(gift_apps)"
   ]
  },
  {
   "cell_type": "markdown",
   "id": "d07ffdbd",
   "metadata": {},
   "source": [
    "Conversion of types:"
   ]
  },
  {
   "cell_type": "code",
   "execution_count": 10,
   "id": "ebe625ba",
   "metadata": {},
   "outputs": [
    {
     "name": "stdout",
     "output_type": "stream",
     "text": [
      "Data types and values before:\n",
      "<class 'float'>\n",
      "1.99\n",
      "<class 'float'>\n",
      "20.97\n",
      "Data types and values after:\n",
      "<class 'int'>\n",
      "2\n",
      "<class 'int'>\n",
      "20\n"
     ]
    }
   ],
   "source": [
    "personal_apps = 0\n",
    "personal_apps += 1.99\n",
    "\n",
    "gift_apps = 6.99\n",
    "gift_apps *= 3 \n",
    "\n",
    "print(\"Data types and values before:\")\n",
    "print(type(personal_apps))\n",
    "print(personal_apps)\n",
    "print(type(gift_apps))\n",
    "print(gift_apps)\n",
    "\n",
    "personal_apps = round(personal_apps)\n",
    "gift_apps = int(gift_apps)\n",
    "\n",
    "print(\"Data types and values after:\")\n",
    "print(type(personal_apps))\n",
    "print(personal_apps)\n",
    "print(type(gift_apps))\n",
    "print(gift_apps)"
   ]
  },
  {
   "cell_type": "markdown",
   "id": "8d99fb78",
   "metadata": {},
   "source": [
    "Using strings, concatenates and working around special characters:"
   ]
  },
  {
   "cell_type": "code",
   "execution_count": 13,
   "id": "b1ea8fa1",
   "metadata": {},
   "outputs": [
    {
     "name": "stdout",
     "output_type": "stream",
     "text": [
      "Facebook's rating is 3.5\n"
     ]
    }
   ],
   "source": [
    "facebook = 'Facebook\\'s rating is'\n",
    "fb_rating_str = \"3.5\"\n",
    "fb = (facebook + \" \" + fb_rating_str)\n",
    "print(fb)"
   ]
  },
  {
   "cell_type": "markdown",
   "id": "bc5ba219",
   "metadata": {},
   "source": [
    "Converting to strings and concatenating:"
   ]
  },
  {
   "cell_type": "code",
   "execution_count": 14,
   "id": "90122f8a",
   "metadata": {},
   "outputs": [
    {
     "name": "stdout",
     "output_type": "stream",
     "text": [
      "Facebook's rating is 3.5\n"
     ]
    }
   ],
   "source": [
    "facebook = \"Facebook\\'s rating is\"\n",
    "fb_rating = 3.5\n",
    "fb_rating_str = str(fb_rating)\n",
    "fb = facebook + \" \" + fb_rating_str\n",
    "print(fb)"
   ]
  },
  {
   "cell_type": "markdown",
   "id": "a09449fe",
   "metadata": {},
   "source": [
    "## Python Lists"
   ]
  },
  {
   "cell_type": "markdown",
   "id": "f82ba0d6",
   "metadata": {},
   "source": [
    "Storing data in lists, then querying them and their length:"
   ]
  },
  {
   "cell_type": "code",
   "execution_count": 16,
   "id": "04ab2d91",
   "metadata": {},
   "outputs": [
    {
     "name": "stdout",
     "output_type": "stream",
     "text": [
      "['Instagram', 0.0, 'USD', 2161558, 4.5]\n"
     ]
    },
    {
     "data": {
      "text/plain": [
       "5"
      ]
     },
     "execution_count": 16,
     "metadata": {},
     "output_type": "execute_result"
    }
   ],
   "source": [
    "row_2 = ['Instagram', 0.0, 'USD', 2161558, 4.5]\n",
    "row_3 = ['Clash of Clans', 0.0, 'USD', 2130805, 4.5]\n",
    "print(row_2)\n",
    "len(row_3)"
   ]
  },
  {
   "cell_type": "markdown",
   "id": "d9643b05",
   "metadata": {},
   "source": [
    "Retrieving individual elements from lists, then using arithmetical operations:"
   ]
  },
  {
   "cell_type": "code",
   "execution_count": 17,
   "id": "7b788687",
   "metadata": {},
   "outputs": [
    {
     "name": "stdout",
     "output_type": "stream",
     "text": [
      "2422346.3333333335\n"
     ]
    }
   ],
   "source": [
    "row_1 = ['Facebook', 0.0, 'USD', 2974676, 3.5]\n",
    "row_2 = ['Instagram', 0.0, 'USD', 2161558, 4.5]\n",
    "row_3 = ['Clash of Clans', 0.0, 'USD', 2130805, 4.5]\n",
    "\n",
    "ratings_1 = row_1[3]\n",
    "ratings_2 = row_2[3]\n",
    "ratings_3 = row_3[3]\n",
    "total = ratings_1 + ratings_2 + ratings_3\n",
    "average = total /3\n",
    "print(average)"
   ]
  },
  {
   "cell_type": "markdown",
   "id": "4791e72c",
   "metadata": {},
   "source": [
    "Retrieving multiple elements of a list in one line:"
   ]
  },
  {
   "cell_type": "code",
   "execution_count": 18,
   "id": "d2606431",
   "metadata": {},
   "outputs": [
    {
     "name": "stdout",
     "output_type": "stream",
     "text": [
      "4.166666666666667\n"
     ]
    }
   ],
   "source": [
    "row_1 = ['Facebook', 0.0, 'USD', 2974676, 3.5]\n",
    "row_2 = ['Instagram', 0.0, 'USD', 2161558, 4.5]\n",
    "row_3 = ['Clash of Clans', 0.0, 'USD', 2130805, 4.5]\n",
    "row_4 = ['Fruit Ninja Classic', 1.99, 'USD', 698516, 4.5]\n",
    "row_5 = ['Minecraft: Pocket Edition', 6.99, 'USD', 522012, 4.5]\n",
    "fb_rating_data = [row_1[0], row_1[3], row_1[4]]\n",
    "insta_rating_data = [row_2[0], row_2[3], row_2[4]]\n",
    "minecraft_rating_data = [row_5[0], row_5[3], row_5[4]]\n",
    "total_rating = fb_rating_data[2] + insta_rating_data[2] + minecraft_rating_data[2]\n",
    "average_rating = total_rating / 3\n",
    "print(average_rating)"
   ]
  },
  {
   "cell_type": "markdown",
   "id": "2f637cd6",
   "metadata": {},
   "source": [
    "List slicing:"
   ]
  },
  {
   "cell_type": "code",
   "execution_count": 19,
   "id": "9ec154b3",
   "metadata": {},
   "outputs": [
    {
     "name": "stdout",
     "output_type": "stream",
     "text": [
      "['USD', 2974676, 3.5]\n",
      "['USD', 522012]\n"
     ]
    }
   ],
   "source": [
    "row_1 = ['Facebook', 0.0, 'USD', 2974676, 3.5]\n",
    "row_2 = ['Instagram', 0.0, 'USD', 2161558, 4.5]\n",
    "row_3 = ['Clash of Clans', 0.0, 'USD', 2130805, 4.5]\n",
    "row_4 = ['Fruit Ninja Classic', 1.99, 'USD', 698516, 4.5]\n",
    "row_5 = ['Minecraft: Pocket Edition', 6.99, 'USD', 522012, 4.5]\n",
    "last_3_fb = row_1[2:5]\n",
    "minecraft_3_4 = row_5[2:4]\n",
    "print(last_3_fb)\n",
    "print(minecraft_3_4)"
   ]
  },
  {
   "cell_type": "markdown",
   "id": "adcc2e13",
   "metadata": {},
   "source": [
    "Lists in lists:"
   ]
  },
  {
   "cell_type": "code",
   "execution_count": 20,
   "id": "f17f0562",
   "metadata": {},
   "outputs": [
    {
     "name": "stdout",
     "output_type": "stream",
     "text": [
      "[['Clash of Clans', 0.0, 'USD', 2130805, 4.5], ['Fruit Ninja Classic', 1.99, 'USD', 698516, 4.5], ['Minecraft: Pocket Edition', 6.99, 'USD', 522012, 4.5]]\n"
     ]
    }
   ],
   "source": [
    "row_1 = ['Facebook', 0.0, 'USD', 2974676, 3.5]\n",
    "row_2 = ['Instagram', 0.0, 'USD', 2161558, 4.5]\n",
    "row_3 = ['Clash of Clans', 0.0, 'USD', 2130805, 4.5]\n",
    "row_4 = ['Fruit Ninja Classic', 1.99, 'USD', 698516, 4.5]\n",
    "row_5 = ['Minecraft: Pocket Edition', 6.99, 'USD', 522012, 4.5]\n",
    "games_apps = [row_3, row_4, row_5]\n",
    "print(games_apps)"
   ]
  },
  {
   "cell_type": "markdown",
   "id": "b444efdf",
   "metadata": {},
   "source": [
    "Retrieving from lists of lists in shorter code:"
   ]
  },
  {
   "cell_type": "code",
   "execution_count": 21,
   "id": "ed8eda2c",
   "metadata": {},
   "outputs": [
    {
     "name": "stdout",
     "output_type": "stream",
     "text": [
      "[['Facebook', 0.0, 'USD', 2974676, 3.5], ['Instagram', 0.0, 'USD', 2161558, 4.5], ['Clash of Clans', 0.0, 'USD', 2130805, 4.5], ['Fruit Ninja Classic', 1.99, 'USD', 698516, 4.5], ['Minecraft: Pocket Edition', 6.99, 'USD', 522012, 4.5]]\n",
      "4.3\n"
     ]
    }
   ],
   "source": [
    "row_1 = ['Facebook', 0.0, 'USD', 2974676, 3.5]\n",
    "row_2 = ['Instagram', 0.0, 'USD', 2161558, 4.5]\n",
    "row_3 = ['Clash of Clans', 0.0, 'USD', 2130805, 4.5]\n",
    "row_4 = ['Fruit Ninja Classic', 1.99, 'USD', 698516, 4.5]\n",
    "row_5 = ['Minecraft: Pocket Edition', 6.99, 'USD', 522012, 4.5]\n",
    "app_data_set = [row_1, row_2, row_3, row_4, row_5]\n",
    "print(app_data_set)\n",
    "avg_rating = (app_data_set[0][4] + app_data_set[1][4] + app_data_set[2][4] + app_data_set[3][4] + app_data_set[4][4]) /5\n",
    "print(avg_rating)"
   ]
  }
 ],
 "metadata": {
  "kernelspec": {
   "display_name": "Python 3 (ipykernel)",
   "language": "python",
   "name": "python3"
  },
  "language_info": {
   "codemirror_mode": {
    "name": "ipython",
    "version": 3
   },
   "file_extension": ".py",
   "mimetype": "text/x-python",
   "name": "python",
   "nbconvert_exporter": "python",
   "pygments_lexer": "ipython3",
   "version": "3.10.13"
  }
 },
 "nbformat": 4,
 "nbformat_minor": 5
}
