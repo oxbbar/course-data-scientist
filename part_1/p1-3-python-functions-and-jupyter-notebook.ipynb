{
 "cells": [
  {
   "cell_type": "markdown",
   "id": "e9f9507a",
   "metadata": {},
   "source": [
    "# Part 1.3: Python Functions and Jupyter Notebook"
   ]
  },
  {
   "cell_type": "markdown",
   "id": "6c1dd124",
   "metadata": {},
   "source": [
    "## Python Functions: Using Built-in Functions and Creating Functions"
   ]
  },
  {
   "cell_type": "markdown",
   "id": "0df658c0",
   "metadata": {},
   "source": [
    "Usinh sum function:"
   ]
  },
  {
   "cell_type": "code",
   "execution_count": 1,
   "id": "848936ab",
   "metadata": {},
   "outputs": [
    {
     "name": "stdout",
     "output_type": "stream",
     "text": [
      "103945\n",
      "103945\n"
     ]
    }
   ],
   "source": [
    "a_list = [4444, 8897, 6340, 9896, 4835, 4324, 10, 6445,\n",
    "          661, 1246, 1000, 7429, 1376, 8121, 647, 1280,\n",
    "          3993, 4881, 9500, 6701, 1199, 6251, 4432, 37]\n",
    "\n",
    "## Functions take an input, process the input and return an output.\n",
    "\n",
    "## Without sum ()\n",
    "\n",
    "sum_manual = 0\n",
    "\n",
    "for value in a_list:\n",
    "    sum_manual += value\n",
    "\n",
    "print(sum_manual)\n",
    "\n",
    "## With sum()\n",
    "\n",
    "total_with_sum = sum(a_list)\n",
    "print(total_with_sum)"
   ]
  },
  {
   "cell_type": "markdown",
   "id": "5596cc2b",
   "metadata": {},
   "source": [
    "Generating a frequency table:"
   ]
  },
  {
   "cell_type": "code",
   "execution_count": 2,
   "id": "62072865",
   "metadata": {},
   "outputs": [
    {
     "name": "stdout",
     "output_type": "stream",
     "text": [
      "{'4+': 3, '9+': 1, '12+': 2, '17+': 2}\n"
     ]
    }
   ],
   "source": [
    "ratings = ['4+', '4+', '4+', '9+', '12+', '12+', '17+', '17+']\n",
    "\n",
    "content_ratings = {}\n",
    "\n",
    "for key in ratings:\n",
    "    if key in content_ratings:\n",
    "        content_ratings[key] += 1\n",
    "    else:\n",
    "        content_ratings[key] = 1\n",
    "print(content_ratings)"
   ]
  },
  {
   "cell_type": "markdown",
   "id": "7db26145",
   "metadata": {},
   "source": [
    "Defining a function:"
   ]
  },
  {
   "cell_type": "code",
   "execution_count": 3,
   "id": "51f738af",
   "metadata": {},
   "outputs": [
    {
     "name": "stdout",
     "output_type": "stream",
     "text": [
      "100\n",
      "256\n"
     ]
    }
   ],
   "source": [
    "## Creating a function that outputs the square of an input\n",
    "\n",
    "## def = define a Function\n",
    "## return = sending value back\n",
    "\n",
    "## def name_of_function(name_of_input_variable)\n",
    "    ## Function\n",
    "    ## return name_of_output_variable\n",
    "    \n",
    "def square(a_number):\n",
    "    squared_number = a_number * a_number\n",
    "    return squared_number\n",
    "\n",
    "squared_10 = square(10)\n",
    "squared_16 = square(16)\n",
    "print(squared_10)\n",
    "print(squared_16)"
   ]
  },
  {
   "cell_type": "code",
   "execution_count": 4,
   "id": "92c50616",
   "metadata": {},
   "outputs": [
    {
     "name": "stdout",
     "output_type": "stream",
     "text": [
      "40\n",
      "100\n"
     ]
    }
   ],
   "source": [
    "def add_10(input):\n",
    "    output = input + 10\n",
    "    return output\n",
    "\n",
    "add_30 = add_10(30)\n",
    "add_90 = add_10(90)\n",
    "\n",
    "print(add_30)\n",
    "print(add_90)"
   ]
  },
  {
   "cell_type": "code",
   "execution_count": 5,
   "id": "324d1e4e",
   "metadata": {
    "scrolled": false
   },
   "outputs": [
    {
     "name": "stdout",
     "output_type": "stream",
     "text": [
      "July 15, 2006\n",
      "February 4, 2004\n",
      "June 9, 1949\n"
     ]
    }
   ],
   "source": [
    "def date(month, day, year):\n",
    "    return month + \" \" + str(day) + \", \" + str(year)\n",
    "\n",
    "print(date(month=\"July\", day=\"15\", year=\"2006\"))\n",
    "print(date(month=\"February\", day=\"4\", year=\"2004\"))\n",
    "print(date(month=\"June\", day=\"9\", year=\"1949\"))"
   ]
  },
  {
   "cell_type": "markdown",
   "id": "73963571",
   "metadata": {},
   "source": [
    "Defining a function with optimised workflow:"
   ]
  },
  {
   "cell_type": "code",
   "execution_count": 7,
   "id": "7e96ecbf",
   "metadata": {},
   "outputs": [
    {
     "name": "stdout",
     "output_type": "stream",
     "text": [
      "36\n",
      "121\n"
     ]
    }
   ],
   "source": [
    "def square(input):\n",
    "    return input * input\n",
    "\n",
    "print(square(6))\n",
    "print(square(11))"
   ]
  },
  {
   "cell_type": "markdown",
   "id": "47994858",
   "metadata": {},
   "source": [
    "## Python Functions: Arguments, Parameters, and Debugging"
   ]
  },
  {
   "cell_type": "markdown",
   "id": "9e163621",
   "metadata": {},
   "source": [
    "Extracting values from columns:"
   ]
  },
  {
   "cell_type": "code",
   "execution_count": 11,
   "id": "0fc8c35a",
   "metadata": {},
   "outputs": [
    {
     "name": "stdout",
     "output_type": "stream",
     "text": [
      "The first 10 genres are ['Social Networking', 'Photo & Video', 'Games', 'Games', 'Music', 'Social Networking', 'Reference', 'Games', 'Music']\n"
     ]
    }
   ],
   "source": [
    "opened_file = open('AppleStore.csv', encoding=\"utf8\")\n",
    "from csv import reader\n",
    "read_file = reader(opened_file)\n",
    "apps_data = list(read_file)\n",
    "\n",
    "def extract(index):\n",
    "    your_list = []\n",
    "    for row in apps_data[1:]:\n",
    "        your_list.append(row[index])\n",
    "    return your_list\n",
    "\n",
    "genres = extract(11)\n",
    "print(\"The first 10 genres are\", genres[0:9])"
   ]
  },
  {
   "cell_type": "markdown",
   "id": "cac525a1",
   "metadata": {},
   "source": [
    "Generating frequency tables from above with a function:"
   ]
  },
  {
   "cell_type": "code",
   "execution_count": 25,
   "id": "f7022744",
   "metadata": {},
   "outputs": [
    {
     "name": "stdout",
     "output_type": "stream",
     "text": [
      "{'Social Networking': 167, 'Photo & Video': 349, 'Games': 3862, 'Music': 138, 'Reference': 64, 'Health & Fitness': 180, 'Weather': 72, 'Utilities': 248, 'Travel': 81, 'Shopping': 122, 'News': 75, 'Navigation': 46, 'Lifestyle': 144, 'Entertainment': 535, 'Food & Drink': 63, 'Sports': 114, 'Book': 112, 'Finance': 104, 'Education': 453, 'Productivity': 178, 'Business': 57, 'Catalogs': 10, 'Medical': 23}\n"
     ]
    }
   ],
   "source": [
    "def freq_table(list):\n",
    "    temp_table = {}\n",
    "    for value in list:\n",
    "        if value in temp_table:\n",
    "            temp_table[value] += 1\n",
    "        else:\n",
    "            temp_table[value] = 1\n",
    "    return temp_table\n",
    "\n",
    "genres_ft = freq_table(genres)\n",
    "print(genres_ft)"
   ]
  },
  {
   "cell_type": "markdown",
   "id": "d838be8f",
   "metadata": {},
   "source": [
    "Printing the above in a table:"
   ]
  },
  {
   "cell_type": "code",
   "execution_count": 50,
   "id": "25060ef8",
   "metadata": {},
   "outputs": [
    {
     "name": "stdout",
     "output_type": "stream",
     "text": [
      "Genre               Frequency\n",
      "Social Networking   167\n",
      "Photo & Video       349\n",
      "Games               3862\n",
      "Music               138\n",
      "Reference           64\n",
      "Health & Fitness    180\n",
      "Weather             72\n",
      "Utilities           248\n",
      "Travel              81\n",
      "Shopping            122\n",
      "News                75\n",
      "Navigation          46\n",
      "Lifestyle           144\n",
      "Entertainment       535\n",
      "Food & Drink        63\n",
      "Sports              114\n",
      "Book                112\n",
      "Finance             104\n",
      "Education           453\n",
      "Productivity        178\n",
      "Business            57\n",
      "Catalogs            10\n",
      "Medical             23\n",
      "                Genre  Frequency\n",
      "0   Social Networking        167\n",
      "1       Photo & Video        349\n",
      "2               Games       3862\n",
      "3               Music        138\n",
      "4           Reference         64\n",
      "5    Health & Fitness        180\n",
      "6             Weather         72\n",
      "7           Utilities        248\n",
      "8              Travel         81\n",
      "9            Shopping        122\n",
      "10               News         75\n",
      "11         Navigation         46\n",
      "12          Lifestyle        144\n",
      "13      Entertainment        535\n",
      "14       Food & Drink         63\n",
      "15             Sports        114\n",
      "16               Book        112\n",
      "17            Finance        104\n",
      "18          Education        453\n",
      "19       Productivity        178\n",
      "20           Business         57\n",
      "21           Catalogs         10\n",
      "22            Medical         23\n"
     ]
    }
   ],
   "source": [
    "headers = ['Genre','Frequency']\n",
    "print (f'{headers[0]: <20}{headers[1]}')\n",
    "for key, value in genres_ft.items():\n",
    "    print(f'{key: <20}{value}')\n",
    "    \n",
    "## OR\n",
    "\n",
    "df = pd.DataFrame(\n",
    "    [[key] + [value] for key, value in genres_ft.items()],\n",
    "    columns=['Genre','Frequency']\n",
    ")\n",
    "print(df)"
   ]
  },
  {
   "cell_type": "markdown",
   "id": "1429c15e",
   "metadata": {},
   "source": [
    "Using a single function:"
   ]
  },
  {
   "cell_type": "code",
   "execution_count": 53,
   "id": "0dcf7cea",
   "metadata": {},
   "outputs": [
    {
     "name": "stdout",
     "output_type": "stream",
     "text": [
      "  Rating  Frequency\n",
      "0    3.5        702\n",
      "1    4.5       2663\n",
      "2    4.0       1626\n",
      "3    3.0        383\n",
      "4    5.0        492\n",
      "5    2.5        196\n",
      "6    2.0        106\n",
      "7    1.5         56\n",
      "8    1.0         44\n",
      "9    0.0        929\n"
     ]
    }
   ],
   "source": [
    "opened_file = open('AppleStore.csv',encoding=\"utf8\")\n",
    "from csv import reader\n",
    "read_file = reader(opened_file)\n",
    "apps_data = list(read_file)\n",
    "\n",
    "def freq_table(column):\n",
    "    temp_dictionary = {}\n",
    "    for row in apps_data[1:]:\n",
    "        value = row[column]\n",
    "        if value in temp_dictionary:\n",
    "            temp_dictionary[value] += 1\n",
    "        else:\n",
    "            temp_dictionary[value] = 1\n",
    "    return temp_dictionary\n",
    "\n",
    "ratings_ft = freq_table(7)\n",
    "\n",
    "df = pd.DataFrame(\n",
    "    [[key] + [value] for key, value in ratings_ft.items()],\n",
    "    columns=['Rating','Frequency']\n",
    ")\n",
    "print(df)"
   ]
  },
  {
   "cell_type": "markdown",
   "id": "fe151269",
   "metadata": {},
   "source": [
    "Functions with multiple parameters:"
   ]
  },
  {
   "cell_type": "code",
   "execution_count": 55,
   "id": "00f96dae",
   "metadata": {
    "scrolled": true
   },
   "outputs": [
    {
     "name": "stdout",
     "output_type": "stream",
     "text": [
      "  Rating  Frequency\n",
      "0    3.5        702\n",
      "1    4.5       2663\n",
      "2    4.0       1626\n",
      "3    3.0        383\n",
      "4    5.0        492\n",
      "5    2.5        196\n",
      "6    2.0        106\n",
      "7    1.5         56\n",
      "8    1.0         44\n",
      "9    0.0        929\n"
     ]
    }
   ],
   "source": [
    "opened_file = open('AppleStore.csv', encoding=\"utf8\")\n",
    "from csv import reader\n",
    "read_file = reader(opened_file)\n",
    "apps_data = list(read_file)\n",
    "\n",
    "# INITIAL FUNCTION\n",
    "def freq_table(index, data_set):\n",
    "    frequency_table = {}\n",
    "    \n",
    "    for row in data_set[1:]:\n",
    "        value = row[index]\n",
    "        if value in frequency_table:\n",
    "            frequency_table[value] += 1\n",
    "        else:\n",
    "            frequency_table[value] = 1\n",
    "            \n",
    "    return frequency_table\n",
    "\n",
    "ratings_ft = freq_table(index=7, data_set = apps_data)\n",
    "\n",
    "df = pd.DataFrame(\n",
    "    [[key] + [value] for key, value in ratings_ft.items()],\n",
    "    columns=['Rating','Frequency']\n",
    ")\n",
    "print(df)"
   ]
  },
  {
   "cell_type": "markdown",
   "id": "8835bb32",
   "metadata": {},
   "source": []
  },
  {
   "cell_type": "code",
   "execution_count": 58,
   "id": "b649657a",
   "metadata": {
    "scrolled": true
   },
   "outputs": [
    {
     "name": "stdout",
     "output_type": "stream",
     "text": [
      "  Content Rating  Frequency\n",
      "0             4+       4433\n",
      "1            12+       1155\n",
      "2             9+        987\n",
      "3            17+        622\n"
     ]
    }
   ],
   "source": [
    "opened_file = open('AppleStore.csv',encoding=\"utf8\")\n",
    "from csv import reader\n",
    "read_file = reader(opened_file)\n",
    "apps_data = list(read_file)\n",
    "\n",
    "def freq_table(data_set, index):\n",
    "    frequency_table = {}\n",
    "    \n",
    "    for row in data_set[1:]:\n",
    "        value = row[index]\n",
    "        if value in frequency_table:\n",
    "            frequency_table[value] += 1\n",
    "        else:\n",
    "            frequency_table[value] = 1\n",
    "        \n",
    "    return frequency_table\n",
    "\n",
    "## Using positional arguments\n",
    "content_ratings_ft = freq_table(apps_data,10)\n",
    "\n",
    "## Using keyword arguments\n",
    "ratings_ft = freq_table(data_set = apps_data, index = 7)\n",
    "\n",
    "## Using keyword arguments in different order\n",
    "genres_ft = freq_table(index = 11, data_set = apps_data)\n",
    "\n",
    "print(\n",
    "    pd.DataFrame(\n",
    "    [[key] + [value] for key, value in content_ratings_ft.items()],\n",
    "    columns=['Content Rating','Frequency']\n",
    "    )\n",
    ")"
   ]
  },
  {
   "cell_type": "markdown",
   "id": "a8fd17de",
   "metadata": {},
   "source": [
    "Combining functions:"
   ]
  },
  {
   "cell_type": "code",
   "execution_count": 60,
   "id": "73cf27a5",
   "metadata": {},
   "outputs": [
    {
     "name": "stdout",
     "output_type": "stream",
     "text": [
      "1.7262178685562666\n"
     ]
    }
   ],
   "source": [
    "opened_file = open('AppleStore.csv',encoding=\"utf8\")\n",
    "from csv import reader\n",
    "read_file = reader(opened_file)\n",
    "apps_data = list(read_file)\n",
    "\n",
    "def extract(data_set, index):\n",
    "    column = []    \n",
    "    for row in data_set[1:]:\n",
    "        value = row[index]\n",
    "        column.append(value)    \n",
    "    return column\n",
    "\n",
    "def find_sum(a_list):\n",
    "    a_sum = 0\n",
    "    for element in a_list:\n",
    "        a_sum += float(element)\n",
    "    return a_sum\n",
    "\n",
    "def find_length(a_list):\n",
    "    length = 0\n",
    "    for element in a_list:\n",
    "        length += 1\n",
    "    return length\n",
    "\n",
    "def mean(a_list, index):\n",
    "    numbers = extract(a_list, index)\n",
    "    sum = find_sum(numbers)\n",
    "    length = find_length(numbers)\n",
    "    return sum / length\n",
    "\n",
    "avg_price = mean(apps_data,4)\n",
    "print(avg_price)"
   ]
  },
  {
   "cell_type": "markdown",
   "id": "35997eb4",
   "metadata": {},
   "source": [
    "## Python Functions: Built-in Functions and Multiple Return Statements"
   ]
  },
  {
   "cell_type": "markdown",
   "id": "ff85b5e1",
   "metadata": {},
   "source": [
    "Interfering with built-in functions:"
   ]
  },
  {
   "cell_type": "code",
   "execution_count": 61,
   "id": "9107d38b",
   "metadata": {},
   "outputs": [
    {
     "name": "stdout",
     "output_type": "stream",
     "text": [
      "10\n",
      "No max value returned\n",
      "10\n"
     ]
    }
   ],
   "source": [
    "a_list = [1, 8, 10, 9, 7]\n",
    "print(max(a_list))\n",
    "\n",
    "def max(a_list):\n",
    "    a_string = \"No max value returned\"\n",
    "    return a_string\n",
    "\n",
    "max_val_test_0 = max(a_list)\n",
    "print(max_val_test_0)\n",
    "\n",
    "del max\n",
    "a_list = [1, 8, 10, 9, 7]\n",
    "print(max(a_list))"
   ]
  },
  {
   "cell_type": "markdown",
   "id": "cf7f54d6",
   "metadata": {},
   "source": [
    "Using default arguments:"
   ]
  },
  {
   "cell_type": "code",
   "execution_count": 79,
   "id": "1039ee2a",
   "metadata": {},
   "outputs": [
    {
     "name": "stdout",
     "output_type": "stream",
     "text": [
      "['id', 'track_name', 'size_bytes', 'currency', 'price', 'rating_count_tot', 'rating_count_ver', 'user_rating', 'user_rating_ver', 'ver', 'cont_rating', 'prime_genre', 'sup_devices.num', 'ipadSc_urls.num', 'lang.num', 'vpp_lic']\n",
      "['284882215', 'Facebook', '389879808', 'USD', '0.0', '2974676', '212', '3.5', '3.5', '95.0', '4+', 'Social Networking', '37', '1', '29', '1']\n"
     ]
    }
   ],
   "source": [
    "def open_dataset(file_name = 'AppleStore.csv'):\n",
    "    \n",
    "    opened_file = open(file_name, encoding=\"utf8\")\n",
    "    from csv import reader\n",
    "    read_file = reader(opened_file)\n",
    "    data = list(read_file)\n",
    "    \n",
    "    return data\n",
    "\n",
    "apps_data = open_dataset()\n",
    "print(apps_data[0])\n",
    "print(apps_data[1])"
   ]
  },
  {
   "cell_type": "markdown",
   "id": "f14fbc9c",
   "metadata": {},
   "source": [
    "Rounding:"
   ]
  },
  {
   "cell_type": "code",
   "execution_count": 80,
   "id": "acbc6921",
   "metadata": {},
   "outputs": [
    {
     "name": "stdout",
     "output_type": "stream",
     "text": [
      "3.4\n",
      "0.23\n",
      "921.22252\n"
     ]
    }
   ],
   "source": [
    "one_decimal = round(3.43, ndigits=1)\n",
    "print(one_decimal)\n",
    "two_decimals = round(0.23321, ndigits=2)\n",
    "print(two_decimals)\n",
    "five_decimals = round(921.2225227, ndigits=5)\n",
    "print(five_decimals)"
   ]
  },
  {
   "cell_type": "markdown",
   "id": "e28567d1",
   "metadata": {},
   "source": [
    "Reading below header:"
   ]
  },
  {
   "cell_type": "code",
   "execution_count": 83,
   "id": "1aae8050",
   "metadata": {},
   "outputs": [
    {
     "name": "stdout",
     "output_type": "stream",
     "text": [
      "['284882215', 'Facebook', '389879808', 'USD', '0.0', '2974676', '212', '3.5', '3.5', '95.0', '4+', 'Social Networking', '37', '1', '29', '1']\n"
     ]
    }
   ],
   "source": [
    "def open_dataset(file_name='AppleStore.csv', header=True):        \n",
    "    opened_file = open(file_name, encoding=\"utf8\")\n",
    "    from csv import reader\n",
    "    read_file = reader(opened_file)\n",
    "    data = list(read_file)\n",
    "    \n",
    "    if header:\n",
    "        return data[1:]\n",
    "    else:\n",
    "        return data\n",
    "    \n",
    "apps_data = open_dataset()\n",
    "print(apps_data[0])"
   ]
  },
  {
   "cell_type": "markdown",
   "id": "a09449fe",
   "metadata": {},
   "source": [
    "## Python Functions: Returning Multiple Variables and Function Scopes"
   ]
  },
  {
   "cell_type": "markdown",
   "id": "08a01c41",
   "metadata": {},
   "source": [
    "Returning multiple variables:"
   ]
  },
  {
   "cell_type": "code",
   "execution_count": 84,
   "id": "8b6f8f7a",
   "metadata": {},
   "outputs": [
    {
     "name": "stdout",
     "output_type": "stream",
     "text": [
      "(25, 144, 169)\n"
     ]
    }
   ],
   "source": [
    "def pythagorean(a,b):\n",
    "    a_squared = a*a\n",
    "    b_squared = b*b\n",
    "    c_squared = a_squared + b_squared\n",
    "    return a_squared, b_squared, c_squared\n",
    "\n",
    "print(pythagorean(5,12))"
   ]
  },
  {
   "cell_type": "markdown",
   "id": "81ecfff7",
   "metadata": {},
   "source": [
    "Tuples:"
   ]
  },
  {
   "cell_type": "code",
   "execution_count": 86,
   "id": "84130a4a",
   "metadata": {},
   "outputs": [
    {
     "name": "stdout",
     "output_type": "stream",
     "text": [
      "Headers are:\n",
      " ['id', 'track_name', 'size_bytes', 'currency', 'price', 'rating_count_tot', 'rating_count_ver', 'user_rating', 'user_rating_ver', 'ver', 'cont_rating', 'prime_genre', 'sup_devices.num', 'ipadSc_urls.num', 'lang.num', 'vpp_lic'] \n",
      "\n",
      "First two lists in second list item are:\n",
      " [['284882215', 'Facebook', '389879808', 'USD', '0.0', '2974676', '212', '3.5', '3.5', '95.0', '4+', 'Social Networking', '37', '1', '29', '1'], ['389801252', 'Instagram', '113954816', 'USD', '0.0', '2161558', '1289', '4.5', '4.0', '10.23', '12+', 'Photo & Video', '37', '0', '29', '1']]\n"
     ]
    }
   ],
   "source": [
    "def open_dataset(file_name='AppleStore.csv', header=True):        \n",
    "    opened_file = open(file_name, encoding=\"utf8\")\n",
    "    from csv import reader\n",
    "    read_file = reader(opened_file)\n",
    "    data = list(read_file)\n",
    "    \n",
    "    if header:\n",
    "        return data[0], data[1:]\n",
    "    else:\n",
    "        return data\n",
    "    \n",
    "all_data = open_dataset()\n",
    "header = all_data[0]\n",
    "apps_data = all_data[1]\n",
    "\n",
    "print(\"Headers are:\\n\",all_data[0],\"\\n\")\n",
    "print(\"First two lists in second list item are:\\n\",all_data[1][0:2])"
   ]
  },
  {
   "cell_type": "markdown",
   "id": "b569bd92",
   "metadata": {},
   "source": [
    "Assigning variables to tuples:"
   ]
  },
  {
   "cell_type": "code",
   "execution_count": 88,
   "id": "425d485d",
   "metadata": {},
   "outputs": [
    {
     "name": "stdout",
     "output_type": "stream",
     "text": [
      "['284882215', 'Facebook', '389879808', 'USD', '0.0', '2974676', '212', '3.5', '3.5', '95.0', '4+', 'Social Networking', '37', '1', '29', '1']\n",
      "['id', 'track_name', 'size_bytes', 'currency', 'price', 'rating_count_tot', 'rating_count_ver', 'user_rating', 'user_rating_ver', 'ver', 'cont_rating', 'prime_genre', 'sup_devices.num', 'ipadSc_urls.num', 'lang.num', 'vpp_lic']\n"
     ]
    }
   ],
   "source": [
    "def open_dataset(file_name='AppleStore.csv', header=True):        \n",
    "    opened_file = open(file_name,encoding=\"utf8\")\n",
    "    from csv import reader\n",
    "    read_file = reader(opened_file)\n",
    "    data = list(read_file)\n",
    "    \n",
    "    if header:\n",
    "        return data[1:], data[0]\n",
    "    else:\n",
    "        return data\n",
    "\n",
    "apps_data, header = open_dataset()\n",
    "print(apps_data[0])\n",
    "print(header)"
   ]
  },
  {
   "cell_type": "markdown",
   "id": "93ff1ed1",
   "metadata": {},
   "source": [
    "No return statement:"
   ]
  },
  {
   "cell_type": "code",
   "execution_count": 89,
   "id": "7b006d22",
   "metadata": {},
   "outputs": [
    {
     "name": "stdout",
     "output_type": "stream",
     "text": [
      "The chair costs $40.99.\n",
      "The book costs $12.84.\n",
      "The soap costs $3.95.\n"
     ]
    }
   ],
   "source": [
    "def price(item, cost):\n",
    "    print( \"The \" + item + \" costs $\" + str(cost) + \".\")\n",
    "\n",
    "price(\"chair\", 40.99)\n",
    "price(\"book\", 12.84)\n",
    "price(\"soap\", 3.95)"
   ]
  },
  {
   "cell_type": "markdown",
   "id": "902ee778",
   "metadata": {},
   "source": [
    "Global and local variables:"
   ]
  },
  {
   "cell_type": "code",
   "execution_count": 90,
   "id": "76372d79",
   "metadata": {},
   "outputs": [
    {
     "name": "stdout",
     "output_type": "stream",
     "text": [
      "Value of e while carrying out the function is: 2.72\n",
      "Value of e while not carrying out the function is: mathematical constant\n",
      "1000\n",
      "50\n",
      "20.0\n"
     ]
    }
   ],
   "source": [
    "e = 'mathematical constant'\n",
    "a_sum = 1000\n",
    "length = 50\n",
    "\n",
    "def exponential(x):\n",
    "    e = 2.72\n",
    "    print(\"Value of e while carrying out the function is:\",e)\n",
    "    return e**x\n",
    "\n",
    "result = exponential(5)\n",
    "print(\"Value of e while not carrying out the function is:\",e)\n",
    "\n",
    "def divide():\n",
    "    print(a_sum)\n",
    "    print(length)\n",
    "    return a_sum / length\n",
    "\n",
    "result_2 = divide()\n",
    "print(result_2)"
   ]
  },
  {
   "cell_type": "markdown",
   "id": "646699d9",
   "metadata": {},
   "source": [
    "## Project: Learn and Install Jupyter Notebook"
   ]
  },
  {
   "cell_type": "markdown",
   "id": "b9da0a0d",
   "metadata": {},
   "source": [
    "No code to show."
   ]
  },
  {
   "cell_type": "markdown",
   "id": "4419d737",
   "metadata": {},
   "source": [
    "## Guided Project: Profitable App Profiles for the App Store and Google Play Markets"
   ]
  },
  {
   "cell_type": "markdown",
   "id": "30489e05",
   "metadata": {},
   "source": [
    "Please see separate project notebook."
   ]
  }
 ],
 "metadata": {
  "kernelspec": {
   "display_name": "Python 3 (ipykernel)",
   "language": "python",
   "name": "python3"
  },
  "language_info": {
   "codemirror_mode": {
    "name": "ipython",
    "version": 3
   },
   "file_extension": ".py",
   "mimetype": "text/x-python",
   "name": "python",
   "nbconvert_exporter": "python",
   "pygments_lexer": "ipython3",
   "version": "3.10.13"
  }
 },
 "nbformat": 4,
 "nbformat_minor": 5
}
