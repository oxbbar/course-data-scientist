{
 "cells": [
  {
   "cell_type": "markdown",
   "id": "e9f9507a",
   "metadata": {},
   "source": [
    "# Part 1.4: Intermediate Python for Data Science"
   ]
  },
  {
   "cell_type": "markdown",
   "id": "6c1dd124",
   "metadata": {},
   "source": [
    "## Cleaning and Preparing Data in Python"
   ]
  },
  {
   "cell_type": "markdown",
   "id": "0df658c0",
   "metadata": {},
   "source": [
    "Opening CSV file:"
   ]
  },
  {
   "cell_type": "code",
   "execution_count": 20,
   "id": "848936ab",
   "metadata": {},
   "outputs": [],
   "source": [
    "from csv import reader\n",
    "\n",
    "opened_file = open('artworks.csv', encoding=\"utf8\")\n",
    "read_file = reader(opened_file)\n",
    "moma = list(read_file)\n",
    "moma_headers = moma[0]\n",
    "moma = moma[1:]"
   ]
  },
  {
   "cell_type": "markdown",
   "id": "5596cc2b",
   "metadata": {},
   "source": [
    "Replacing substrings:"
   ]
  },
  {
   "cell_type": "code",
   "execution_count": 21,
   "id": "62072865",
   "metadata": {},
   "outputs": [
    {
     "name": "stdout",
     "output_type": "stream",
     "text": [
      "I am thirty-two years old\n"
     ]
    }
   ],
   "source": [
    "age1 = \"I am thirty-one years old\"\n",
    "age2 = age1.replace(\"thirty-one\",\"thirty-two\")\n",
    "print(age2)"
   ]
  },
  {
   "cell_type": "markdown",
   "id": "7db26145",
   "metadata": {},
   "source": [
    "Cleaning columns by replacing parentheses:"
   ]
  },
  {
   "cell_type": "code",
   "execution_count": 22,
   "id": "51f738af",
   "metadata": {},
   "outputs": [
    {
     "name": "stdout",
     "output_type": "stream",
     "text": [
      "['She-Paul-A-Wee', 'William Henry Jackson', 'American', '(1843)', '(1942)', 'Male', '1875', 'Photography']\n"
     ]
    }
   ],
   "source": [
    "for row in moma:\n",
    "    nationality = row[2]\n",
    "    nationality = nationality.replace(\"(\",\"\")\n",
    "    nationality = nationality.replace(\")\",\"\")\n",
    "    row[2] = nationality\n",
    "    \n",
    "for row in moma:\n",
    "    gender = row[5]\n",
    "    gender = gender.replace(\"(\",\"\")\n",
    "    gender = gender.replace(\")\",\"\")\n",
    "    row[5] = gender\n",
    "\n",
    "print(moma[200])"
   ]
  },
  {
   "cell_type": "markdown",
   "id": "393bb531",
   "metadata": {},
   "source": [
    "Cleaning capitalisation:"
   ]
  },
  {
   "cell_type": "code",
   "execution_count": 23,
   "id": "7bcc375c",
   "metadata": {},
   "outputs": [
    {
     "name": "stdout",
     "output_type": "stream",
     "text": [
      "Sarah Charlesworth whose gender is: Female\n",
      "Pablo Palazuelo whose gender is: Male\n",
      "Maurice Denis whose gender is: Male\n",
      "Aristide Maillol whose gender is: Male\n",
      "Eugène Atget whose gender is: Male\n"
     ]
    }
   ],
   "source": [
    "for row in moma:\n",
    "    gender = row[5]\n",
    "    gender = gender.title()\n",
    "    if not gender:\n",
    "        gender = \"Gender Unknown/Other\"\n",
    "    row[5] = gender\n",
    "\n",
    "for row in moma:\n",
    "    nationality = row[2]\n",
    "    nationality = nationality.title()\n",
    "    if not nationality:\n",
    "        nationality = \"Nationality Unknown\"\n",
    "    row[2] = nationality\n",
    "    \n",
    "for row in moma[:5]:\n",
    "    print(row[1],\"whose gender is:\",row[5])"
   ]
  },
  {
   "cell_type": "markdown",
   "id": "b86d8e3b",
   "metadata": {},
   "source": [
    "Cleaning the birthdays and death dates:"
   ]
  },
  {
   "cell_type": "code",
   "execution_count": 24,
   "id": "4a5b2020",
   "metadata": {
    "scrolled": false
   },
   "outputs": [
    {
     "name": "stdout",
     "output_type": "stream",
     "text": [
      "[['Dress MacLeod from Tartan Sets', 'Sarah Charlesworth', 'American', 1947, 2013, 'Female', '1986', 'Prints & Illustrated Books'], ['Duplicate of plate from folio 11 verso (supplementary suite, plate 4) from ARDICIA', 'Pablo Palazuelo', 'Spanish', 1916, 2007, 'Male', '1978', 'Prints & Illustrated Books'], ['Tailpiece (page 55) from SAGESSE', 'Maurice Denis', 'French', 1870, 1943, 'Male', '1889-1911', 'Prints & Illustrated Books'], ['Headpiece (page 129) from LIVRET DE FOLASTRIES, À JANOT PARISIEN', 'Aristide Maillol', 'French', 1861, 1944, 'Male', '1927-1940', 'Prints & Illustrated Books'], ['97 rue du Bac', 'Eugène Atget', 'French', 1857, 1927, 'Male', '1903', 'Photography']]\n"
     ]
    }
   ],
   "source": [
    "def clean_and_convert(date):\n",
    "    # check that we don't have an empty string\n",
    "    if date != \"\":\n",
    "        # move the rest of the function inside\n",
    "        # the if statement\n",
    "        date = date.replace(\"(\", \"\")\n",
    "        date = date.replace(\")\", \"\")\n",
    "        date = int(date)\n",
    "    return date\n",
    "\n",
    "for row in moma:\n",
    "    birth_date = row[3]\n",
    "    death_date = row[4]\n",
    "    birth_date = clean_and_convert(birth_date)\n",
    "    death_date = clean_and_convert(death_date)\n",
    "    row[3] = birth_date\n",
    "    row[4] = death_date\n",
    "    \n",
    "print(moma[:5])"
   ]
  },
  {
   "cell_type": "markdown",
   "id": "82b7988b",
   "metadata": {},
   "source": [
    "Trying better print method:"
   ]
  },
  {
   "cell_type": "code",
   "execution_count": 25,
   "id": "853589be",
   "metadata": {
    "scrolled": true
   },
   "outputs": [
    {
     "data": {
      "text/html": [
       "<div>\n",
       "<style scoped>\n",
       "    .dataframe tbody tr th:only-of-type {\n",
       "        vertical-align: middle;\n",
       "    }\n",
       "\n",
       "    .dataframe tbody tr th {\n",
       "        vertical-align: top;\n",
       "    }\n",
       "\n",
       "    .dataframe thead th {\n",
       "        text-align: right;\n",
       "    }\n",
       "</style>\n",
       "<table border=\"1\" class=\"dataframe\">\n",
       "  <thead>\n",
       "    <tr style=\"text-align: right;\">\n",
       "      <th></th>\n",
       "      <th>Title</th>\n",
       "      <th>Artist</th>\n",
       "      <th>Nationality</th>\n",
       "      <th>BeginDate</th>\n",
       "      <th>EndDate</th>\n",
       "      <th>Gender</th>\n",
       "      <th>Date</th>\n",
       "      <th>Department</th>\n",
       "    </tr>\n",
       "  </thead>\n",
       "  <tbody>\n",
       "    <tr>\n",
       "      <th>0</th>\n",
       "      <td>Dress MacLeod from Tartan Sets</td>\n",
       "      <td>Sarah Charlesworth</td>\n",
       "      <td>American</td>\n",
       "      <td>1947</td>\n",
       "      <td>2013</td>\n",
       "      <td>Female</td>\n",
       "      <td>1986</td>\n",
       "      <td>Prints &amp; Illustrated Books</td>\n",
       "    </tr>\n",
       "    <tr>\n",
       "      <th>1</th>\n",
       "      <td>Duplicate of plate from folio 11 verso (supple...</td>\n",
       "      <td>Pablo Palazuelo</td>\n",
       "      <td>Spanish</td>\n",
       "      <td>1916</td>\n",
       "      <td>2007</td>\n",
       "      <td>Male</td>\n",
       "      <td>1978</td>\n",
       "      <td>Prints &amp; Illustrated Books</td>\n",
       "    </tr>\n",
       "    <tr>\n",
       "      <th>2</th>\n",
       "      <td>Tailpiece (page 55) from SAGESSE</td>\n",
       "      <td>Maurice Denis</td>\n",
       "      <td>French</td>\n",
       "      <td>1870</td>\n",
       "      <td>1943</td>\n",
       "      <td>Male</td>\n",
       "      <td>1889-1911</td>\n",
       "      <td>Prints &amp; Illustrated Books</td>\n",
       "    </tr>\n",
       "    <tr>\n",
       "      <th>3</th>\n",
       "      <td>Headpiece (page 129) from LIVRET DE FOLASTRIES...</td>\n",
       "      <td>Aristide Maillol</td>\n",
       "      <td>French</td>\n",
       "      <td>1861</td>\n",
       "      <td>1944</td>\n",
       "      <td>Male</td>\n",
       "      <td>1927-1940</td>\n",
       "      <td>Prints &amp; Illustrated Books</td>\n",
       "    </tr>\n",
       "    <tr>\n",
       "      <th>4</th>\n",
       "      <td>97 rue du Bac</td>\n",
       "      <td>Eugène Atget</td>\n",
       "      <td>French</td>\n",
       "      <td>1857</td>\n",
       "      <td>1927</td>\n",
       "      <td>Male</td>\n",
       "      <td>1903</td>\n",
       "      <td>Photography</td>\n",
       "    </tr>\n",
       "  </tbody>\n",
       "</table>\n",
       "</div>"
      ],
      "text/plain": [
       "                                               Title              Artist  \\\n",
       "0                     Dress MacLeod from Tartan Sets  Sarah Charlesworth   \n",
       "1  Duplicate of plate from folio 11 verso (supple...     Pablo Palazuelo   \n",
       "2                   Tailpiece (page 55) from SAGESSE       Maurice Denis   \n",
       "3  Headpiece (page 129) from LIVRET DE FOLASTRIES...    Aristide Maillol   \n",
       "4                                      97 rue du Bac        Eugène Atget   \n",
       "\n",
       "  Nationality  BeginDate  EndDate  Gender       Date  \\\n",
       "0    American       1947     2013  Female       1986   \n",
       "1     Spanish       1916     2007    Male       1978   \n",
       "2      French       1870     1943    Male  1889-1911   \n",
       "3      French       1861     1944    Male  1927-1940   \n",
       "4      French       1857     1927    Male       1903   \n",
       "\n",
       "                   Department  \n",
       "0  Prints & Illustrated Books  \n",
       "1  Prints & Illustrated Books  \n",
       "2  Prints & Illustrated Books  \n",
       "3  Prints & Illustrated Books  \n",
       "4                 Photography  "
      ]
     },
     "execution_count": 25,
     "metadata": {},
     "output_type": "execute_result"
    }
   ],
   "source": [
    "import pandas as pd\n",
    "\n",
    "pd.DataFrame(moma[:5],columns=moma_headers)"
   ]
  },
  {
   "cell_type": "markdown",
   "id": "56af4818",
   "metadata": {},
   "source": [
    "Parsing numbers from complex strings:"
   ]
  },
  {
   "cell_type": "code",
   "execution_count": 26,
   "id": "c289450f",
   "metadata": {
    "scrolled": true
   },
   "outputs": [
    {
     "name": "stdout",
     "output_type": "stream",
     "text": [
      "['1912', '1929', '1913-1923', '1951', '1994', '1934', '1915', '1995', '1912', '1988', '2002', '1957-1959', '1955', '1970', '1990-1999']\n"
     ]
    }
   ],
   "source": [
    "test_data = [\"1912\", \"1929\", \"1913-1923\",\n",
    "             \"(1951)\", \"1994\", \"1934\",\n",
    "             \"c. 1915\", \"1995\", \"c. 1912\",\n",
    "             \"(1988)\", \"2002\", \"1957-1959\",\n",
    "             \"c. 1955.\", \"c. 1970's\", \n",
    "             \"C. 1990-1999\"]\n",
    "\n",
    "bad_chars = [\"(\",\")\",\"c\",\"C\",\".\",\"s\",\"'\", \" \"]\n",
    "\n",
    "def strip_characters(string):\n",
    "    for char in bad_chars:\n",
    "        string = string.replace(char, \"\")\n",
    "    return string\n",
    "\n",
    "stripped_test_data = []\n",
    "\n",
    "for date in test_data:\n",
    "    date = strip_characters(date)\n",
    "    stripped_test_data.append(date)\n",
    "\n",
    "print(stripped_test_data)"
   ]
  },
  {
   "cell_type": "markdown",
   "id": "fc63792c",
   "metadata": {},
   "source": [
    "Parsing numbers from complex strings, part 2:"
   ]
  },
  {
   "cell_type": "code",
   "execution_count": 27,
   "id": "6c73aff9",
   "metadata": {},
   "outputs": [
    {
     "name": "stdout",
     "output_type": "stream",
     "text": [
      "[1912, 1929, 1918, 1951, 1994, 1934, 1915, 1995, 1912, 1988, 2002, 1958, 1955, 1970, 1994]\n"
     ]
    },
    {
     "data": {
      "text/html": [
       "<div>\n",
       "<style scoped>\n",
       "    .dataframe tbody tr th:only-of-type {\n",
       "        vertical-align: middle;\n",
       "    }\n",
       "\n",
       "    .dataframe tbody tr th {\n",
       "        vertical-align: top;\n",
       "    }\n",
       "\n",
       "    .dataframe thead th {\n",
       "        text-align: right;\n",
       "    }\n",
       "</style>\n",
       "<table border=\"1\" class=\"dataframe\">\n",
       "  <thead>\n",
       "    <tr style=\"text-align: right;\">\n",
       "      <th></th>\n",
       "      <th>Title</th>\n",
       "      <th>Artist</th>\n",
       "      <th>Nationality</th>\n",
       "      <th>BeginDate</th>\n",
       "      <th>EndDate</th>\n",
       "      <th>Gender</th>\n",
       "      <th>Date</th>\n",
       "      <th>Department</th>\n",
       "    </tr>\n",
       "  </thead>\n",
       "  <tbody>\n",
       "    <tr>\n",
       "      <th>0</th>\n",
       "      <td>Dress MacLeod from Tartan Sets</td>\n",
       "      <td>Sarah Charlesworth</td>\n",
       "      <td>American</td>\n",
       "      <td>1947</td>\n",
       "      <td>2013</td>\n",
       "      <td>Female</td>\n",
       "      <td>1986</td>\n",
       "      <td>Prints &amp; Illustrated Books</td>\n",
       "    </tr>\n",
       "    <tr>\n",
       "      <th>1</th>\n",
       "      <td>Duplicate of plate from folio 11 verso (supple...</td>\n",
       "      <td>Pablo Palazuelo</td>\n",
       "      <td>Spanish</td>\n",
       "      <td>1916</td>\n",
       "      <td>2007</td>\n",
       "      <td>Male</td>\n",
       "      <td>1978</td>\n",
       "      <td>Prints &amp; Illustrated Books</td>\n",
       "    </tr>\n",
       "    <tr>\n",
       "      <th>2</th>\n",
       "      <td>Tailpiece (page 55) from SAGESSE</td>\n",
       "      <td>Maurice Denis</td>\n",
       "      <td>French</td>\n",
       "      <td>1870</td>\n",
       "      <td>1943</td>\n",
       "      <td>Male</td>\n",
       "      <td>1900</td>\n",
       "      <td>Prints &amp; Illustrated Books</td>\n",
       "    </tr>\n",
       "    <tr>\n",
       "      <th>3</th>\n",
       "      <td>Headpiece (page 129) from LIVRET DE FOLASTRIES...</td>\n",
       "      <td>Aristide Maillol</td>\n",
       "      <td>French</td>\n",
       "      <td>1861</td>\n",
       "      <td>1944</td>\n",
       "      <td>Male</td>\n",
       "      <td>1934</td>\n",
       "      <td>Prints &amp; Illustrated Books</td>\n",
       "    </tr>\n",
       "    <tr>\n",
       "      <th>4</th>\n",
       "      <td>97 rue du Bac</td>\n",
       "      <td>Eugène Atget</td>\n",
       "      <td>French</td>\n",
       "      <td>1857</td>\n",
       "      <td>1927</td>\n",
       "      <td>Male</td>\n",
       "      <td>1903</td>\n",
       "      <td>Photography</td>\n",
       "    </tr>\n",
       "  </tbody>\n",
       "</table>\n",
       "</div>"
      ],
      "text/plain": [
       "                                               Title              Artist  \\\n",
       "0                     Dress MacLeod from Tartan Sets  Sarah Charlesworth   \n",
       "1  Duplicate of plate from folio 11 verso (supple...     Pablo Palazuelo   \n",
       "2                   Tailpiece (page 55) from SAGESSE       Maurice Denis   \n",
       "3  Headpiece (page 129) from LIVRET DE FOLASTRIES...    Aristide Maillol   \n",
       "4                                      97 rue du Bac        Eugène Atget   \n",
       "\n",
       "  Nationality  BeginDate  EndDate  Gender  Date                  Department  \n",
       "0    American       1947     2013  Female  1986  Prints & Illustrated Books  \n",
       "1     Spanish       1916     2007    Male  1978  Prints & Illustrated Books  \n",
       "2      French       1870     1943    Male  1900  Prints & Illustrated Books  \n",
       "3      French       1861     1944    Male  1934  Prints & Illustrated Books  \n",
       "4      French       1857     1927    Male  1903                 Photography  "
      ]
     },
     "execution_count": 27,
     "metadata": {},
     "output_type": "execute_result"
    }
   ],
   "source": [
    "def strip_characters(string):\n",
    "    for char in bad_chars:\n",
    "        string = string.replace(char, \"\")\n",
    "    return string\n",
    "\n",
    "def process_date(string):\n",
    "    if \"-\" in string:\n",
    "        split_date = string.split(\"-\")\n",
    "        date_1 = split_date[0]\n",
    "        date_2 = split_date[1]\n",
    "        date = (int(date_1) + int(date_2)) / 2\n",
    "        string = round(date)\n",
    "    else:\n",
    "        string = int(string)\n",
    "    return string\n",
    "\n",
    "processed_test_data = []\n",
    "\n",
    "for date in stripped_test_data:\n",
    "    newdate = process_date(date)\n",
    "    processed_test_data.append(newdate)\n",
    "    \n",
    "print(processed_test_data)\n",
    "\n",
    "for row in moma:\n",
    "    date = row[6]\n",
    "    date = strip_characters(date)\n",
    "    date = process_date(date)\n",
    "    row[6] = date\n",
    "    \n",
    "pd.DataFrame(moma[:5],columns=moma_headers)"
   ]
  },
  {
   "cell_type": "markdown",
   "id": "47994858",
   "metadata": {},
   "source": [
    "## Python Data Analysis Basics"
   ]
  },
  {
   "cell_type": "markdown",
   "id": "9e163621",
   "metadata": {},
   "source": [
    "Reading the dataset, cleaning date column:"
   ]
  },
  {
   "cell_type": "code",
   "execution_count": 28,
   "id": "0fc8c35a",
   "metadata": {},
   "outputs": [],
   "source": [
    "from csv import reader\n",
    "\n",
    "# Read the `artworks_clean.csv` file\n",
    "opened_file = open('artworks_clean.csv', encoding=\"utf8\")\n",
    "read_file = reader(opened_file)\n",
    "moma = list(read_file)\n",
    "moma = moma[1:]\n",
    "\n",
    "# Convert the birthdate values\n",
    "for row in moma:\n",
    "    birth_date = row[3]\n",
    "    if birth_date != \"\":\n",
    "        birth_date = int(birth_date)\n",
    "    row[3] = birth_date\n",
    "    \n",
    "# Convert the death date values\n",
    "for row in moma:\n",
    "    death_date = row[4]\n",
    "    if death_date != \"\":\n",
    "        death_date = int(death_date)\n",
    "    row[4] = death_date\n",
    "\n",
    "# Write your code below\n",
    "\n",
    "for row in moma:\n",
    "    date = row[6]\n",
    "    if date != \"\":\n",
    "        date = int(date)\n",
    "    row[6] = date"
   ]
  },
  {
   "cell_type": "markdown",
   "id": "cac525a1",
   "metadata": {},
   "source": [
    "Calculating ages:"
   ]
  },
  {
   "cell_type": "code",
   "execution_count": 29,
   "id": "f7022744",
   "metadata": {},
   "outputs": [],
   "source": [
    "ages = []\n",
    "\n",
    "for row in moma:\n",
    "    date = row[6]\n",
    "    birth = row[3]\n",
    "    if type(birth) == int:\n",
    "        age = date - birth\n",
    "    else:\n",
    "        age = 0\n",
    "    ages.append(age)\n",
    "\n",
    "final_ages = []\n",
    "\n",
    "for age in ages:\n",
    "    if age > 20:\n",
    "        final_age = age\n",
    "    else:\n",
    "        final_age = \"Unknown\"\n",
    "    final_ages.append(final_age)"
   ]
  },
  {
   "cell_type": "markdown",
   "id": "d838be8f",
   "metadata": {},
   "source": [
    "Converting age to decade:"
   ]
  },
  {
   "cell_type": "code",
   "execution_count": 30,
   "id": "25060ef8",
   "metadata": {},
   "outputs": [],
   "source": [
    "# The final_ages variable is available\n",
    "# from the previous screen\n",
    "\n",
    "decades = []\n",
    "\n",
    "for age in final_ages:\n",
    "    if age == \"Unknown\":\n",
    "        decade = age\n",
    "    else:\n",
    "        decade = str(age)\n",
    "        decade = decade[:-1]\n",
    "        decade = decade + \"0s\"\n",
    "    decades.append(decade)"
   ]
  },
  {
   "cell_type": "markdown",
   "id": "1429c15e",
   "metadata": {},
   "source": [
    "Summarising the decade data:"
   ]
  },
  {
   "cell_type": "code",
   "execution_count": 31,
   "id": "0dcf7cea",
   "metadata": {},
   "outputs": [
    {
     "name": "stdout",
     "output_type": "stream",
     "text": [
      "{'30s': 4722, '60s': 1357, '70s': 559, '40s': 4081, '50s': 2434, '20s': 1856, 'Unknown': 1093, '90s': 253, '80s': 364, '100s': 3, '110s': 3}\n"
     ]
    }
   ],
   "source": [
    "decade_frequency = {}\n",
    "\n",
    "for decade in decades:\n",
    "    if decade in decade_frequency:\n",
    "        decade_frequency[decade] += 1\n",
    "    else:\n",
    "        decade_frequency[decade] = 1\n",
    "    \n",
    "print(decade_frequency)"
   ]
  },
  {
   "cell_type": "markdown",
   "id": "fe151269",
   "metadata": {},
   "source": [
    "Inserting variables into strings:"
   ]
  },
  {
   "cell_type": "code",
   "execution_count": 32,
   "id": "00f96dae",
   "metadata": {
    "scrolled": true
   },
   "outputs": [
    {
     "name": "stdout",
     "output_type": "stream",
     "text": [
      "Pablo Picasso's birth year is 1881\n"
     ]
    }
   ],
   "source": [
    "artist = \"Pablo Picasso\"\n",
    "birth_year = 1881\n",
    "\n",
    "template = \"{name}'s birth year is {year}\"\n",
    "output = template.format(name=artist, year = birth_year)\n",
    "print(output)"
   ]
  },
  {
   "cell_type": "markdown",
   "id": "d4cb3540",
   "metadata": {},
   "source": [
    "Creating frequency tables:"
   ]
  },
  {
   "cell_type": "code",
   "execution_count": 33,
   "id": "f53d86ad",
   "metadata": {},
   "outputs": [
    {
     "name": "stdout",
     "output_type": "stream",
     "text": [
      "{'Female': 2443, 'Male': 13491, 'Gender Unknown/Other': 791}\n",
      "                       Arist  Frequency\n",
      "0         Sarah Charlesworth          1\n",
      "1            Pablo Palazuelo          4\n",
      "2              Maurice Denis         71\n",
      "3           Aristide Maillol         77\n",
      "4               Eugène Atget        705\n",
      "...                      ...        ...\n",
      "3952           Julio Le Parc          1\n",
      "3953             George Ault          1\n",
      "3954    Jean-Michel Basquiat          1\n",
      "3955             Henri Goetz          1\n",
      "3956  Matthew Rackham Barnes          1\n",
      "\n",
      "[3957 rows x 2 columns]\n"
     ]
    }
   ],
   "source": [
    "gender_freq = {}\n",
    "\n",
    "for row in moma:\n",
    "    gender = row[5]\n",
    "    if gender in gender_freq:\n",
    "        gender_freq[gender] += 1\n",
    "    else:\n",
    "        gender_freq[gender] = 1\n",
    "        \n",
    "print(gender_freq)\n",
    "\n",
    "artist_freq = {}\n",
    "\n",
    "for row in moma:\n",
    "    artist = row[1]\n",
    "    if artist in artist_freq:\n",
    "        artist_freq[artist] += 1\n",
    "    else:\n",
    "        artist_freq[artist] = 1\n",
    "        \n",
    "print(\n",
    "    pd.DataFrame(\n",
    "    [[key] + [value] for key, value in artist_freq.items()],\n",
    "    columns=['Arist','Frequency']\n",
    "    )\n",
    ")\n",
    "\n"
   ]
  },
  {
   "cell_type": "markdown",
   "id": "8d9dc259",
   "metadata": {},
   "source": [
    "Creating a function to insert variables into strings:"
   ]
  },
  {
   "cell_type": "code",
   "execution_count": 34,
   "id": "f71fcfc9",
   "metadata": {},
   "outputs": [
    {
     "name": "stdout",
     "output_type": "stream",
     "text": [
      "There are 129 artworks by Henri Matisse in the dataset\n"
     ]
    }
   ],
   "source": [
    "def artist_summary(name):\n",
    "    num_works = artist_freq[name]\n",
    "    template = \"There are {number} artworks by {artist_name} in the dataset\"\n",
    "    output = template.format(number = num_works, artist_name = name)\n",
    "    print(output)\n",
    "    \n",
    "artist_summary(\"Henri Matisse\")"
   ]
  },
  {
   "cell_type": "markdown",
   "id": "c9c351ae",
   "metadata": {},
   "source": [
    "Formatting numbers inside strings:"
   ]
  },
  {
   "cell_type": "code",
   "execution_count": 35,
   "id": "d884c21f",
   "metadata": {
    "scrolled": true
   },
   "outputs": [
    {
     "name": "stdout",
     "output_type": "stream",
     "text": [
      "The population of China is 1,379.30 million\n",
      "The population of India is 1,281.94 million\n",
      "The population of USA is 326.63 million\n",
      "The population of Indonesia is 260.58 million\n",
      "The population of Brazil is 207.35 million\n"
     ]
    }
   ],
   "source": [
    "pop_millions = [\n",
    "    [\"China\", 1379.302771],\n",
    "    [\"India\", 1281.935991],\n",
    "    [\"USA\",  326.625791],\n",
    "    [\"Indonesia\",  260.580739],\n",
    "    [\"Brazil\",  207.353391],\n",
    "]\n",
    "\n",
    "template = \"The population of {country} is {number:,.2f} million\"\n",
    "\n",
    "for row in pop_millions:\n",
    "    country = row[0]\n",
    "    number = row[1]\n",
    "    output = template.format(country=country, number=number)\n",
    "    print(output)"
   ]
  },
  {
   "cell_type": "markdown",
   "id": "e028e6a7",
   "metadata": {},
   "source": [
    "Summarising the artwork gender data:"
   ]
  },
  {
   "cell_type": "code",
   "execution_count": 36,
   "id": "0d1d5e15",
   "metadata": {},
   "outputs": [
    {
     "name": "stdout",
     "output_type": "stream",
     "text": [
      "There are 2,443 artworks by Female artists\n",
      "There are 13,491 artworks by Male artists\n",
      "There are 791 artworks by Gender Unknown/Other artists\n"
     ]
    }
   ],
   "source": [
    "gender_freq = {}\n",
    "\n",
    "for row in moma:\n",
    "    gender = row[5]\n",
    "    if gender in gender_freq:\n",
    "        gender_freq[gender] += 1\n",
    "    else:\n",
    "        gender_freq[gender] = 1\n",
    "\n",
    "for gender, num in gender_freq.items():\n",
    "    template = \"There are {n:,} artworks by {g} artists\"\n",
    "    print(template.format(g=gender, n=num))"
   ]
  },
  {
   "cell_type": "markdown",
   "id": "35997eb4",
   "metadata": {},
   "source": [
    "## Object-Oriented Python"
   ]
  },
  {
   "cell_type": "markdown",
   "id": "ff85b5e1",
   "metadata": {},
   "source": [
    "Determining type of object:"
   ]
  },
  {
   "cell_type": "code",
   "execution_count": 37,
   "id": "9107d38b",
   "metadata": {},
   "outputs": [
    {
     "name": "stdout",
     "output_type": "stream",
     "text": [
      "<class 'list'>\n",
      "<class 'str'>\n",
      "<class 'dict'>\n"
     ]
    }
   ],
   "source": [
    "l = [1, 2, 3]\n",
    "s = \"string\"\n",
    "d = {\"a\": 1, \"b\": 2}\n",
    "\n",
    "print(type(l))\n",
    "print(type(s))\n",
    "print(type(d))"
   ]
  },
  {
   "cell_type": "markdown",
   "id": "cf7f54d6",
   "metadata": {},
   "source": [
    "Using pass to avoid syntax errors:"
   ]
  },
  {
   "cell_type": "code",
   "execution_count": 38,
   "id": "1039ee2a",
   "metadata": {},
   "outputs": [
    {
     "ename": "SyntaxError",
     "evalue": "incomplete input (1752094626.py, line 1)",
     "output_type": "error",
     "traceback": [
      "\u001b[1;36m  Cell \u001b[1;32mIn[38], line 1\u001b[1;36m\u001b[0m\n\u001b[1;33m    class MyClass:\u001b[0m\n\u001b[1;37m                  ^\u001b[0m\n\u001b[1;31mSyntaxError\u001b[0m\u001b[1;31m:\u001b[0m incomplete input\n"
     ]
    }
   ],
   "source": [
    "class MyClass:"
   ]
  },
  {
   "cell_type": "code",
   "execution_count": 39,
   "id": "86345f5f",
   "metadata": {},
   "outputs": [],
   "source": [
    "class MyClass:\n",
    "    pass"
   ]
  },
  {
   "cell_type": "markdown",
   "id": "f14fbc9c",
   "metadata": {},
   "source": [
    "Creating an instance of a class:"
   ]
  },
  {
   "cell_type": "code",
   "execution_count": 40,
   "id": "acbc6921",
   "metadata": {},
   "outputs": [
    {
     "name": "stdout",
     "output_type": "stream",
     "text": [
      "<class '__main__.MyClass'>\n"
     ]
    }
   ],
   "source": [
    "class MyClass:\n",
    "    pass\n",
    "my_instance = MyClass()\n",
    "print(type(my_instance))"
   ]
  },
  {
   "cell_type": "markdown",
   "id": "e28567d1",
   "metadata": {},
   "source": [
    "Creating an instance of a basic class and calling a method:"
   ]
  },
  {
   "cell_type": "code",
   "execution_count": 41,
   "id": "1aae8050",
   "metadata": {},
   "outputs": [
    {
     "name": "stdout",
     "output_type": "stream",
     "text": [
      "This is my first method\n",
      "<class 'str'>\n"
     ]
    }
   ],
   "source": [
    "class MyClass:\n",
    "    \n",
    "    def first_method(self):\n",
    "        return \"This is my first method\"\n",
    "    \n",
    "my_instance = MyClass()\n",
    "\n",
    "result = my_instance.first_method()\n",
    "print(result)\n",
    "print(type(result))"
   ]
  },
  {
   "cell_type": "markdown",
   "id": "cb6bf1d0",
   "metadata": {},
   "source": [
    "Creating an method that accepts an argument:"
   ]
  },
  {
   "cell_type": "code",
   "execution_count": 42,
   "id": "2d6a2b7e",
   "metadata": {},
   "outputs": [
    {
     "name": "stdout",
     "output_type": "stream",
     "text": [
      "[1, 2, 3]\n"
     ]
    }
   ],
   "source": [
    "class MyClass:\n",
    "    \n",
    "    def first_method(self):\n",
    "        return \"This is my first method\"\n",
    "    \n",
    "    # Add method here\n",
    "    \n",
    "    def return_list(self, input_list):\n",
    "        return input_list\n",
    "    \n",
    "my_instance = MyClass()\n",
    "result = my_instance.return_list([1,2,3])\n",
    "print(result)"
   ]
  },
  {
   "cell_type": "markdown",
   "id": "88e94837",
   "metadata": {},
   "source": [
    "Using the init method when instantiating an object:"
   ]
  },
  {
   "cell_type": "code",
   "execution_count": 43,
   "id": "1d751ba3",
   "metadata": {},
   "outputs": [
    {
     "name": "stdout",
     "output_type": "stream",
     "text": [
      "[1, 2, 3, 4, 5]\n"
     ]
    }
   ],
   "source": [
    "## Create a new class called MyList\n",
    "class MyList:\n",
    "\n",
    "    ## When an instance of this class is created, this \"initial_data\" argument is stored in the attribute \"self.data\"\n",
    "    def __init__(self, initial_data):\n",
    "        self.data = initial_data\n",
    "\n",
    "## Create an instance of the class MyList called my_list with the argument [1,2,3,4,5], which will be stored in the self.data attribute.\n",
    "my_list = MyList([1,2,3,4,5])\n",
    "    \n",
    "## Print the .data attribute of the my_list object (instance of the MyList class).\n",
    "print(my_list.data)"
   ]
  },
  {
   "cell_type": "markdown",
   "id": "0abed4ee",
   "metadata": {},
   "source": [
    "Using an append method in a class/on it:"
   ]
  },
  {
   "cell_type": "code",
   "execution_count": 44,
   "id": "167fbd85",
   "metadata": {},
   "outputs": [
    {
     "name": "stdout",
     "output_type": "stream",
     "text": [
      "[1, 2, 3, 4, 5]\n",
      "[1, 2, 3, 4, 5, 6]\n"
     ]
    }
   ],
   "source": [
    "class MyList:\n",
    "\n",
    "    def __init__(self, initial_data):\n",
    "        self.data = initial_data\n",
    "        \n",
    "    # Add method here\n",
    "    \n",
    "    def append(self, new_item):\n",
    "        self.data = self.data + [new_item]\n",
    "        \n",
    "my_list = MyList([1,2,3,4,5])\n",
    "print(my_list.data)\n",
    "my_list.append(6)\n",
    "print(my_list.data)"
   ]
  },
  {
   "cell_type": "markdown",
   "id": "04fcf109",
   "metadata": {},
   "source": [
    "Creating and updating an attribute:"
   ]
  },
  {
   "cell_type": "code",
   "execution_count": 45,
   "id": "55876547",
   "metadata": {},
   "outputs": [
    {
     "name": "stdout",
     "output_type": "stream",
     "text": [
      "[1, 1, 2, 3, 5]\n",
      "5\n",
      "[1, 1, 2, 3, 5, 8]\n",
      "6\n"
     ]
    }
   ],
   "source": [
    "class MyList:\n",
    "\n",
    "    def __init__(self, initial_data):\n",
    "        self.data = initial_data\n",
    "        # Calculate the initial length\n",
    "        self.length = 0\n",
    "        for item in self.data:\n",
    "            self.length += 1\n",
    "\n",
    "    def append(self, new_item):\n",
    "        self.data = self.data + [new_item]\n",
    "        # Update the length here\n",
    "        self.length += 1\n",
    "\n",
    "my_list = MyList([1,1,2,3,5])\n",
    "print(my_list.data)\n",
    "print(my_list.length)\n",
    "my_list.append(8)\n",
    "print(my_list.data)\n",
    "print(my_list.length)"
   ]
  },
  {
   "cell_type": "markdown",
   "id": "a09449fe",
   "metadata": {},
   "source": [
    "## Working with Dates and Times in Python"
   ]
  },
  {
   "cell_type": "markdown",
   "id": "08a01c41",
   "metadata": {},
   "source": [
    "Opening csv and assigning list of lists to variable, thne removing first row:"
   ]
  },
  {
   "cell_type": "code",
   "execution_count": 46,
   "id": "8b6f8f7a",
   "metadata": {},
   "outputs": [
    {
     "name": "stdout",
     "output_type": "stream",
     "text": [
      "30740\n"
     ]
    }
   ],
   "source": [
    "from csv import reader\n",
    "opened_file = open('potus_visitors_2015.csv')\n",
    "read_file = reader(opened_file)\n",
    "potus = list(read_file)\n",
    "\n",
    "potus_headers = potus[0]\n",
    "potus = potus[1:]\n",
    "print(len(potus))"
   ]
  },
  {
   "cell_type": "markdown",
   "id": "81ecfff7",
   "metadata": {},
   "source": [
    "Importing datetime module, creating an object using the function and printing examples:"
   ]
  },
  {
   "cell_type": "code",
   "execution_count": 47,
   "id": "84130a4a",
   "metadata": {},
   "outputs": [
    {
     "name": "stdout",
     "output_type": "stream",
     "text": [
      "2000-01-01 00:00:00\n",
      "<class 'datetime.datetime'>\n",
      "1985-03-13 21:26:02\n",
      "1998-07-07 08:39:00\n"
     ]
    }
   ],
   "source": [
    "## Import module with alias\n",
    "import datetime as dt\n",
    "\n",
    "# Create an object using the datetime function\n",
    "eg_1 = dt.datetime(2000, 1, 1)\n",
    "\n",
    "## Print the object to see it's value and type\n",
    "print(eg_1)\n",
    "print(type(eg_1))\n",
    "\n",
    "eg_2 = dt.datetime(1985,3,13,21,26,2)\n",
    "print(eg_2)\n",
    "\n",
    "eg_3 = dt.datetime(1998,7,7,8,39)\n",
    "print(eg_3)\n",
    "\n",
    "ibm_founded = dt.datetime(1911,6,16)\n",
    "man_on_moon = dt.datetime(1969,7,20,20,17)"
   ]
  },
  {
   "cell_type": "markdown",
   "id": "b569bd92",
   "metadata": {},
   "source": [
    "Using strptime constructors to convert the date string to a datetime object in a format assigned:"
   ]
  },
  {
   "cell_type": "code",
   "execution_count": 48,
   "id": "425d485d",
   "metadata": {},
   "outputs": [
    {
     "name": "stdout",
     "output_type": "stream",
     "text": [
      "2015-01-06 09:30:00\n",
      "2015-01-06 09:30:00\n",
      "2015-01-06 09:30:00\n",
      "2015-01-06 09:30:00\n",
      "2015-01-06 09:30:00\n"
     ]
    }
   ],
   "source": [
    "date_format = \"%m/%d/%Y %H:%M\" ## course csv was premade to have %y\n",
    "\n",
    "for row in potus:\n",
    "    start_date = row[1]\n",
    "    new_date = dt.datetime.strptime(start_date, date_format)\n",
    "    row[1] = new_date\n",
    "    \n",
    "for row in potus[:5]:\n",
    "    print(row[1])"
   ]
  },
  {
   "cell_type": "markdown",
   "id": "93ff1ed1",
   "metadata": {},
   "source": [
    "Taking month and year from the second column, converting to a string, and counting frequency of visits per month/year:"
   ]
  },
  {
   "cell_type": "code",
   "execution_count": 49,
   "id": "7b006d22",
   "metadata": {},
   "outputs": [
    {
     "name": "stdout",
     "output_type": "stream",
     "text": [
      "         Month/Year  Frequency\n",
      "0     January, 2015        935\n",
      "1    February, 2015       1091\n",
      "2       March, 2015       1621\n",
      "3       April, 2015       4180\n",
      "4         May, 2015       1956\n",
      "5        June, 2015       7660\n",
      "6        July, 2015       2068\n",
      "7      August, 2015        939\n",
      "8   September, 2015       3976\n",
      "9     October, 2015       3196\n",
      "10   November, 2015       1118\n",
      "11   December, 2015       2000\n"
     ]
    }
   ],
   "source": [
    "visitors_per_month = {}\n",
    "\n",
    "for row in potus:\n",
    "    start_date = row[1]\n",
    "    sdstring = dt.datetime.strftime(start_date, \"%B, %Y\")\n",
    "    if sdstring in visitors_per_month:\n",
    "        visitors_per_month[sdstring] += 1\n",
    "    else:\n",
    "        visitors_per_month[sdstring] = 1\n",
    "        \n",
    "df = pd.DataFrame(\n",
    "    [[key] + [value] for key, value in visitors_per_month.items()],\n",
    "    columns=['Month/Year','Frequency']\n",
    ")\n",
    "print(df)"
   ]
  },
  {
   "cell_type": "markdown",
   "id": "902ee778",
   "metadata": {},
   "source": []
  },
  {
   "cell_type": "code",
   "execution_count": 50,
   "id": "76372d79",
   "metadata": {},
   "outputs": [
    {
     "name": "stdout",
     "output_type": "stream",
     "text": [
      "[datetime.time(9, 30), datetime.time(9, 30), datetime.time(9, 30), datetime.time(9, 30), datetime.time(9, 30)]\n"
     ]
    }
   ],
   "source": [
    "appointment_times = []\n",
    "\n",
    "for row in potus:\n",
    "    app_datetime = row[1]\n",
    "    app_time = app_datetime.time()\n",
    "    appointment_times.append(app_time)\n",
    "    \n",
    "print(appointment_times[:5])"
   ]
  },
  {
   "cell_type": "markdown",
   "id": "42d8b03e",
   "metadata": {},
   "source": [
    "Determining min and max values from datetime format:"
   ]
  },
  {
   "cell_type": "code",
   "execution_count": 53,
   "id": "f8b55924",
   "metadata": {},
   "outputs": [
    {
     "name": "stdout",
     "output_type": "stream",
     "text": [
      "<class 'datetime.time'>\n",
      "06:00:00\n",
      "21:30:00\n"
     ]
    }
   ],
   "source": [
    "print(type(appointment_times[0]))\n",
    "min_time = min(appointment_times)\n",
    "max_time = max(appointment_times)\n",
    "print(min_time)\n",
    "print(max_time)"
   ]
  },
  {
   "cell_type": "markdown",
   "id": "331a895f",
   "metadata": {},
   "source": [
    "Calculating periods between datetimes and periods before or after a determined length:"
   ]
  },
  {
   "cell_type": "code",
   "execution_count": 54,
   "id": "4d2e0fcb",
   "metadata": {},
   "outputs": [
    {
     "name": "stdout",
     "output_type": "stream",
     "text": [
      "1244 days, 0:00:00\n",
      "2016-07-19 00:00:00\n",
      "2001-01-01 07:24:13\n"
     ]
    }
   ],
   "source": [
    "## January 31st 1981, 00:00:00\n",
    "dt_1 = dt.datetime(1981, 1, 31)\n",
    "## June 28th 1984, 00:00:00\n",
    "dt_2 = dt.datetime(1984, 6, 28)\n",
    "## May 24th 2016, 00:00:00\n",
    "dt_3 = dt.datetime(2016, 5, 24)\n",
    "## January 1st 2001, 08:24:13\n",
    "dt_4 = dt.datetime(2001, 1, 1, 8, 24, 13)\n",
    "\n",
    "answer_1 = dt_2 - dt_1\n",
    "print(answer_1)\n",
    "answer_2 = dt_3 + dt.timedelta(days=56)\n",
    "print(answer_2)\n",
    "answer_3 = dt_4 - dt.timedelta(seconds=3600)\n",
    "print(answer_3)"
   ]
  },
  {
   "cell_type": "markdown",
   "id": "4cc1acac",
   "metadata": {},
   "source": [
    "Calculating lengths of appointments then creating a frequency table:"
   ]
  },
  {
   "cell_type": "code",
   "execution_count": 55,
   "id": "fd4b6a2f",
   "metadata": {},
   "outputs": [
    {
     "name": "stdout",
     "output_type": "stream",
     "text": [
      "2:29:00\n",
      "16 days, 12:59:00\n"
     ]
    }
   ],
   "source": [
    "appt_lengths = {}\n",
    "\n",
    "## Converting the end appointment time to datetime format\n",
    "for row in potus:\n",
    "    end_date = row[2]\n",
    "    end_date = dt.datetime.strptime(end_date, \"%m/%d/%Y %H:%M\")\n",
    "    row[2] = end_date\n",
    "\n",
    "## Calculating the length of the appointment and then creating frequencies of lengths of appointments\n",
    "for row in potus:\n",
    "    start_date = row[1]\n",
    "    end_date = row[2]\n",
    "    length = end_date - start_date\n",
    "    if length in appt_lengths:\n",
    "        appt_lengths[length] += 1\n",
    "    else:\n",
    "        appt_lengths[length] = 1\n",
    "\n",
    "min_length = min(appt_lengths)\n",
    "max_length = max(appt_lengths)\n",
    "\n",
    "print(min_length)\n",
    "print(max_length)"
   ]
  },
  {
   "cell_type": "markdown",
   "id": "646699d9",
   "metadata": {},
   "source": [
    "## Guided Project: Exploring Hacker News Posts"
   ]
  },
  {
   "cell_type": "markdown",
   "id": "30489e05",
   "metadata": {},
   "source": [
    "Please see separate project notebook."
   ]
  }
 ],
 "metadata": {
  "kernelspec": {
   "display_name": "Python 3 (ipykernel)",
   "language": "python",
   "name": "python3"
  },
  "language_info": {
   "codemirror_mode": {
    "name": "ipython",
    "version": 3
   },
   "file_extension": ".py",
   "mimetype": "text/x-python",
   "name": "python",
   "nbconvert_exporter": "python",
   "pygments_lexer": "ipython3",
   "version": "3.10.13"
  }
 },
 "nbformat": 4,
 "nbformat_minor": 5
}
