{
 "cells": [
  {
   "cell_type": "markdown",
   "id": "e9f9507a",
   "metadata": {},
   "source": [
    "## Part 2.1: Introduction to Pandas and NumPy for Data Analysis"
   ]
  },
  {
   "cell_type": "markdown",
   "id": "6c1dd124",
   "metadata": {},
   "source": [
    "## Introduction to NumPy"
   ]
  },
  {
   "cell_type": "markdown",
   "id": "5d7401c1",
   "metadata": {},
   "source": [
    "Importing the NumPy library and creating a NumPy ndarray:"
   ]
  },
  {
   "cell_type": "code",
   "execution_count": 1,
   "id": "426940c5",
   "metadata": {},
   "outputs": [
    {
     "name": "stdout",
     "output_type": "stream",
     "text": [
      "[10 20 30]\n",
      "<class 'numpy.ndarray'>\n"
     ]
    }
   ],
   "source": [
    "## import numpy library and refer to it as np\n",
    "import numpy as np\n",
    "## create a numpy 1D array (ndarray = n-dimensional array)\n",
    "data_ndarray = np.array([10, 20, 30])\n",
    "print(data_ndarray)\n",
    "print(type(data_ndarray))"
   ]
  },
  {
   "cell_type": "markdown",
   "id": "53bc0559",
   "metadata": {},
   "source": [
    "Importing the nyc_taxis csv and converting to a NumPy array:"
   ]
  },
  {
   "cell_type": "code",
   "execution_count": 4,
   "id": "42548b50",
   "metadata": {},
   "outputs": [],
   "source": [
    "from csv import reader\n",
    "\n",
    "# import nyc_taxi.csv as a list of lists\n",
    "opened_file = open(\"nyc_taxis.csv\", \"r\", encoding='UTF8')\n",
    "taxi_list = list(reader(opened_file))\n",
    "\n",
    "# remove the header row\n",
    "taxi_list = taxi_list[1:]\n",
    "\n",
    "# convert all values to floats\n",
    "converted_taxi_list = []\n",
    "\n",
    "# for each row/list in the list of lists\n",
    "for row in taxi_list:\n",
    "    converted_row = []\n",
    "    \n",
    "    # for each item in the row/list\n",
    "    for item in row:\n",
    "        \n",
    "        # convert each item into a float item within a new list\n",
    "        converted_row.append(float(item))\n",
    "    \n",
    "    # append each row to a converted list of the whole taxi_list\n",
    "    converted_taxi_list.append(converted_row)\n",
    "\n",
    "# convert this list of lists into a numpy ndarray\n",
    "taxi = np.array(converted_taxi_list)"
   ]
  },
  {
   "cell_type": "markdown",
   "id": "b9ff7538",
   "metadata": {},
   "source": [
    "Querying the shape of arrays:"
   ]
  },
  {
   "cell_type": "code",
   "execution_count": 5,
   "id": "fbbbb82d",
   "metadata": {},
   "outputs": [
    {
     "name": "stdout",
     "output_type": "stream",
     "text": [
      "[[2.016e+03 1.000e+00 1.000e+00 ... 1.165e+01 6.999e+01 1.000e+00]\n",
      " [2.016e+03 1.000e+00 1.000e+00 ... 8.000e+00 5.430e+01 1.000e+00]\n",
      " [2.016e+03 1.000e+00 1.000e+00 ... 0.000e+00 3.780e+01 2.000e+00]\n",
      " ...\n",
      " [2.016e+03 6.000e+00 3.000e+01 ... 5.000e+00 6.334e+01 1.000e+00]\n",
      " [2.016e+03 6.000e+00 3.000e+01 ... 8.950e+00 4.475e+01 1.000e+00]\n",
      " [2.016e+03 6.000e+00 3.000e+01 ... 0.000e+00 5.484e+01 2.000e+00]]\n",
      "(2, 3)\n",
      "(2013, 15)\n"
     ]
    }
   ],
   "source": [
    "print(taxi)\n",
    "\n",
    "data_ndarray = np.array([[5, 10, 15],[20, 25, 30]])\n",
    "print(data_ndarray.shape)\n",
    "\n",
    "taxi_shape = taxi.shape\n",
    "print(taxi_shape)"
   ]
  },
  {
   "cell_type": "code",
   "execution_count": 9,
   "id": "769d0f84",
   "metadata": {
    "scrolled": true
   },
   "outputs": [
    {
     "name": "stdout",
     "output_type": "stream",
     "text": [
      "[[2016.      1.      1.   ...   11.65   69.99    1.  ]\n",
      " [2016.      1.      1.   ...    8.     54.3     1.  ]\n",
      " [2016.      1.      1.   ...    0.     37.8     2.  ]\n",
      " ...\n",
      " [2016.      6.     30.   ...    5.     63.34    1.  ]\n",
      " [2016.      6.     30.   ...    8.95   44.75    1.  ]\n",
      " [2016.      6.     30.   ...    0.     54.84    2.  ]]\n",
      "(2, 3)\n",
      "(2013, 15)\n"
     ]
    }
   ],
   "source": [
    "np.set_printoptions(suppress=True)\n",
    "print(taxi)\n",
    "np.set_printoptions(suppress=False)\n",
    "\n",
    "data_ndarray = np.array([[5, 10, 15],[20, 25, 30]])\n",
    "print(data_ndarray.shape)\n",
    "\n",
    "taxi_shape = taxi.shape\n",
    "print(taxi_shape)"
   ]
  },
  {
   "cell_type": "markdown",
   "id": "e83188ac",
   "metadata": {},
   "source": [
    "There are 2 rows and 3 columns in the first array.\n",
    "\n",
    "There are 2013 rows and 15 columns in the taxi array."
   ]
  },
  {
   "cell_type": "markdown",
   "id": "02e46967",
   "metadata": {},
   "source": [
    "Selecting rows/items using NumPy ndarrays:"
   ]
  },
  {
   "cell_type": "code",
   "execution_count": null,
   "id": "e73620ad",
   "metadata": {},
   "outputs": [],
   "source": [
    "## the first row\n",
    "row_0 = taxi[0]\n",
    "\n",
    "## a range of rows\n",
    "rows_391_to_500 = taxi[391:501]\n",
    "\n",
    "## a specific row and column\n",
    "row_21_column_5 = taxi[21,5]"
   ]
  },
  {
   "cell_type": "markdown",
   "id": "5aa28c85",
   "metadata": {},
   "source": [
    "Selecting seprated columns/rows/items using NumPy ndarrays."
   ]
  },
  {
   "cell_type": "code",
   "execution_count": null,
   "id": "696655f3",
   "metadata": {},
   "outputs": [],
   "source": [
    "# determining a set of columns\n",
    "cols = [1,4,7]\n",
    "\n",
    "# selecting columns from array using a globally determined set of columns\n",
    "columns_1_4_7 = taxi[:,cols]\n",
    "## equivalent to \n",
    "## columns_1_4_7 = taxi[:1,4,7]\n",
    "\n",
    "row_99_columns_5_to_8 = taxi[99,5:9]\n",
    "\n",
    "rows_100_to_200_column_14 = taxi[100:201,14]"
   ]
  },
  {
   "cell_type": "markdown",
   "id": "bbe69858",
   "metadata": {},
   "source": [
    "Vectorized operations:\n",
    "Slicing columns and performing functions:"
   ]
  },
  {
   "cell_type": "code",
   "execution_count": 11,
   "id": "c861931e",
   "metadata": {},
   "outputs": [
    {
     "name": "stdout",
     "output_type": "stream",
     "text": [
      "[52.8 46.3 37.8 ... 52.8 35.8 49.3]\n"
     ]
    }
   ],
   "source": [
    "fare_amount = taxi[:,9]\n",
    "fees_amount = taxi[:,10]\n",
    "\n",
    "fare_and_fees = fare_amount + fees_amount\n",
    "print(fare_and_fees)"
   ]
  },
  {
   "cell_type": "code",
   "execution_count": 12,
   "id": "9c94d3cb",
   "metadata": {},
   "outputs": [
    {
     "name": "stdout",
     "output_type": "stream",
     "text": [
      "[37.11340206 38.58157895 31.27222982 ... 22.29907867 42.41551247\n",
      " 36.90473407]\n"
     ]
    }
   ],
   "source": [
    "trip_distance_miles = taxi[:,7]\n",
    "trip_length_seconds = taxi[:,8]\n",
    "\n",
    "trip_length_hours = trip_length_seconds / 3600 # 3600 seconds is one hour\n",
    "\n",
    "trip_mph = trip_distance_miles / trip_length_hours\n",
    "print(trip_mph)"
   ]
  },
  {
   "cell_type": "markdown",
   "id": "7f618d1e",
   "metadata": {},
   "source": [
    "Calculating statistics for 1D Ndarrays:"
   ]
  },
  {
   "cell_type": "code",
   "execution_count": 14,
   "id": "16d126a5",
   "metadata": {},
   "outputs": [
    {
     "name": "stdout",
     "output_type": "stream",
     "text": [
      "0.0\n",
      "82800.0\n",
      "169.98315083655157\n"
     ]
    }
   ],
   "source": [
    "mph_min = trip_mph.min()\n",
    "mph_max = trip_mph.max()\n",
    "mph_mean = trip_mph.mean()\n",
    "print(mph_min)\n",
    "print(mph_max)\n",
    "print(mph_mean)"
   ]
  },
  {
   "cell_type": "markdown",
   "id": "1c3399b4",
   "metadata": {},
   "source": [
    "Calculating statistics for 2D Ndarrays:"
   ]
  },
  {
   "cell_type": "code",
   "execution_count": 15,
   "id": "a75cf6b1",
   "metadata": {},
   "outputs": [
    {
     "name": "stdout",
     "output_type": "stream",
     "text": [
      "[69.99 54.3  37.8  32.76 18.8 ]\n",
      "[69.99 54.3  37.8  32.76 18.8 ]\n"
     ]
    }
   ],
   "source": [
    "# we'll compare against the first 5 rows only\n",
    "taxi_first_five = taxi[:5]\n",
    "\n",
    "# select these columns: fare_amount, fees_amount, tolls_amount, tip_amount\n",
    "fare_components = taxi_first_five[:,9:13]\n",
    "\n",
    "fare_sums = fare_components.sum(axis=1)\n",
    "\n",
    "fare_totals = taxi_first_five[:,13]\n",
    "\n",
    "print(fare_totals)\n",
    "print(fare_sums)"
   ]
  },
  {
   "cell_type": "markdown",
   "id": "47994858",
   "metadata": {},
   "source": [
    "## Boolean Indexing with NumPy"
   ]
  },
  {
   "cell_type": "markdown",
   "id": "35f58e49",
   "metadata": {},
   "source": [
    "Generating NumPy Ndarrays direct from csv files:"
   ]
  },
  {
   "cell_type": "code",
   "execution_count": 30,
   "id": "70d7c31a",
   "metadata": {},
   "outputs": [
    {
     "name": "stdout",
     "output_type": "stream",
     "text": [
      "[[    nan     nan     nan     nan     nan     nan     nan     nan     nan\n",
      "      nan     nan     nan     nan     nan     nan]\n",
      " [2016.      1.      1.      5.      0.      2.      4.     21.   2037.\n",
      "    52.      0.8     5.54   11.65   69.99    1.  ]\n",
      " [2016.      1.      1.      5.      0.      2.      1.     16.29 1520.\n",
      "    45.      1.3     0.      8.     54.3     1.  ]]\n",
      "float64\n",
      "(2014, 15)\n"
     ]
    }
   ],
   "source": [
    "import numpy as np\n",
    "np.set_printoptions(suppress=True) \n",
    "## Added this separately as list items were appearing with scientific notation\n",
    "\n",
    "taxi = np.genfromtxt(\"nyc_taxis.csv\", delimiter=\",\", encoding=None)\n",
    "taxi_shape = taxi.shape\n",
    "\n",
    "print(taxi[:3])\n",
    "print(taxi.dtype)\n",
    "print(taxi_shape)\n",
    "\n",
    "np.set_printoptions(suppress=False)"
   ]
  },
  {
   "cell_type": "markdown",
   "id": "6b203ee6",
   "metadata": {},
   "source": [
    "The header row reults with NaN (not a number) due to np choosing float64 as the data type."
   ]
  },
  {
   "cell_type": "markdown",
   "id": "63847f4d",
   "metadata": {},
   "source": [
    "We can use dtype=None and result with <U21 datatype (unicode - 21 characters) or,\n",
    "we can remove the header first and stick with a float64 datatype array."
   ]
  },
  {
   "cell_type": "code",
   "execution_count": 31,
   "id": "5719192d",
   "metadata": {},
   "outputs": [
    {
     "name": "stdout",
     "output_type": "stream",
     "text": [
      "[['pickup_year' 'pickup_month' 'pickup_day' 'pickup_dayofweek'\n",
      "  'pickup_time' 'pickup_location_code' 'dropoff_location_code'\n",
      "  'trip_distance' 'trip_length' 'fare_amount' 'fees_amount'\n",
      "  'tolls_amount' 'tip_amount' 'total_amount' 'payment_type']\n",
      " ['2016' '1' '1' '5' '0' '2' '4' '21.00' '2037' '52.00' '0.80' '5.54'\n",
      "  '11.65' '69.99' '1']\n",
      " ['2016' '1' '1' '5' '0' '2' '1' '16.29' '1520' '45.00' '1.30' '0.00'\n",
      "  '8.00' '54.30' '1']]\n",
      "<U21\n",
      "(2014, 15)\n"
     ]
    }
   ],
   "source": [
    "import numpy as np\n",
    "np.set_printoptions(suppress=True)\n",
    "\n",
    "taxi = np.genfromtxt(\"nyc_taxis.csv\", delimiter=\",\", dtype=None, encoding=None)\n",
    "taxi_shape = taxi.shape\n",
    "\n",
    "print(taxi[:3])\n",
    "print(taxi.dtype)\n",
    "print(taxi_shape)\n",
    "\n",
    "np.set_printoptions(suppress=False)"
   ]
  },
  {
   "cell_type": "code",
   "execution_count": 33,
   "id": "ee70b23b",
   "metadata": {},
   "outputs": [
    {
     "name": "stdout",
     "output_type": "stream",
     "text": [
      "[[2016.      1.      1.      5.      0.      2.      4.     21.   2037.\n",
      "    52.      0.8     5.54   11.65   69.99    1.  ]\n",
      " [2016.      1.      1.      5.      0.      2.      1.     16.29 1520.\n",
      "    45.      1.3     0.      8.     54.3     1.  ]\n",
      " [2016.      1.      1.      5.      0.      2.      6.     12.7  1462.\n",
      "    36.5     1.3     0.      0.     37.8     2.  ]]\n",
      "float64\n",
      "(2013, 15)\n"
     ]
    }
   ],
   "source": [
    "import numpy as np\n",
    "np.set_printoptions(suppress=True)\n",
    "\n",
    "taxi = np.genfromtxt(\"nyc_taxis.csv\", delimiter=\",\", skip_header=1, encoding=None)\n",
    "taxi_shape = taxi.shape\n",
    "\n",
    "print(taxi[:3])\n",
    "print(taxi.dtype)\n",
    "print(taxi_shape)\n",
    "\n",
    "np.set_printoptions(suppress=False)"
   ]
  },
  {
   "cell_type": "markdown",
   "id": "965611f4",
   "metadata": {},
   "source": [
    "Boolean arrays:"
   ]
  },
  {
   "cell_type": "code",
   "execution_count": 34,
   "id": "e0437dbd",
   "metadata": {
    "scrolled": true
   },
   "outputs": [
    {
     "name": "stdout",
     "output_type": "stream",
     "text": [
      "[ True  True False False False]\n",
      "[ True  True False  True]\n",
      "[False  True False  True]\n"
     ]
    }
   ],
   "source": [
    "a = np.array([1, 2, 3, 4, 5])\n",
    "b = np.array([\"blue\", \"blue\", \"red\", \"blue\"])\n",
    "c = np.array([80.0, 103.4, 96.9, 200.3])\n",
    "\n",
    "a_bool = a < 3\n",
    "print(a_bool)\n",
    "b_bool = b == \"blue\"\n",
    "print(b_bool)\n",
    "c_bool = c > 100\n",
    "print(c_bool)"
   ]
  },
  {
   "cell_type": "markdown",
   "id": "8d710d3f",
   "metadata": {},
   "source": [
    "Using boolean arrays to determine number of rides:"
   ]
  },
  {
   "cell_type": "code",
   "execution_count": 35,
   "id": "37e82bf5",
   "metadata": {},
   "outputs": [
    {
     "name": "stdout",
     "output_type": "stream",
     "text": [
      "[1. 1. 1. 1.]\n",
      "2013\n",
      "[ True  True  True  True]\n",
      "2013\n",
      "[1. 1. 1. 1.]\n",
      "800\n",
      "176\n"
     ]
    }
   ],
   "source": [
    "## Create an 1D ndarray that is the first column from the taxis ndarray\n",
    "pickup_month = taxi[:,1]\n",
    "print(pickup_month[:4])\n",
    "print(len(pickup_month))\n",
    "      \n",
    "## Create a boolean array of whether the first column in pickup_month is 1\n",
    "january_bool = pickup_month == 1\n",
    "print(january_bool[:4])\n",
    "print(len(january_bool))\n",
    "      \n",
    "## Create a new array of pickup_month, filtered using the january_bool index, called january_bool\n",
    "january = pickup_month[january_bool]\n",
    "print(january[:4])\n",
    "\n",
    "## Check the length of the new array, after filtering\n",
    "january_rides = january.shape[0]\n",
    "print(january_rides)\n",
    "\n",
    "## for February\n",
    "february_bool = pickup_month == 2\n",
    "february = pickup_month[february_bool]\n",
    "february_rides = february.shape[0]\n",
    "\n",
    "print(february_rides)"
   ]
  },
  {
   "cell_type": "markdown",
   "id": "b241d439",
   "metadata": {},
   "source": [
    "Boolean Indexing with 2D ndarrays:"
   ]
  },
  {
   "cell_type": "code",
   "execution_count": 43,
   "id": "b1afdfa2",
   "metadata": {},
   "outputs": [
    {
     "name": "stdout",
     "output_type": "stream",
     "text": [
      "[[   4.      2.     21.45 2004.     52.      0.8     0.     52.8   105.6 ]\n",
      " [   3.      3.      5.4    74.     80.      0.3     0.     24.05  104.35]\n",
      " [   4.      3.      8.55  832.     23.5     0.8     0.     25.     49.3 ]\n",
      " [   4.      2.     16.5  4340.     52.      0.8     5.54   21.     79.34]]\n",
      "(4, 9)\n"
     ]
    }
   ],
   "source": [
    "np.set_printoptions(suppress=True) \n",
    "\n",
    "## tip_amount = the 13th column\n",
    "tip_amount = taxi[:,12]\n",
    "\n",
    "## tip_bool = this column with TRUE/FALSE depending on whether the number is above 20\n",
    "tip_bool = tip_amount > 20\n",
    "\n",
    "## filtering the taxi array based on rows that are TRUE, and columns 6 to 15)\n",
    "top_tips = taxi[tip_bool,5:14]\n",
    "print(top_tips)\n",
    "print(top_tips.shape)\n",
    "np.set_printoptions(suppress=False)"
   ]
  },
  {
   "cell_type": "markdown",
   "id": "6b05d991",
   "metadata": {},
   "source": [
    "Modifying values in an array:"
   ]
  },
  {
   "cell_type": "code",
   "execution_count": 46,
   "id": "e9e52f2b",
   "metadata": {},
   "outputs": [
    {
     "name": "stdout",
     "output_type": "stream",
     "text": [
      "(2013, 15)\n",
      "[[   2.            1.           12.18       2300.        ]\n",
      " [   2.            6.           15.8        1824.        ]\n",
      " [   3.            4.           12.92477894 1074.        ]\n",
      " [   3.            4.           12.92477894  974.        ]\n",
      " [   2.            4.           20.02       1979.        ]\n",
      " [   3.            6.            3.8         572.        ]]\n"
     ]
    }
   ],
   "source": [
    "taxi_modified = taxi.copy()\n",
    "taxi_modified[1066,5] = 1\n",
    "taxi_modified[:,0] = 16\n",
    "taxi_modified[550:552,7] = taxi_modified[:,7].mean()\n",
    "\n",
    "np.set_printoptions(suppress=True) \n",
    "print(taxi_modified.shape)\n",
    "print(taxi_modified[548:554,5:9])\n",
    "np.set_printoptions(suppress=False)"
   ]
  },
  {
   "cell_type": "markdown",
   "id": "c8be9017",
   "metadata": {},
   "source": [
    "Updating values using boolean arrays:"
   ]
  },
  {
   "cell_type": "code",
   "execution_count": 59,
   "id": "6f5785bf",
   "metadata": {},
   "outputs": [
    {
     "name": "stdout",
     "output_type": "stream",
     "text": [
      "[2037. 1520. 1462. ... 2822. 1083. 1711.]\n"
     ]
    }
   ],
   "source": [
    "taxi_copy = taxi.copy()\n",
    "\n",
    "## create a 1D array of values in the 14th column (index 13) of the taxi_copy array\n",
    "total_amount = taxi_copy[:,8]\n",
    "\n",
    "## modifying values in this array based on TRUE responses to a criteria\n",
    "total_amount[total_amount < 60] = 0\n",
    "print(trip_length)"
   ]
  },
  {
   "cell_type": "code",
   "execution_count": 64,
   "id": "4b25477f",
   "metadata": {
    "scrolled": true
   },
   "outputs": [
    {
     "name": "stdout",
     "output_type": "stream",
     "text": [
      "[[2016.      1.      1.   ...   69.99    1.      0.  ]\n",
      " [2016.      1.      1.   ...   54.3     1.      0.  ]\n",
      " [2016.      1.      1.   ...   37.8     2.      0.  ]\n",
      " ...\n",
      " [2016.      6.     30.   ...   63.34    1.      0.  ]\n",
      " [2016.      6.     30.   ...   44.75    1.      0.  ]\n",
      " [2016.      6.     30.   ...   54.84    2.      0.  ]]\n",
      "\n",
      "\n",
      "[[ 3.    1.   17.7  ... 53.3   2.    0.  ]\n",
      " [ 4.    3.    8.6  ... 39.14  1.    1.  ]\n",
      " [ 4.    3.    8.64 ... 37.61  1.    1.  ]\n",
      " ...\n",
      " [ 2.    4.   17.48 ... 63.34  1.    0.  ]\n",
      " [ 2.    6.   12.76 ... 44.75  1.    0.  ]\n",
      " [ 2.    0.   17.54 ... 54.84  2.    0.  ]]\n"
     ]
    }
   ],
   "source": [
    "np.set_printoptions(suppress=True) \n",
    "## bool = array[:, column_for_comparison] == value_for_comparison\n",
    "## array[bool, column_for_assignment] = new_value\n",
    "\n",
    "## create a new array based on the length of another\n",
    "## name of array (zeros) = an array full of zeroes (np.zeros), with number of rows equal to the number of rows in taxi (taxi.shape[0]), and 1 column ([1])\n",
    "zeros = np.zeros([taxi.shape[0],1])\n",
    "\n",
    "## new array = combination (np.concatenate) of the 'taxi' array, and the 'zeros' array, along the column axis(1)\n",
    "taxi_modified = np.concatenate([taxi,zeros],axis=1)\n",
    "print(taxi_modified)\n",
    "\n",
    "## longer method of assigning values:\n",
    "\n",
    "## jfk_bool is a boolean array of all rows based on if the values in the 7th column are equal to 2\n",
    "jfk_bool = taxi_modified[:, 6] == 2\n",
    "\n",
    "## modifying values in the taxi_modified 16th column to 0 based on the boolean\n",
    "## in the 'taxi_modified' array, 'rows equal to those with the True value' and 'column 16' = 1\n",
    "taxi_modified[jfk_bool,15] = 1\n",
    "\n",
    "## shorter methods:\n",
    "\n",
    "## in the 'taxi_modified' array, the rows chosen are:\n",
    "    ## a boolean array based on the 'taxi_modified' array where the value in the 6th column is 2 // taxi_modified[:, 5] == 2\n",
    "## the column chosen is the one at index 15 (16th column)\n",
    "## the new value is 1\n",
    "taxi_modified[taxi_modified[:, 6] == 2, 15] = 1\n",
    "taxi_modified[taxi_modified[:, 6] == 3, 15] = 1\n",
    "taxi_modified[taxi_modified[:, 6] == 5, 15] = 1\n",
    "print('\\n')\n",
    "print(taxi_modified[100:,5:])\n",
    "np.set_printoptions(suppress=False) "
   ]
  },
  {
   "cell_type": "markdown",
   "id": "328741b7",
   "metadata": {},
   "source": [
    "Determining which airport had the highest number of flights inbound:"
   ]
  },
  {
   "cell_type": "code",
   "execution_count": 65,
   "id": "b0475e90",
   "metadata": {},
   "outputs": [
    {
     "name": "stdout",
     "output_type": "stream",
     "text": [
      "<class 'int'>\n",
      "285\n",
      "308\n",
      "2\n"
     ]
    }
   ],
   "source": [
    "## jfk is an array based on the taxi array, with all the columns, but where the 7th column in the taxi array is 2\n",
    "jfk = taxi[taxi[:,6] == 2]\n",
    "\n",
    "## jfk_count is a value equal to the shape of the jfk array, on the 0(row) axis\n",
    "jfk_count = jfk.shape[0]\n",
    "print(type(jfk_count))\n",
    "print(jfk_count)\n",
    "\n",
    "laguardia = taxi[taxi[:,6] == 3]\n",
    "laguardia_count = laguardia.shape[0]\n",
    "print(laguardia_count)\n",
    "\n",
    "newark = taxi[taxi[:,6] == 5]\n",
    "newark_count = newark.shape[0]\n",
    "print(newark_count)"
   ]
  },
  {
   "cell_type": "markdown",
   "id": "e75f623c",
   "metadata": {},
   "source": [
    "Calculating statistics for trips on clean data:"
   ]
  },
  {
   "cell_type": "code",
   "execution_count": 68,
   "id": "2a33dc46",
   "metadata": {},
   "outputs": [
    {
     "name": "stdout",
     "output_type": "stream",
     "text": [
      "12.9 miles on average\n",
      "37.86 minutes on average\n",
      "48.7 dollars on average\n"
     ]
    }
   ],
   "source": [
    "trip_mph = taxi[:,7] / (taxi[:,8] / 3600)\n",
    "\n",
    "##cleaned_taxi is an array based on the taxi array, where the rows chosen are a boolean array based on whether trip_mph < 100,\n",
    "cleaned_taxi = taxi[trip_mph<100]\n",
    "\n",
    "## the mean_distance int is the mean of the values in the 8th column of the cleaned_taxi array\n",
    "mean_distance = cleaned_taxi[:,7].mean()\n",
    "print(round(mean_distance,2),\"miles on average\")\n",
    "\n",
    "mean_length = cleaned_taxi[:,8].mean() / 60\n",
    "print(round(mean_length,2),\"minutes on average\")\n",
    "\n",
    "mean_total_amount = cleaned_taxi[:,13].mean()\n",
    "print(round(mean_total_amount,2),\"dollars on average\")"
   ]
  },
  {
   "cell_type": "markdown",
   "id": "05e855e4",
   "metadata": {},
   "source": [
    "## Introduction to pandas"
   ]
  },
  {
   "cell_type": "markdown",
   "id": "22e165b7",
   "metadata": {},
   "source": [
    "Importing pandas, reading csvs into dataframes, determining the type and shape of dataframes:"
   ]
  },
  {
   "cell_type": "code",
   "execution_count": 69,
   "id": "0efeb376",
   "metadata": {},
   "outputs": [
    {
     "name": "stdout",
     "output_type": "stream",
     "text": [
      "<class 'pandas.core.frame.DataFrame'>\n",
      "(500, 16)\n",
      "                                rank  revenues  revenue_change  profits  \\\n",
      "Walmart                            1    485873             0.8  13643.0   \n",
      "State Grid                         2    315199            -4.4   9571.3   \n",
      "Sinopec Group                      3    267518            -9.1   1257.9   \n",
      "China National Petroleum           4    262573           -12.3   1867.5   \n",
      "Toyota Motor                       5    254694             7.7  16899.3   \n",
      "...                              ...       ...             ...      ...   \n",
      "Teva Pharmaceutical Industries   496     21903            11.5    329.0   \n",
      "New China Life Insurance         497     21796           -13.3    743.9   \n",
      "Wm. Morrison Supermarkets        498     21741           -11.3    406.4   \n",
      "TUI                              499     21655            -5.5   1151.7   \n",
      "AutoNation                       500     21609             3.6    430.5   \n",
      "\n",
      "                                assets  profit_change                  ceo  \\\n",
      "Walmart                         198825           -7.2  C. Douglas McMillon   \n",
      "State Grid                      489838           -6.2              Kou Wei   \n",
      "Sinopec Group                   310726          -65.0            Wang Yupu   \n",
      "China National Petroleum        585619          -73.7        Zhang Jianhua   \n",
      "Toyota Motor                    437575          -12.3          Akio Toyoda   \n",
      "...                                ...            ...                  ...   \n",
      "Teva Pharmaceutical Industries   92890          -79.3    Yitzhak Peterburg   \n",
      "New China Life Insurance        100609          -45.6             Wan Feng   \n",
      "Wm. Morrison Supermarkets        11630           20.4       David T. Potts   \n",
      "TUI                              16247          195.5    Friedrich Joussen   \n",
      "AutoNation                       10060           -2.7   Michael J. Jackson   \n",
      "\n",
      "                                                       industry  \\\n",
      "Walmart                                   General Merchandisers   \n",
      "State Grid                                            Utilities   \n",
      "Sinopec Group                                Petroleum Refining   \n",
      "China National Petroleum                     Petroleum Refining   \n",
      "Toyota Motor                           Motor Vehicles and Parts   \n",
      "...                                                         ...   \n",
      "Teva Pharmaceutical Industries                  Pharmaceuticals   \n",
      "New China Life Insurance        Insurance: Life, Health (stock)   \n",
      "Wm. Morrison Supermarkets                  Food and Drug Stores   \n",
      "TUI                                             Travel Services   \n",
      "AutoNation                                  Specialty Retailers   \n",
      "\n",
      "                                                sector  previous_rank  \\\n",
      "Walmart                                      Retailing              1   \n",
      "State Grid                                      Energy              2   \n",
      "Sinopec Group                                   Energy              4   \n",
      "China National Petroleum                        Energy              3   \n",
      "Toyota Motor                    Motor Vehicles & Parts              8   \n",
      "...                                                ...            ...   \n",
      "Teva Pharmaceutical Industries             Health Care              0   \n",
      "New China Life Insurance                    Financials            427   \n",
      "Wm. Morrison Supermarkets           Food & Drug Stores            437   \n",
      "TUI                                  Business Services            467   \n",
      "AutoNation                                   Retailing              0   \n",
      "\n",
      "                                country           hq_location  \\\n",
      "Walmart                             USA       Bentonville, AR   \n",
      "State Grid                        China        Beijing, China   \n",
      "Sinopec Group                     China        Beijing, China   \n",
      "China National Petroleum          China        Beijing, China   \n",
      "Toyota Motor                      Japan         Toyota, Japan   \n",
      "...                                 ...                   ...   \n",
      "Teva Pharmaceutical Industries   Israel  Petach Tikva, Israel   \n",
      "New China Life Insurance          China        Beijing, China   \n",
      "Wm. Morrison Supermarkets       Britain     Bradford, Britain   \n",
      "TUI                             Germany      Hanover, Germany   \n",
      "AutoNation                          USA   Fort Lauderdale, FL   \n",
      "\n",
      "                                                     website  \\\n",
      "Walmart                               http://www.walmart.com   \n",
      "State Grid                            http://www.sgcc.com.cn   \n",
      "Sinopec Group                         http://www.sinopec.com   \n",
      "China National Petroleum              http://www.cnpc.com.cn   \n",
      "Toyota Motor                    http://www.toyota-global.com   \n",
      "...                                                      ...   \n",
      "Teva Pharmaceutical Industries      http://www.tevapharm.com   \n",
      "New China Life Insurance         http://www.newchinalife.com   \n",
      "Wm. Morrison Supermarkets           http://www.morrisons.com   \n",
      "TUI                                  http://www.tuigroup.com   \n",
      "AutoNation                         http://www.autonation.com   \n",
      "\n",
      "                                years_on_global_500_list  employees  \\\n",
      "Walmart                                               23    2300000   \n",
      "State Grid                                            17     926067   \n",
      "Sinopec Group                                         19     713288   \n",
      "China National Petroleum                              17    1512048   \n",
      "Toyota Motor                                          23     364445   \n",
      "...                                                  ...        ...   \n",
      "Teva Pharmaceutical Industries                         1      56960   \n",
      "New China Life Insurance                               2      54378   \n",
      "Wm. Morrison Supermarkets                             13      77210   \n",
      "TUI                                                   23      66779   \n",
      "AutoNation                                            12      26000   \n",
      "\n",
      "                                total_stockholder_equity  \n",
      "Walmart                                            77798  \n",
      "State Grid                                        209456  \n",
      "Sinopec Group                                     106523  \n",
      "China National Petroleum                          301893  \n",
      "Toyota Motor                                      157210  \n",
      "...                                                  ...  \n",
      "Teva Pharmaceutical Industries                     33337  \n",
      "New China Life Insurance                            8507  \n",
      "Wm. Morrison Supermarkets                           5111  \n",
      "TUI                                                 3006  \n",
      "AutoNation                                          2310  \n",
      "\n",
      "[500 rows x 16 columns]\n"
     ]
    }
   ],
   "source": [
    "import pandas as pd\n",
    "f500 = pd.read_csv('f500.csv',index_col=0)\n",
    "f500.index.name = None\n",
    "\n",
    "f500_type = type(f500)\n",
    "print(f500_type)\n",
    "\n",
    "f500_shape = f500.shape\n",
    "print(f500_shape)\n",
    "\n",
    "print(f500)"
   ]
  },
  {
   "cell_type": "markdown",
   "id": "c44cd573",
   "metadata": {},
   "source": [
    "Printing head and tail of a dataframe:"
   ]
  },
  {
   "cell_type": "code",
   "execution_count": 70,
   "id": "674cd77b",
   "metadata": {},
   "outputs": [
    {
     "name": "stdout",
     "output_type": "stream",
     "text": [
      "                          rank  revenues  revenue_change  profits  assets  \\\n",
      "Walmart                      1    485873             0.8  13643.0  198825   \n",
      "State Grid                   2    315199            -4.4   9571.3  489838   \n",
      "Sinopec Group                3    267518            -9.1   1257.9  310726   \n",
      "China National Petroleum     4    262573           -12.3   1867.5  585619   \n",
      "Toyota Motor                 5    254694             7.7  16899.3  437575   \n",
      "Volkswagen                   6    240264             1.5   5937.3  432116   \n",
      "\n",
      "                          profit_change                  ceo  \\\n",
      "Walmart                            -7.2  C. Douglas McMillon   \n",
      "State Grid                         -6.2              Kou Wei   \n",
      "Sinopec Group                     -65.0            Wang Yupu   \n",
      "China National Petroleum          -73.7        Zhang Jianhua   \n",
      "Toyota Motor                      -12.3          Akio Toyoda   \n",
      "Volkswagen                          NaN      Matthias Muller   \n",
      "\n",
      "                                          industry                  sector  \\\n",
      "Walmart                      General Merchandisers               Retailing   \n",
      "State Grid                               Utilities                  Energy   \n",
      "Sinopec Group                   Petroleum Refining                  Energy   \n",
      "China National Petroleum        Petroleum Refining                  Energy   \n",
      "Toyota Motor              Motor Vehicles and Parts  Motor Vehicles & Parts   \n",
      "Volkswagen                Motor Vehicles and Parts  Motor Vehicles & Parts   \n",
      "\n",
      "                          previous_rank  country         hq_location  \\\n",
      "Walmart                               1      USA     Bentonville, AR   \n",
      "State Grid                            2    China      Beijing, China   \n",
      "Sinopec Group                         4    China      Beijing, China   \n",
      "China National Petroleum              3    China      Beijing, China   \n",
      "Toyota Motor                          8    Japan       Toyota, Japan   \n",
      "Volkswagen                            7  Germany  Wolfsburg, Germany   \n",
      "\n",
      "                                               website  \\\n",
      "Walmart                         http://www.walmart.com   \n",
      "State Grid                      http://www.sgcc.com.cn   \n",
      "Sinopec Group                   http://www.sinopec.com   \n",
      "China National Petroleum        http://www.cnpc.com.cn   \n",
      "Toyota Motor              http://www.toyota-global.com   \n",
      "Volkswagen                   http://www.volkswagen.com   \n",
      "\n",
      "                          years_on_global_500_list  employees  \\\n",
      "Walmart                                         23    2300000   \n",
      "State Grid                                      17     926067   \n",
      "Sinopec Group                                   19     713288   \n",
      "China National Petroleum                        17    1512048   \n",
      "Toyota Motor                                    23     364445   \n",
      "Volkswagen                                      23     626715   \n",
      "\n",
      "                          total_stockholder_equity  \n",
      "Walmart                                      77798  \n",
      "State Grid                                  209456  \n",
      "Sinopec Group                               106523  \n",
      "China National Petroleum                    301893  \n",
      "Toyota Motor                                157210  \n",
      "Volkswagen                                   97753  \n",
      "                                       rank  revenues  revenue_change  \\\n",
      "Telecom Italia                          493     21941           -17.4   \n",
      "Xiamen ITG Holding Group                494     21930            34.3   \n",
      "Xinjiang Guanghui Industry Investment   495     21919            31.1   \n",
      "Teva Pharmaceutical Industries          496     21903            11.5   \n",
      "New China Life Insurance                497     21796           -13.3   \n",
      "Wm. Morrison Supermarkets               498     21741           -11.3   \n",
      "TUI                                     499     21655            -5.5   \n",
      "AutoNation                              500     21609             3.6   \n",
      "\n",
      "                                       profits  assets  profit_change  \\\n",
      "Telecom Italia                          1999.4   74295            NaN   \n",
      "Xiamen ITG Holding Group                  35.6   12161          -25.1   \n",
      "Xinjiang Guanghui Industry Investment    251.8   31957           49.9   \n",
      "Teva Pharmaceutical Industries           329.0   92890          -79.3   \n",
      "New China Life Insurance                 743.9  100609          -45.6   \n",
      "Wm. Morrison Supermarkets                406.4   11630           20.4   \n",
      "TUI                                     1151.7   16247          195.5   \n",
      "AutoNation                               430.5   10060           -2.7   \n",
      "\n",
      "                                                      ceo  \\\n",
      "Telecom Italia                            Flavio Cattaneo   \n",
      "Xiamen ITG Holding Group                        Xu Xiaoxi   \n",
      "Xinjiang Guanghui Industry Investment       Shang Jiqiang   \n",
      "Teva Pharmaceutical Industries          Yitzhak Peterburg   \n",
      "New China Life Insurance                         Wan Feng   \n",
      "Wm. Morrison Supermarkets                  David T. Potts   \n",
      "TUI                                     Friedrich Joussen   \n",
      "AutoNation                             Michael J. Jackson   \n",
      "\n",
      "                                                              industry  \\\n",
      "Telecom Italia                                      Telecommunications   \n",
      "Xiamen ITG Holding Group                                       Trading   \n",
      "Xinjiang Guanghui Industry Investment                          Trading   \n",
      "Teva Pharmaceutical Industries                         Pharmaceuticals   \n",
      "New China Life Insurance               Insurance: Life, Health (stock)   \n",
      "Wm. Morrison Supermarkets                         Food and Drug Stores   \n",
      "TUI                                                    Travel Services   \n",
      "AutoNation                                         Specialty Retailers   \n",
      "\n",
      "                                                   sector  previous_rank  \\\n",
      "Telecom Italia                         Telecommunications            404   \n",
      "Xiamen ITG Holding Group                      Wholesalers              0   \n",
      "Xinjiang Guanghui Industry Investment         Wholesalers              0   \n",
      "Teva Pharmaceutical Industries                Health Care              0   \n",
      "New China Life Insurance                       Financials            427   \n",
      "Wm. Morrison Supermarkets              Food & Drug Stores            437   \n",
      "TUI                                     Business Services            467   \n",
      "AutoNation                                      Retailing              0   \n",
      "\n",
      "                                       country           hq_location  \\\n",
      "Telecom Italia                           Italy          Milan, Italy   \n",
      "Xiamen ITG Holding Group                 China         Xiamen, China   \n",
      "Xinjiang Guanghui Industry Investment    China         Urumqi, China   \n",
      "Teva Pharmaceutical Industries          Israel  Petach Tikva, Israel   \n",
      "New China Life Insurance                 China        Beijing, China   \n",
      "Wm. Morrison Supermarkets              Britain     Bradford, Britain   \n",
      "TUI                                    Germany      Hanover, Germany   \n",
      "AutoNation                                 USA   Fort Lauderdale, FL   \n",
      "\n",
      "                                                            website  \\\n",
      "Telecom Italia                         http://www.telecomitalia.com   \n",
      "Xiamen ITG Holding Group               http://www.itgholding.com.cn   \n",
      "Xinjiang Guanghui Industry Investment       http://www.guanghui.com   \n",
      "Teva Pharmaceutical Industries             http://www.tevapharm.com   \n",
      "New China Life Insurance                http://www.newchinalife.com   \n",
      "Wm. Morrison Supermarkets                  http://www.morrisons.com   \n",
      "TUI                                         http://www.tuigroup.com   \n",
      "AutoNation                                http://www.autonation.com   \n",
      "\n",
      "                                       years_on_global_500_list  employees  \\\n",
      "Telecom Italia                                               18      61227   \n",
      "Xiamen ITG Holding Group                                      1      18454   \n",
      "Xinjiang Guanghui Industry Investment                         1      65616   \n",
      "Teva Pharmaceutical Industries                                1      56960   \n",
      "New China Life Insurance                                      2      54378   \n",
      "Wm. Morrison Supermarkets                                    13      77210   \n",
      "TUI                                                          23      66779   \n",
      "AutoNation                                                   12      26000   \n",
      "\n",
      "                                       total_stockholder_equity  \n",
      "Telecom Italia                                            22366  \n",
      "Xiamen ITG Holding Group                                   1066  \n",
      "Xinjiang Guanghui Industry Investment                      4563  \n",
      "Teva Pharmaceutical Industries                            33337  \n",
      "New China Life Insurance                                   8507  \n",
      "Wm. Morrison Supermarkets                                  5111  \n",
      "TUI                                                        3006  \n",
      "AutoNation                                                 2310  \n"
     ]
    }
   ],
   "source": [
    "f500_top_6 = f500.head(6)\n",
    "print(f500_top_6)\n",
    "\n",
    "f500_bottom_8 = f500.tail(8)\n",
    "print(f500_bottom_8)"
   ]
  },
  {
   "cell_type": "markdown",
   "id": "062cbc8d",
   "metadata": {},
   "source": [
    "Inspecting the information and data types in the dataframe:"
   ]
  },
  {
   "cell_type": "code",
   "execution_count": 71,
   "id": "7ac0f426",
   "metadata": {},
   "outputs": [
    {
     "name": "stdout",
     "output_type": "stream",
     "text": [
      "<class 'pandas.core.frame.DataFrame'>\n",
      "Index: 500 entries, Walmart to AutoNation\n",
      "Data columns (total 16 columns):\n",
      " #   Column                    Non-Null Count  Dtype  \n",
      "---  ------                    --------------  -----  \n",
      " 0   rank                      500 non-null    int64  \n",
      " 1   revenues                  500 non-null    int64  \n",
      " 2   revenue_change            498 non-null    float64\n",
      " 3   profits                   499 non-null    float64\n",
      " 4   assets                    500 non-null    int64  \n",
      " 5   profit_change             436 non-null    float64\n",
      " 6   ceo                       500 non-null    object \n",
      " 7   industry                  500 non-null    object \n",
      " 8   sector                    500 non-null    object \n",
      " 9   previous_rank             500 non-null    int64  \n",
      " 10  country                   500 non-null    object \n",
      " 11  hq_location               500 non-null    object \n",
      " 12  website                   500 non-null    object \n",
      " 13  years_on_global_500_list  500 non-null    int64  \n",
      " 14  employees                 500 non-null    int64  \n",
      " 15  total_stockholder_equity  500 non-null    int64  \n",
      "dtypes: float64(3), int64(7), object(6)\n",
      "memory usage: 66.4+ KB\n"
     ]
    }
   ],
   "source": [
    "f500.info()"
   ]
  },
  {
   "cell_type": "markdown",
   "id": "4039a4dd",
   "metadata": {},
   "source": [
    "Creating a series by selecting a specific column by name from a dataframe:"
   ]
  },
  {
   "cell_type": "code",
   "execution_count": 72,
   "id": "5eae23c1",
   "metadata": {},
   "outputs": [
    {
     "name": "stdout",
     "output_type": "stream",
     "text": [
      "Walmart                                     General Merchandisers\n",
      "State Grid                                              Utilities\n",
      "Sinopec Group                                  Petroleum Refining\n",
      "China National Petroleum                       Petroleum Refining\n",
      "Toyota Motor                             Motor Vehicles and Parts\n",
      "                                               ...               \n",
      "Teva Pharmaceutical Industries                    Pharmaceuticals\n",
      "New China Life Insurance          Insurance: Life, Health (stock)\n",
      "Wm. Morrison Supermarkets                    Food and Drug Stores\n",
      "TUI                                               Travel Services\n",
      "AutoNation                                    Specialty Retailers\n",
      "Name: industry, Length: 500, dtype: object\n",
      "<class 'pandas.core.series.Series'>\n"
     ]
    }
   ],
   "source": [
    "industries=f500[\"industry\"]\n",
    "industries_type=type(industries)\n",
    "print(industries)\n",
    "print(industries_type)"
   ]
  },
  {
   "cell_type": "markdown",
   "id": "a18ed36a",
   "metadata": {},
   "source": [
    "Selecting columns from a dataframe by label:"
   ]
  },
  {
   "cell_type": "code",
   "execution_count": 73,
   "id": "98a925b4",
   "metadata": {},
   "outputs": [
    {
     "name": "stdout",
     "output_type": "stream",
     "text": [
      "<class 'pandas.core.series.Series'>\n",
      "<class 'pandas.core.frame.DataFrame'>\n",
      "<class 'pandas.core.frame.DataFrame'>\n",
      "Walmart                       USA\n",
      "State Grid                  China\n",
      "Sinopec Group               China\n",
      "China National Petroleum    China\n",
      "Toyota Motor                Japan\n",
      "Name: country, dtype: object\n",
      "                          revenues  years_on_global_500_list\n",
      "Walmart                     485873                        23\n",
      "State Grid                  315199                        17\n",
      "Sinopec Group               267518                        19\n",
      "China National Petroleum    262573                        17\n",
      "Toyota Motor                254694                        23\n",
      "                                          ceo                  industry  \\\n",
      "Walmart                   C. Douglas McMillon     General Merchandisers   \n",
      "State Grid                            Kou Wei                 Utilities   \n",
      "Sinopec Group                       Wang Yupu        Petroleum Refining   \n",
      "China National Petroleum        Zhang Jianhua        Petroleum Refining   \n",
      "Toyota Motor                      Akio Toyoda  Motor Vehicles and Parts   \n",
      "\n",
      "                                          sector  \n",
      "Walmart                                Retailing  \n",
      "State Grid                                Energy  \n",
      "Sinopec Group                             Energy  \n",
      "China National Petroleum                  Energy  \n",
      "Toyota Motor              Motor Vehicles & Parts  \n"
     ]
    }
   ],
   "source": [
    "## A single series only needs [\"\"]\n",
    "countries = f500[\"country\"]\n",
    "\n",
    "## Multiple columns requires [[\"\",\"\"]]\n",
    "revenues_years = f500[[\"revenues\",\"years_on_global_500_list\"]]\n",
    "\n",
    "## A slice of columns requires .loc[:,\"\":\"\"]\n",
    "ceo_to_sector = f500.loc[:,\"ceo\":\"sector\"]\n",
    "\n",
    "print(type(countries))\n",
    "print(type(revenues_years))\n",
    "print(type(ceo_to_sector))\n",
    "print(countries.head())\n",
    "print(revenues_years.head())\n",
    "print(ceo_to_sector.head())"
   ]
  },
  {
   "cell_type": "markdown",
   "id": "ff40bf11",
   "metadata": {},
   "source": [
    "Selecting rows from a dataFrame by label:"
   ]
  },
  {
   "cell_type": "code",
   "execution_count": 74,
   "id": "09342961",
   "metadata": {},
   "outputs": [
    {
     "name": "stdout",
     "output_type": "stream",
     "text": [
      "<class 'pandas.core.series.Series'>\n",
      "rank                                                   5\n",
      "revenues                                          254694\n",
      "revenue_change                                       7.7\n",
      "profits                                          16899.3\n",
      "assets                                            437575\n",
      "profit_change                                      -12.3\n",
      "ceo                                          Akio Toyoda\n",
      "industry                        Motor Vehicles and Parts\n",
      "sector                            Motor Vehicles & Parts\n",
      "previous_rank                                          8\n",
      "country                                            Japan\n",
      "hq_location                                Toyota, Japan\n",
      "website                     http://www.toyota-global.com\n",
      "years_on_global_500_list                              23\n",
      "employees                                         364445\n",
      "total_stockholder_equity                          157210\n",
      "Name: Toyota Motor, dtype: object\n",
      "<class 'pandas.core.frame.DataFrame'>\n",
      "                      rank  revenues  revenue_change  profits  assets  \\\n",
      "Anheuser-Busch InBev   206     45905             5.3   1241.0  258381   \n",
      "Coca-Cola              235     41863            -5.5   6527.0   87270   \n",
      "Heineken Holding       468     23044            -0.7    861.5   41469   \n",
      "\n",
      "                      profit_change                        ceo   industry  \\\n",
      "Anheuser-Busch InBev          -85.0               Carlos Brito  Beverages   \n",
      "Coca-Cola                     -11.2           James B. Quincey  Beverages   \n",
      "Heineken Holding              -18.9  Jean-Francois van Boxmeer  Beverages   \n",
      "\n",
      "                                         sector  previous_rank      country  \\\n",
      "Anheuser-Busch InBev  Food, Beverages & Tobacco            211      Belgium   \n",
      "Coca-Cola             Food, Beverages & Tobacco            206          USA   \n",
      "Heineken Holding      Food, Beverages & Tobacco            459  Netherlands   \n",
      "\n",
      "                                 hq_location  \\\n",
      "Anheuser-Busch InBev         Leuven, Belgium   \n",
      "Coca-Cola                        Atlanta, GA   \n",
      "Heineken Holding      Amsterdam, Netherlands   \n",
      "\n",
      "                                                website  \\\n",
      "Anheuser-Busch InBev            http://www.ab-inbev.com   \n",
      "Coca-Cola               http://www.coca-colacompany.com   \n",
      "Heineken Holding      http://www.theheinekencompany.com   \n",
      "\n",
      "                      years_on_global_500_list  employees  \\\n",
      "Anheuser-Busch InBev                        12     206633   \n",
      "Coca-Cola                                   23     100300   \n",
      "Heineken Holding                            11      73525   \n",
      "\n",
      "                      total_stockholder_equity  \n",
      "Anheuser-Busch InBev                     71339  \n",
      "Coca-Cola                                23062  \n",
      "Heineken Holding                          6958  \n",
      "<class 'pandas.core.frame.DataFrame'>\n",
      "                                 rank  revenues  revenue_change  profits  \\\n",
      "Tata Motors                       247     40329            -4.2   1111.6   \n",
      "Aluminum Corp. of China           248     40278             6.0   -282.5   \n",
      "Mitsui                            249     40275             1.6   2825.3   \n",
      "Manulife Financial                250     40238            49.4   2209.7   \n",
      "China Minsheng Banking            251     40234            -5.2   7201.6   \n",
      "China Pacific Insurance (Group)   252     40193             2.2   1814.9   \n",
      "American Airlines Group           253     40180            -2.0   2676.0   \n",
      "Nationwide                        254     40074            -0.4    334.3   \n",
      "\n",
      "                                 assets  profit_change                   ceo  \\\n",
      "Tata Motors                       42162          -34.0      Guenter Butschek   \n",
      "Aluminum Corp. of China           75089            NaN              Yu Dehui   \n",
      "Mitsui                           103231            NaN       Tatsuo Yasunaga   \n",
      "Manulife Financial               537461           28.9     Donald A. Guloien   \n",
      "China Minsheng Banking           848389           -1.8         Zheng Wanchun   \n",
      "China Pacific Insurance (Group)  146873          -35.7          Huo Lianhong   \n",
      "American Airlines Group           51274          -64.8     W. Douglas Parker   \n",
      "Nationwide                       197790          -42.4  Stephen S. Rasmussen   \n",
      "\n",
      "                                                                  industry  \\\n",
      "Tata Motors                                       Motor Vehicles and Parts   \n",
      "Aluminum Corp. of China                                             Metals   \n",
      "Mitsui                                                             Trading   \n",
      "Manulife Financial                         Insurance: Life, Health (stock)   \n",
      "China Minsheng Banking                       Banks: Commercial and Savings   \n",
      "China Pacific Insurance (Group)            Insurance: Life, Health (stock)   \n",
      "American Airlines Group                                           Airlines   \n",
      "Nationwide                       Insurance: Property and Casualty (Mutual)   \n",
      "\n",
      "                                                 sector  previous_rank  \\\n",
      "Tata Motors                      Motor Vehicles & Parts            226   \n",
      "Aluminum Corp. of China                       Materials            262   \n",
      "Mitsui                                      Wholesalers            245   \n",
      "Manulife Financial                           Financials            394   \n",
      "China Minsheng Banking                       Financials            221   \n",
      "China Pacific Insurance (Group)              Financials            251   \n",
      "American Airlines Group                  Transportation            236   \n",
      "Nationwide                                   Financials            241   \n",
      "\n",
      "                                country               hq_location  \\\n",
      "Tata Motors                       India             Mumbai, India   \n",
      "Aluminum Corp. of China           China            Beijing, China   \n",
      "Mitsui                            Japan              Tokyo, Japan   \n",
      "Manulife Financial               Canada  Toronto, Ontario, Canada   \n",
      "China Minsheng Banking            China            Beijing, China   \n",
      "China Pacific Insurance (Group)   China           Shanghai, China   \n",
      "American Airlines Group             USA            Fort Worth, TX   \n",
      "Nationwide                          USA              Columbus, OH   \n",
      "\n",
      "                                                   website  \\\n",
      "Tata Motors                      http://www.tatamotors.com   \n",
      "Aluminum Corp. of China           http://www.chalco.com.cn   \n",
      "Mitsui                               http://www.mitsui.com   \n",
      "Manulife Financial                 http://www.manulife.com   \n",
      "China Minsheng Banking              http://www.cmbc.com.cn   \n",
      "China Pacific Insurance (Group)     http://www.cpic.com.cn   \n",
      "American Airlines Group                  http://www.aa.com   \n",
      "Nationwide                       http://www.nationwide.com   \n",
      "\n",
      "                                 years_on_global_500_list  employees  \\\n",
      "Tata Motors                                             8      79558   \n",
      "Aluminum Corp. of China                                10     121146   \n",
      "Mitsui                                                 23      42316   \n",
      "Manulife Financial                                     15      34500   \n",
      "China Minsheng Banking                                  5      58720   \n",
      "China Pacific Insurance (Group)                         7      97032   \n",
      "American Airlines Group                                23     122300   \n",
      "Nationwide                                             23      34320   \n",
      "\n",
      "                                 total_stockholder_equity  \n",
      "Tata Motors                                          8942  \n",
      "Aluminum Corp. of China                              2669  \n",
      "Mitsui                                              33500  \n",
      "Manulife Financial                                  31197  \n",
      "China Minsheng Banking                              49297  \n",
      "China Pacific Insurance (Group)                     18960  \n",
      "American Airlines Group                              3785  \n",
      "Nationwide                                          15537  \n"
     ]
    }
   ],
   "source": [
    "## Syntax to select rows and columns from a dataframe:\n",
    "## df.loc[row_label, column_label]\n",
    "\n",
    "## selecting a single row\n",
    "toyota = f500.loc[\"Toyota Motor\"]\n",
    "print(type(toyota))\n",
    "print(toyota)\n",
    "\n",
    "## select a list of rows\n",
    "drink_companies = f500.loc[[\"Anheuser-Busch InBev\", \"Coca-Cola\", \"Heineken Holding\"]]\n",
    "print(type(drink_companies))\n",
    "print(drink_companies)\n",
    "\n",
    "## select a slice object with labels\n",
    "middle_companies = f500.loc[\"Tata Motors\":\"Nationwide\",:]\n",
    "print(type(middle_companies))\n",
    "print(middle_companies)"
   ]
  },
  {
   "cell_type": "markdown",
   "id": "99ff874e",
   "metadata": {},
   "source": [
    "Using value counts:"
   ]
  },
  {
   "cell_type": "code",
   "execution_count": 75,
   "id": "272eb891",
   "metadata": {},
   "outputs": [
    {
     "name": "stdout",
     "output_type": "stream",
     "text": [
      "country\n",
      "USA             132\n",
      "China           109\n",
      "Japan            51\n",
      "Germany          29\n",
      "France           29\n",
      "Britain          24\n",
      "South Korea      15\n",
      "Netherlands      14\n",
      "Switzerland      14\n",
      "Canada           11\n",
      "Spain             9\n",
      "Australia         7\n",
      "Brazil            7\n",
      "India             7\n",
      "Italy             7\n",
      "Taiwan            6\n",
      "Russia            4\n",
      "Ireland           4\n",
      "Singapore         3\n",
      "Sweden            3\n",
      "Mexico            2\n",
      "Malaysia          1\n",
      "Thailand          1\n",
      "Belgium           1\n",
      "Norway            1\n",
      "Luxembourg        1\n",
      "Indonesia         1\n",
      "Denmark           1\n",
      "Saudi Arabia      1\n",
      "Finland           1\n",
      "Venezuela         1\n",
      "Turkey            1\n",
      "U.A.E             1\n",
      "Israel            1\n",
      "Name: count, dtype: int64\n",
      "<class 'pandas.core.series.Series'>\n",
      "hq_location\n",
      "Beijing, China         56\n",
      "Tokyo, Japan           36\n",
      "Paris, France          17\n",
      "New York, NY           15\n",
      "London, Britain        14\n",
      "                       ..\n",
      "Bangkok, Thailand       1\n",
      "Midland, MI             1\n",
      "Perth, Australia        1\n",
      "Leuven, Belgium         1\n",
      "Fort Lauderdale, FL     1\n",
      "Name: count, Length: 235, dtype: int64\n",
      "<class 'pandas.core.series.Series'>\n"
     ]
    }
   ],
   "source": [
    "countries = f500[\"country\"]\n",
    "country_counts = countries.value_counts()\n",
    "print(country_counts)\n",
    "print(type(country_counts))\n",
    "\n",
    "hq_locations = f500[\"hq_location\"]\n",
    "hql_counts = hq_locations.value_counts()\n",
    "print(hql_counts)\n",
    "print(type(hql_counts))"
   ]
  },
  {
   "cell_type": "markdown",
   "id": "4f31780f",
   "metadata": {},
   "source": [
    "Selecting items from a series by label:"
   ]
  },
  {
   "cell_type": "code",
   "execution_count": 76,
   "id": "2bad60c2",
   "metadata": {},
   "outputs": [
    {
     "name": "stdout",
     "output_type": "stream",
     "text": [
      "7\n",
      "<class 'numpy.int64'>\n",
      "\n",
      "\n",
      "country\n",
      "USA       132\n",
      "Canada     11\n",
      "Mexico      2\n",
      "Name: count, dtype: int64\n",
      "<class 'pandas.core.series.Series'>\n",
      "\n",
      "\n",
      "country\n",
      "Japan          51\n",
      "Germany        29\n",
      "France         29\n",
      "Britain        24\n",
      "South Korea    15\n",
      "Netherlands    14\n",
      "Switzerland    14\n",
      "Canada         11\n",
      "Spain           9\n",
      "Name: count, dtype: int64\n",
      "<class 'pandas.core.series.Series'>\n"
     ]
    }
   ],
   "source": [
    "countries = f500['country']\n",
    "countries_counts = countries.value_counts()\n",
    "\n",
    "india = countries_counts[\"India\"]\n",
    "north_america = countries_counts[[\"USA\",\"Canada\",\"Mexico\"]]\n",
    "japan_to_spain = countries_counts[\"Japan\":\"Spain\"]\n",
    "\n",
    "print(india)\n",
    "print(type(india))\n",
    "print('\\n')\n",
    "print(north_america)\n",
    "print(type(north_america))\n",
    "print('\\n')\n",
    "print(japan_to_spain)\n",
    "print(type(japan_to_spain))"
   ]
  },
  {
   "cell_type": "markdown",
   "id": "9ba93222",
   "metadata": {},
   "source": [
    "Practising:"
   ]
  },
  {
   "cell_type": "code",
   "execution_count": 77,
   "id": "9775e597",
   "metadata": {},
   "outputs": [
    {
     "name": "stdout",
     "output_type": "stream",
     "text": [
      "              rank  previous_rank\n",
      "Aviva           90            279\n",
      "HP             194             48\n",
      "JD.com         261            366\n",
      "BHP Billiton   350            168\n",
      "                                       rank              sector  country\n",
      "National Grid                           491              Energy  Britain\n",
      "Dollar General                          492           Retailing      USA\n",
      "Telecom Italia                          493  Telecommunications    Italy\n",
      "Xiamen ITG Holding Group                494         Wholesalers    China\n",
      "Xinjiang Guanghui Industry Investment   495         Wholesalers    China\n",
      "                                       revenues  revenue_change  profits  \\\n",
      "Apple                                    215639            -7.7  45687.0   \n",
      "Industrial & Commercial Bank of China    147675           -11.7  41883.9   \n",
      "China Construction Bank                  135093            -8.7  34840.9   \n",
      "Agricultural Bank of China               117275           -12.1  27687.8   \n",
      "\n",
      "                                        assets  profit_change  \n",
      "Apple                                   321686          -14.4  \n",
      "Industrial & Commercial Bank of China  3473238           -5.0  \n",
      "China Construction Bank                3016578           -4.0  \n",
      "Agricultural Bank of China             2816039           -3.6  \n"
     ]
    }
   ],
   "source": [
    "big_movers = f500.loc[[\"Aviva\",\"HP\",\"JD.com\",\"BHP Billiton\"],[\"rank\",\"previous_rank\"]]\n",
    "print(big_movers.head())\n",
    "bottom_companies = f500.loc[\"National Grid\":\"AutoNation\",[\"rank\",\"sector\",\"country\"]]\n",
    "print(bottom_companies.head())\n",
    "revenue_giants = f500.loc[[\"Apple\",\"Industrial & Commercial Bank of China\",\"China Construction Bank\",\"Agricultural Bank of China\"],\"revenues\":\"profit_change\"]\n",
    "print(revenue_giants.head())"
   ]
  },
  {
   "cell_type": "markdown",
   "id": "9e6f66b0",
   "metadata": {},
   "source": [
    "## Exploring Data with Pandas: Fundamentals"
   ]
  },
  {
   "cell_type": "markdown",
   "id": "e8b1df1b",
   "metadata": {},
   "source": [
    "Looking at the head and information on the f500 dataset:"
   ]
  },
  {
   "cell_type": "code",
   "execution_count": 78,
   "id": "6c355329",
   "metadata": {},
   "outputs": [
    {
     "name": "stdout",
     "output_type": "stream",
     "text": [
      "<class 'pandas.core.frame.DataFrame'>\n",
      "Index: 10 entries, Walmart to Exxon Mobil\n",
      "Data columns (total 16 columns):\n",
      " #   Column                    Non-Null Count  Dtype  \n",
      "---  ------                    --------------  -----  \n",
      " 0   rank                      10 non-null     int64  \n",
      " 1   revenues                  10 non-null     int64  \n",
      " 2   revenue_change            10 non-null     float64\n",
      " 3   profits                   10 non-null     float64\n",
      " 4   assets                    10 non-null     int64  \n",
      " 5   profit_change             8 non-null      float64\n",
      " 6   ceo                       10 non-null     object \n",
      " 7   industry                  10 non-null     object \n",
      " 8   sector                    10 non-null     object \n",
      " 9   previous_rank             10 non-null     int64  \n",
      " 10  country                   10 non-null     object \n",
      " 11  hq_location               10 non-null     object \n",
      " 12  website                   10 non-null     object \n",
      " 13  years_on_global_500_list  10 non-null     int64  \n",
      " 14  employees                 10 non-null     int64  \n",
      " 15  total_stockholder_equity  10 non-null     int64  \n",
      "dtypes: float64(3), int64(7), object(6)\n",
      "memory usage: 1.3+ KB\n"
     ]
    }
   ],
   "source": [
    "f500_head = f500.head(10)\n",
    "f500_head.info()"
   ]
  },
  {
   "cell_type": "markdown",
   "id": "75ffe4ee",
   "metadata": {},
   "source": [
    "Vectorized operation:"
   ]
  },
  {
   "cell_type": "code",
   "execution_count": 81,
   "id": "2801bbec",
   "metadata": {},
   "outputs": [
    {
     "name": "stdout",
     "output_type": "stream",
     "text": [
      "Walmart                             0\n",
      "State Grid                          0\n",
      "Sinopec Group                       1\n",
      "China National Petroleum           -1\n",
      "Toyota Motor                        3\n",
      "                                 ... \n",
      "Teva Pharmaceutical Industries   -496\n",
      "New China Life Insurance          -70\n",
      "Wm. Morrison Supermarkets         -61\n",
      "TUI                               -32\n",
      "AutoNation                       -500\n",
      "Length: 500, dtype: int64\n"
     ]
    }
   ],
   "source": [
    "rank_change = f500[\"previous_rank\"] - f500[\"rank\"]\n",
    "print(rank_change)"
   ]
  },
  {
   "cell_type": "markdown",
   "id": "bdb4240c",
   "metadata": {},
   "source": [
    "Series data exploration methods:\n",
    "- Series.max()\n",
    "- Series.min()\n",
    "- Series.mean()\n",
    "- Series.median()\n",
    "- Series.mode()\n",
    "- Series.sum()"
   ]
  },
  {
   "cell_type": "code",
   "execution_count": 80,
   "id": "bd7915fa",
   "metadata": {},
   "outputs": [
    {
     "name": "stdout",
     "output_type": "stream",
     "text": [
      "226\n",
      "-500\n"
     ]
    }
   ],
   "source": [
    "rank_change =  f500[\"previous_rank\"] - f500[\"rank\"]\n",
    "rank_change_max = rank_change.max()\n",
    "rank_change_min = rank_change.min()\n",
    "\n",
    "print(rank_change_max)\n",
    "print(rank_change_min)"
   ]
  },
  {
   "cell_type": "markdown",
   "id": "264382ec",
   "metadata": {},
   "source": [
    "Series describe method:"
   ]
  },
  {
   "cell_type": "code",
   "execution_count": 82,
   "id": "20a0e28c",
   "metadata": {},
   "outputs": [
    {
     "name": "stdout",
     "output_type": "stream",
     "text": [
      "count    500.000000\n",
      "mean     250.500000\n",
      "std      144.481833\n",
      "min        1.000000\n",
      "25%      125.750000\n",
      "50%      250.500000\n",
      "75%      375.250000\n",
      "max      500.000000\n",
      "Name: rank, dtype: float64\n",
      "count    500.000000\n",
      "mean     222.134000\n",
      "std      146.941961\n",
      "min        0.000000\n",
      "25%       92.750000\n",
      "50%      219.500000\n",
      "75%      347.250000\n",
      "max      500.000000\n",
      "Name: previous_rank, dtype: float64\n"
     ]
    }
   ],
   "source": [
    "rank = f500[\"rank\"]\n",
    "rank_desc = rank.describe()\n",
    "prev_rank = f500[\"previous_rank\"]\n",
    "prev_rank_desc = prev_rank.describe()\n",
    "print(rank_desc)\n",
    "print(prev_rank_desc)"
   ]
  },
  {
   "cell_type": "markdown",
   "id": "0fe74c59",
   "metadata": {},
   "source": [
    "Method chaining:"
   ]
  },
  {
   "cell_type": "code",
   "execution_count": 83,
   "id": "41bd9ad3",
   "metadata": {},
   "outputs": [
    {
     "name": "stdout",
     "output_type": "stream",
     "text": [
      "33\n"
     ]
    }
   ],
   "source": [
    "## Long method\n",
    "'''\n",
    "prev_rank = f500[\"previous_rank\"]\n",
    "print(prev_rank)\n",
    "print('\\n')\n",
    "prev_rank_counts = prev_rank.value_counts()\n",
    "print(prev_rank_counts)\n",
    "print('\\n')\n",
    "zero_previous_rank = prev_rank_counts.loc[0]\n",
    "print(zero_previous_rank)\n",
    "'''\n",
    "\n",
    "## Chained method\n",
    "'''\n",
    "zero_previous_rank = f500[\"previous_rank\"].value_counts().loc[0]\n",
    "print(zero_previous_rank)\n",
    "'''\n",
    "\n",
    "## OR JUST\n",
    "print(f500[\"previous_rank\"].value_counts().loc[0])"
   ]
  },
  {
   "cell_type": "markdown",
   "id": "ccf6c566",
   "metadata": {},
   "source": [
    "Dataframe exploration methods:\n",
    "Determining the max value in each numeric column:"
   ]
  },
  {
   "cell_type": "code",
   "execution_count": 84,
   "id": "c89e9b56",
   "metadata": {},
   "outputs": [
    {
     "name": "stdout",
     "output_type": "stream",
     "text": [
      "rank                            500.0\n",
      "revenues                     485873.0\n",
      "revenue_change                  442.3\n",
      "profits                       45687.0\n",
      "assets                      3473238.0\n",
      "profit_change                  8909.5\n",
      "previous_rank                   500.0\n",
      "years_on_global_500_list         23.0\n",
      "employees                   2300000.0\n",
      "total_stockholder_equity     301893.0\n",
      "dtype: float64\n"
     ]
    }
   ],
   "source": [
    "max_f500 = f500.max(numeric_only=True)\n",
    "print(max_f500)"
   ]
  },
  {
   "cell_type": "markdown",
   "id": "d25d1c82",
   "metadata": {},
   "source": [
    "Dataframe describe method:"
   ]
  },
  {
   "cell_type": "code",
   "execution_count": 85,
   "id": "2d4f5e27",
   "metadata": {},
   "outputs": [
    {
     "name": "stdout",
     "output_type": "stream",
     "text": [
      "             rank       revenues  revenue_change       profits        assets  \\\n",
      "count  500.000000     500.000000      498.000000    499.000000  5.000000e+02   \n",
      "mean   250.500000   55416.358000        4.538353   3055.203206  2.436323e+05   \n",
      "std    144.481833   45725.478963       28.549067   5171.981071  4.851937e+05   \n",
      "min      1.000000   21609.000000      -67.300000 -13038.000000  3.717000e+03   \n",
      "25%    125.750000   29003.000000       -5.900000    556.950000  3.658850e+04   \n",
      "50%    250.500000   40236.000000        0.550000   1761.600000  7.326150e+04   \n",
      "75%    375.250000   63926.750000        6.975000   3954.000000  1.805640e+05   \n",
      "max    500.000000  485873.000000      442.300000  45687.000000  3.473238e+06   \n",
      "\n",
      "       profit_change  previous_rank  years_on_global_500_list     employees  \\\n",
      "count     436.000000     500.000000                500.000000  5.000000e+02   \n",
      "mean       24.152752     222.134000                 15.036000  1.339983e+05   \n",
      "std       437.509566     146.941961                  7.932752  1.700878e+05   \n",
      "min      -793.700000       0.000000                  1.000000  3.280000e+02   \n",
      "25%       -22.775000      92.750000                  7.000000  4.293250e+04   \n",
      "50%        -0.350000     219.500000                 17.000000  9.291050e+04   \n",
      "75%        17.700000     347.250000                 23.000000  1.689172e+05   \n",
      "max      8909.500000     500.000000                 23.000000  2.300000e+06   \n",
      "\n",
      "       total_stockholder_equity  \n",
      "count                500.000000  \n",
      "mean               30628.076000  \n",
      "std                43642.576833  \n",
      "min               -59909.000000  \n",
      "25%                 7553.750000  \n",
      "50%                15809.500000  \n",
      "75%                37828.500000  \n",
      "max               301893.000000  \n"
     ]
    }
   ],
   "source": [
    "f500_desc=f500.describe()\n",
    "print(f500_desc)"
   ]
  },
  {
   "cell_type": "markdown",
   "id": "c6f66f8d",
   "metadata": {},
   "source": [
    "Assignment with pandas:"
   ]
  },
  {
   "cell_type": "code",
   "execution_count": 86,
   "id": "983e6e4e",
   "metadata": {},
   "outputs": [
    {
     "name": "stdout",
     "output_type": "stream",
     "text": [
      "Andrew N. Liveris\n",
      "Jim Fitterling\n"
     ]
    }
   ],
   "source": [
    "print(f500.loc[\"Dow Chemical\",\"ceo\"])\n",
    "f500.loc[\"Dow Chemical\",\"ceo\"] = \"Jim Fitterling\"\n",
    "print(f500.loc[\"Dow Chemical\",\"ceo\"])"
   ]
  },
  {
   "cell_type": "markdown",
   "id": "62a0888a",
   "metadata": {},
   "source": [
    "Using Boolean Indexing with pandas Objects:"
   ]
  },
  {
   "cell_type": "code",
   "execution_count": null,
   "id": "3918f42b",
   "metadata": {},
   "outputs": [],
   "source": [
    "## Creating a boolean series dependent on the industry column:\n",
    "motor_bool = f500[\"industry\"] == \"Motor Vehicles and Parts\"\n",
    "\n",
    "## Creating a new series from the f500 dataframe of countries, dependent on True values in the boolean series:\n",
    "motor_countries = f500.loc[motor_bool,\"country\"]\n",
    "print(type(motor_countries))\n",
    "print(motor_countries)"
   ]
  },
  {
   "cell_type": "markdown",
   "id": "cb81724b",
   "metadata": {},
   "source": [
    "Using boolean arrays to assign values:\n",
    "Changing values of 0 in the previous_rank column to NaN:"
   ]
  },
  {
   "cell_type": "code",
   "execution_count": 87,
   "id": "51407eea",
   "metadata": {},
   "outputs": [
    {
     "name": "stdout",
     "output_type": "stream",
     "text": [
      "previous_rank\n",
      "NaN      33\n",
      "1.0       1\n",
      "302.0     1\n",
      "334.0     1\n",
      "325.0     1\n",
      "Name: count, dtype: int64\n"
     ]
    }
   ],
   "source": [
    "import numpy as np\n",
    "prev_rank_before = f500[\"previous_rank\"].value_counts(dropna=False).head()\n",
    "\n",
    "## Creating a boolean series\n",
    "zero_bool = f500[\"previous_rank\"] == 0\n",
    "\n",
    "## Assigning a na value to the previous_rank column where the zero_bool value is True\n",
    "f500.loc[zero_bool,\"previous_rank\"] = np.nan\n",
    "\n",
    "## Shorter method:\n",
    "'''\n",
    "f500.loc[[zero_bool = f500[\"previous_rank\"] == 0],\"previous_rank\"] = np.nan\n",
    "'''\n",
    "\n",
    "## print the head of a series that shows the counts of each value in the previous_rank column, including na values\n",
    "prev_rank_after = f500[\"previous_rank\"].value_counts(dropna=False).head()\n",
    "print(prev_rank_after)"
   ]
  },
  {
   "cell_type": "markdown",
   "id": "622fd1cc",
   "metadata": {},
   "source": [
    "Creating new columns:"
   ]
  },
  {
   "cell_type": "code",
   "execution_count": 88,
   "id": "0b1689f5",
   "metadata": {},
   "outputs": [
    {
     "name": "stdout",
     "output_type": "stream",
     "text": [
      "count    467.000000\n",
      "mean      -3.533191\n",
      "std       44.293603\n",
      "min     -199.000000\n",
      "25%      -21.000000\n",
      "50%       -2.000000\n",
      "75%       10.000000\n",
      "max      226.000000\n",
      "Name: rank_change, dtype: float64\n",
      "Walmart                     0.0\n",
      "State Grid                  0.0\n",
      "Sinopec Group               1.0\n",
      "China National Petroleum   -1.0\n",
      "Toyota Motor                3.0\n",
      "Name: rank_change, dtype: float64\n"
     ]
    }
   ],
   "source": [
    "## Creating a new column named \"rank_change\" that is the difference between two others:\n",
    "f500[\"rank_change\"] = f500[\"previous_rank\"] - f500[\"rank\"]\n",
    "rank_change_desc = f500[\"rank_change\"].describe()\n",
    "print(rank_change_desc)\n",
    "print(f500[\"rank_change\"].head(5))"
   ]
  },
  {
   "cell_type": "markdown",
   "id": "b4b3f086",
   "metadata": {},
   "source": [
    "Determining the two most common industries in the USA in the top 500, and,\n",
    "the three most common sectors in China in the top 500:"
   ]
  },
  {
   "cell_type": "code",
   "execution_count": 89,
   "id": "34c58989",
   "metadata": {},
   "outputs": [
    {
     "name": "stdout",
     "output_type": "stream",
     "text": [
      "industry\n",
      "Banks: Commercial and Savings               8\n",
      "Insurance: Property and Casualty (Stock)    7\n",
      "Name: count, dtype: int64\n",
      "\n",
      "\n",
      "sector\n",
      "Financials     25\n",
      "Energy         22\n",
      "Wholesalers     9\n",
      "Name: count, dtype: int64\n"
     ]
    }
   ],
   "source": [
    "industry_usa = f500.loc[f500[\"country\"] == \"USA\", \"industry\"].value_counts().head(2)\n",
    "print(industry_usa)\n",
    "print('\\n')\n",
    "sector_china = f500.loc[f500[\"country\"]==\"China\",\"sector\"].value_counts().head(3)\n",
    "print(sector_china)"
   ]
  },
  {
   "cell_type": "markdown",
   "id": "87f4bace",
   "metadata": {},
   "source": []
  },
  {
   "cell_type": "code",
   "execution_count": null,
   "id": "68015010",
   "metadata": {},
   "outputs": [],
   "source": []
  },
  {
   "cell_type": "markdown",
   "id": "9b64b036",
   "metadata": {},
   "source": [
    "## Exploring Data with Pandas: Intermediate"
   ]
  },
  {
   "cell_type": "markdown",
   "id": "abaeb5c2",
   "metadata": {},
   "source": [
    "Creating a filtered dataframe to preview:"
   ]
  },
  {
   "cell_type": "code",
   "execution_count": 90,
   "id": "fffc4c51",
   "metadata": {},
   "outputs": [
    {
     "name": "stdout",
     "output_type": "stream",
     "text": [
      "                          rank  revenues  revenue_change\n",
      "Walmart                      1    485873             0.8\n",
      "State Grid                   2    315199            -4.4\n",
      "Sinopec Group                3    267518            -9.1\n",
      "China National Petroleum     4    262573           -12.3\n",
      "Toyota Motor                 5    254694             7.7\n"
     ]
    }
   ],
   "source": [
    "import pandas as pd\n",
    "# read the data set into a pandas dataframe\n",
    "f500 = pd.read_csv(\"f500.csv\", index_col=0)\n",
    "f500.index.name = None\n",
    "\n",
    "# replace 0 values in the \"previous_rank\" column with NaN\n",
    "f500.loc[f500[\"previous_rank\"] == 0, \"previous_rank\"] = np.nan\n",
    "\n",
    "# Select the rank, revenues, and revenue_change columns in f500, then show the first five rows\n",
    "f500_selection = f500[[\"rank\",\"revenues\",\"revenue_change\"]].head(5)\n",
    "print(f500_selection)"
   ]
  },
  {
   "cell_type": "markdown",
   "id": "e9501136",
   "metadata": {},
   "source": [
    "Reading CSV files with pandas:\n",
    "Not using index_col=0 or f500.index.name = None"
   ]
  },
  {
   "cell_type": "code",
   "execution_count": 91,
   "id": "1ac908f4",
   "metadata": {},
   "outputs": [
    {
     "name": "stdout",
     "output_type": "stream",
     "text": [
      "      company  rank  revenues  revenue_change  profits  assets  profit_change  \\\n",
      "0     Walmart     1    485873             0.8  13643.0  198825           -7.2   \n",
      "1  State Grid     2    315199            -4.4   9571.3  489838           -6.2   \n",
      "\n",
      "                   ceo               industry     sector  previous_rank  \\\n",
      "0  C. Douglas McMillon  General Merchandisers  Retailing            1.0   \n",
      "1              Kou Wei              Utilities     Energy            2.0   \n",
      "\n",
      "  country      hq_location                 website  years_on_global_500_list  \\\n",
      "0     USA  Bentonville, AR  http://www.walmart.com                        23   \n",
      "1   China   Beijing, China  http://www.sgcc.com.cn                        17   \n",
      "\n",
      "   employees  total_stockholder_equity  \n",
      "0    2300000                     77798  \n",
      "1     926067                    209456  \n"
     ]
    }
   ],
   "source": [
    "f500 = pd.read_csv('f500.csv')\n",
    "f500.loc[f500[\"previous_rank\"] == 0, \"previous_rank\"] = np.nan\n",
    "print(f500.head(2))"
   ]
  },
  {
   "cell_type": "markdown",
   "id": "d319dd5a",
   "metadata": {},
   "source": [
    "Using iloc to select by integer position:"
   ]
  },
  {
   "cell_type": "code",
   "execution_count": 92,
   "id": "e3b55cf1",
   "metadata": {},
   "outputs": [
    {
     "name": "stdout",
     "output_type": "stream",
     "text": [
      "company                                     Toyota Motor\n",
      "rank                                                   5\n",
      "revenues                                          254694\n",
      "revenue_change                                       7.7\n",
      "profits                                          16899.3\n",
      "assets                                            437575\n",
      "profit_change                                      -12.3\n",
      "ceo                                          Akio Toyoda\n",
      "industry                        Motor Vehicles and Parts\n",
      "sector                            Motor Vehicles & Parts\n",
      "previous_rank                                        8.0\n",
      "country                                            Japan\n",
      "hq_location                                Toyota, Japan\n",
      "website                     http://www.toyota-global.com\n",
      "years_on_global_500_list                              23\n",
      "employees                                         364445\n",
      "total_stockholder_equity                          157210\n",
      "Name: 4, dtype: object\n",
      "\n",
      "\n",
      "Walmart\n"
     ]
    }
   ],
   "source": [
    "## Pseudocode for iloc: df.iloc[row_index, column_index]\n",
    "\n",
    "fifth_row = f500.iloc[4]\n",
    "print(fifth_row)\n",
    "print(\"\\n\")\n",
    "company_value = f500.iloc[0,0]\n",
    "print(company_value)"
   ]
  },
  {
   "cell_type": "code",
   "execution_count": 93,
   "id": "c8b92db5",
   "metadata": {},
   "outputs": [
    {
     "name": "stdout",
     "output_type": "stream",
     "text": [
      "         company  rank  revenues  revenue_change  profits  assets  \\\n",
      "0        Walmart     1    485873             0.8  13643.0  198825   \n",
      "1     State Grid     2    315199            -4.4   9571.3  489838   \n",
      "2  Sinopec Group     3    267518            -9.1   1257.9  310726   \n",
      "\n",
      "   profit_change                  ceo               industry     sector  \\\n",
      "0           -7.2  C. Douglas McMillon  General Merchandisers  Retailing   \n",
      "1           -6.2              Kou Wei              Utilities     Energy   \n",
      "2          -65.0            Wang Yupu     Petroleum Refining     Energy   \n",
      "\n",
      "   previous_rank country      hq_location                 website  \\\n",
      "0            1.0     USA  Bentonville, AR  http://www.walmart.com   \n",
      "1            2.0   China   Beijing, China  http://www.sgcc.com.cn   \n",
      "2            4.0   China   Beijing, China  http://www.sinopec.com   \n",
      "\n",
      "   years_on_global_500_list  employees  total_stockholder_equity  \n",
      "0                        23    2300000                     77798  \n",
      "1                        17     926067                    209456  \n",
      "2                        19     713288                    106523  \n",
      "\n",
      "\n",
      "             company  rank  revenues  revenue_change  profits\n",
      "0            Walmart     1    485873             0.8  13643.0\n",
      "6  Royal Dutch Shell     7    240033           -11.8   4575.0\n"
     ]
    }
   ],
   "source": [
    "first_three_rows = f500.iloc[:3]\n",
    "print(first_three_rows)\n",
    "print(\"\\n\")\n",
    "\n",
    "first_seventh_row_slice = f500.iloc[[0,6],:5]\n",
    "print(first_seventh_row_slice)"
   ]
  },
  {
   "cell_type": "markdown",
   "id": "e03e61b2",
   "metadata": {},
   "source": [
    "Using .isnull() to create a boolean mask:"
   ]
  },
  {
   "cell_type": "code",
   "execution_count": 94,
   "id": "c58083b8",
   "metadata": {},
   "outputs": [
    {
     "name": "stdout",
     "output_type": "stream",
     "text": [
      "                    company  rank  previous_rank\n",
      "48    Legal & General Group    49            NaN\n",
      "90                   Uniper    91            NaN\n",
      "123       Dell Technologies   124            NaN\n",
      "138  Anbang Insurance Group   139            NaN\n",
      "140         Albertsons Cos.   141            NaN\n"
     ]
    }
   ],
   "source": [
    "## new_df = df[column.isnull() to filter][column/s to show]\n",
    "\n",
    "null_previous_rank = f500[f500[\"previous_rank\"].isnull()][[\"company\",\"rank\",\"previous_rank\"]]\n",
    "print(null_previous_rank.head())"
   ]
  },
  {
   "cell_type": "markdown",
   "id": "6ab457aa",
   "metadata": {},
   "source": [
    "Using .iloc to assign rows and columns into new dataframe:"
   ]
  },
  {
   "cell_type": "code",
   "execution_count": 95,
   "id": "d9cb28c2",
   "metadata": {},
   "outputs": [
    {
     "name": "stdout",
     "output_type": "stream",
     "text": [
      "                    company  rank  revenues\n",
      "48    Legal & General Group    49    105235\n",
      "90                   Uniper    91     74407\n",
      "123       Dell Technologies   124     64806\n",
      "138  Anbang Insurance Group   139     60800\n",
      "140         Albertsons Cos.   141     59678\n"
     ]
    }
   ],
   "source": [
    "null_previous_rank = f500[f500[\"previous_rank\"].isnull()]\n",
    "top5_null_prev_rank = null_previous_rank.iloc[:5,:3]\n",
    "print(top5_null_prev_rank)"
   ]
  },
  {
   "cell_type": "markdown",
   "id": "bba9d82d",
   "metadata": {},
   "source": [
    "Pandas index alignment:"
   ]
  },
  {
   "cell_type": "code",
   "execution_count": 96,
   "id": "2facb87a",
   "metadata": {
    "scrolled": true
   },
   "outputs": [
    {
     "name": "stdout",
     "output_type": "stream",
     "text": [
      "                    company  rank  revenues  revenue_change  profits  assets  \\\n",
      "0                   Walmart     1    485873             0.8  13643.0  198825   \n",
      "1                State Grid     2    315199            -4.4   9571.3  489838   \n",
      "2             Sinopec Group     3    267518            -9.1   1257.9  310726   \n",
      "3  China National Petroleum     4    262573           -12.3   1867.5  585619   \n",
      "4              Toyota Motor     5    254694             7.7  16899.3  437575   \n",
      "\n",
      "   profit_change                  ceo                  industry  \\\n",
      "0           -7.2  C. Douglas McMillon     General Merchandisers   \n",
      "1           -6.2              Kou Wei                 Utilities   \n",
      "2          -65.0            Wang Yupu        Petroleum Refining   \n",
      "3          -73.7        Zhang Jianhua        Petroleum Refining   \n",
      "4          -12.3          Akio Toyoda  Motor Vehicles and Parts   \n",
      "\n",
      "                   sector  previous_rank country      hq_location  \\\n",
      "0               Retailing            1.0     USA  Bentonville, AR   \n",
      "1                  Energy            2.0   China   Beijing, China   \n",
      "2                  Energy            4.0   China   Beijing, China   \n",
      "3                  Energy            3.0   China   Beijing, China   \n",
      "4  Motor Vehicles & Parts            8.0   Japan    Toyota, Japan   \n",
      "\n",
      "                        website  years_on_global_500_list  employees  \\\n",
      "0        http://www.walmart.com                        23    2300000   \n",
      "1        http://www.sgcc.com.cn                        17     926067   \n",
      "2        http://www.sinopec.com                        19     713288   \n",
      "3        http://www.cnpc.com.cn                        17    1512048   \n",
      "4  http://www.toyota-global.com                        23     364445   \n",
      "\n",
      "   total_stockholder_equity  rank_change  \n",
      "0                     77798          0.0  \n",
      "1                    209456          0.0  \n",
      "2                    106523          1.0  \n",
      "3                    301893         -1.0  \n",
      "4                    157210          3.0  \n"
     ]
    }
   ],
   "source": [
    "## Create a boolean series based on if the \"previous_rank\" column in f500 is not NaN\n",
    "previously_ranked_bool = f500[\"previous_rank\"].notnull()\n",
    "\n",
    "## Filtering the f500 dataframe based on above bool\n",
    "previously_ranked = f500[previously_ranked_bool]\n",
    "\n",
    "## Creating a new column called \"rank_change\"\n",
    "rank_change = previously_ranked[\"previous_rank\"] - previously_ranked[\"rank\"]\n",
    "\n",
    "## Joining this series to the f500 dataframe\n",
    "f500[\"rank_change\"] = rank_change\n",
    "\n",
    "## Top 5 in adjusted dataframe\n",
    "print(f500[:5].head())"
   ]
  },
  {
   "cell_type": "markdown",
   "id": "462a404e",
   "metadata": {},
   "source": [
    "Using boolean operators:"
   ]
  },
  {
   "cell_type": "code",
   "execution_count": 97,
   "id": "e4af68ec",
   "metadata": {},
   "outputs": [
    {
     "name": "stdout",
     "output_type": "stream",
     "text": [
      "                company  rank  revenues  revenue_change  profits   assets  \\\n",
      "32  Japan Post Holdings    33    122990             3.6   -267.4  2631385   \n",
      "44              Chevron    45    107567           -18.0   -497.0   260078   \n",
      "\n",
      "    profit_change               ceo                         industry  \\\n",
      "32         -107.5  Masatsugu Nagato  Insurance: Life, Health (stock)   \n",
      "44         -110.8    John S. Watson               Petroleum Refining   \n",
      "\n",
      "        sector  previous_rank country    hq_location                  website  \\\n",
      "32  Financials           37.0   Japan   Tokyo, Japan  http://www.japanpost.jp   \n",
      "44      Energy           31.0     USA  San Ramon, CA   http://www.chevron.com   \n",
      "\n",
      "    years_on_global_500_list  employees  total_stockholder_equity  rank_change  \n",
      "32                        21     248384                     91532          4.0  \n",
      "44                        23      55200                    145556        -14.0  \n"
     ]
    }
   ],
   "source": [
    "## first boolean series\n",
    "large_revenue = f500[\"revenues\"] > 100000\n",
    "\n",
    "## second boolean series\n",
    "negative_profits = f500[\"profits\"] < 0\n",
    "\n",
    "## combined boolean series\n",
    "combined = large_revenue & negative_profits\n",
    "\n",
    "## using boolean series as mask to filter f500 into new df\n",
    "big_rev_neg_profit = f500[combined]\n",
    "\n",
    "print(big_rev_neg_profit)"
   ]
  },
  {
   "cell_type": "code",
   "execution_count": 98,
   "id": "efbc403d",
   "metadata": {},
   "outputs": [
    {
     "name": "stdout",
     "output_type": "stream",
     "text": [
      "                   company  rank  revenues  revenue_change  profits  assets  \\\n",
      "74               Petrobras    75     81405           -16.3  -4838.0  246983   \n",
      "112  Itau Unibanco Holding   113     66876            21.4   6666.4  415972   \n",
      "150        Banco do Brasil   151     58093           -13.4   2013.8  426416   \n",
      "153         Banco Bradesco   154     57443            31.3   5127.9  366418   \n",
      "190                    JBS   191     48825            -0.1    107.7   31605   \n",
      "\n",
      "     profit_change                        ceo                       industry  \\\n",
      "74             NaN       Pedro Pullen Parente             Petroleum Refining   \n",
      "112          -13.7    Candido Botelho Bracher  Banks: Commercial and Savings   \n",
      "150          -52.3   Paulo Rogerio Caffarelli  Banks: Commercial and Savings   \n",
      "153           -5.7  Luiz Carlos Trabuco Cappi  Banks: Commercial and Savings   \n",
      "190          -92.3    Wesley Mendonca Batista                Food Production   \n",
      "\n",
      "                        sector  previous_rank country             hq_location  \\\n",
      "74                      Energy           58.0  Brazil  Rio de Janeiro, Brazil   \n",
      "112                 Financials          159.0  Brazil       Sao Paulo, Brazil   \n",
      "150                 Financials          115.0  Brazil        Brasilia, Brazil   \n",
      "153                 Financials          209.0  Brazil          Osasco, Brazil   \n",
      "190  Food, Beverages & Tobacco          185.0  Brazil       Sao Paulo, Brazil   \n",
      "\n",
      "                           website  years_on_global_500_list  employees  \\\n",
      "74     http://www.petrobras.com.br                        23      68829   \n",
      "112         http://www.itau.com.br                         4      94779   \n",
      "150           http://www.bb.com.br                        23     100622   \n",
      "153     http://www.bradesco.com.br                        21      94541   \n",
      "190  http://jbss.infoinvest.com.br                         8     237061   \n",
      "\n",
      "     total_stockholder_equity  rank_change  \n",
      "74                      76779        -17.0  \n",
      "112                     37680         46.0  \n",
      "150                     26551        -36.0  \n",
      "153                     32369         55.0  \n",
      "190                      7307         -6.0  \n",
      "                         company  rank  revenues  revenue_change  profits  \\\n",
      "14           Samsung Electronics    15    173957            -2.0  19316.5   \n",
      "26    Hon Hai Precision Industry    27    135129            -4.3   4608.8   \n",
      "70                       Hitachi    71     84558             1.2   2134.3   \n",
      "82   Huawei Investment & Holding    83     78511            24.9   5579.4   \n",
      "104                         Sony   105     70170             3.9    676.4   \n",
      "\n",
      "     assets  profit_change                   ceo  \\\n",
      "14   217104           16.8          Oh-Hyun Kwon   \n",
      "26    80436           -0.4             Terry Gou   \n",
      "70    86742           48.8  Toshiaki Higashihara   \n",
      "82    63837           -5.0          Ren Zhengfei   \n",
      "104  158519          -45.1           Kazuo Hirai   \n",
      "\n",
      "                                       industry      sector  previous_rank  \\\n",
      "14               Electronics, Electrical Equip.  Technology           13.0   \n",
      "26               Electronics, Electrical Equip.  Technology           25.0   \n",
      "70               Electronics, Electrical Equip.  Technology           79.0   \n",
      "82   Network and Other Communications Equipment  Technology          129.0   \n",
      "104              Electronics, Electrical Equip.  Technology          113.0   \n",
      "\n",
      "         country              hq_location                 website  \\\n",
      "14   South Korea       Suwon, South Korea  http://www.samsung.com   \n",
      "26        Taiwan  New Taipei City, Taiwan  http://www.foxconn.com   \n",
      "70         Japan             Tokyo, Japan  http://www.hitachi.com   \n",
      "82         China          Shenzhen, China   http://www.huawei.com   \n",
      "104        Japan             Tokyo, Japan     http://www.sony.net   \n",
      "\n",
      "     years_on_global_500_list  employees  total_stockholder_equity  \\\n",
      "14                         23     325000                    154376   \n",
      "26                         13     726772                     33476   \n",
      "70                         23     303887                     26632   \n",
      "82                          8     180000                     20159   \n",
      "104                        23     128400                     22415   \n",
      "\n",
      "     rank_change  \n",
      "14          -2.0  \n",
      "26          -2.0  \n",
      "70           8.0  \n",
      "82          46.0  \n",
      "104          8.0  \n"
     ]
    }
   ],
   "source": [
    "## Creating boolean series based on two criteria\n",
    "filter_brazil_venezuela = (f500[\"country\"] == \"Brazil\") | (f500[\"country\"] == \"Venezuela\")\n",
    "\n",
    "## Using boolean series as mask to filter df\n",
    "brazil_venezuela=f500[filter_brazil_venezuela]\n",
    "\n",
    "print(brazil_venezuela.head(5))\n",
    "\n",
    "## Creating boolean series based on two criteria\n",
    "filter_tech_outside_USA = ~(f500[\"country\"] == \"USA\") & (f500[\"sector\"] == \"Technology\")\n",
    "\n",
    "## Using boolean series as mask to filter df\n",
    "tech_outside_usa = f500[filter_tech_outside_USA].head(5)\n",
    "\n",
    "print(tech_outside_usa.head())"
   ]
  },
  {
   "cell_type": "markdown",
   "id": "217bbb60",
   "metadata": {},
   "source": [
    "Sorting values:"
   ]
  },
  {
   "cell_type": "code",
   "execution_count": 99,
   "id": "fbf36cf1",
   "metadata": {},
   "outputs": [
    {
     "name": "stdout",
     "output_type": "stream",
     "text": [
      "Toyota Motor\n"
     ]
    }
   ],
   "source": [
    "## filtered df based on boolean series where country = Japan\n",
    "selected_rows = f500[f500[\"country\"] == \"Japan\"]\n",
    "\n",
    "## the above selected_rows, sorted from biggest to smallest, then selecting the first row, and finding the company name\n",
    "top_japanese_employer = selected_rows.sort_values(\"employees\",ascending=False).iloc[0][\"company\"]\n",
    "\n",
    "print(top_japanese_employer)"
   ]
  },
  {
   "cell_type": "markdown",
   "id": "7a98bffd",
   "metadata": {},
   "source": [
    "Using Loops with pandas:"
   ]
  },
  {
   "cell_type": "code",
   "execution_count": 100,
   "id": "50d48ee9",
   "metadata": {},
   "outputs": [
    {
     "name": "stdout",
     "output_type": "stream",
     "text": [
      "Unique countries:\n",
      "['USA' 'China' 'Japan' 'Germany' 'Netherlands' 'Britain' 'South Korea'\n",
      " 'Switzerland' 'France' 'Taiwan' 'Singapore' 'Italy' 'Russia' 'Spain'\n",
      " 'Brazil' 'Mexico' 'Luxembourg' 'India' 'Malaysia' 'Thailand' 'Australia'\n",
      " 'Belgium' 'Norway' 'Canada' 'Ireland' 'Indonesia' 'Denmark'\n",
      " 'Saudi Arabia' 'Sweden' 'Finland' 'Venezuela' 'Turkey' 'U.A.E' 'Israel']\n",
      "\n",
      "\n",
      "{'USA': 'Walmart', 'China': 'China National Petroleum', 'Japan': 'Toyota Motor', 'Germany': 'Volkswagen', 'Netherlands': 'EXOR Group', 'Britain': 'Compass Group', 'South Korea': 'Samsung Electronics', 'Switzerland': 'Nestle', 'France': 'Sodexo', 'Taiwan': 'Hon Hai Precision Industry', 'Singapore': 'Flex', 'Italy': 'Poste Italiane', 'Russia': 'Gazprom', 'Spain': 'Banco Santander', 'Brazil': 'JBS', 'Mexico': 'America Movil', 'Luxembourg': 'ArcelorMittal', 'India': 'State Bank of India', 'Malaysia': 'Petronas', 'Thailand': 'PTT', 'Australia': 'Wesfarmers', 'Belgium': 'Anheuser-Busch InBev', 'Norway': 'Statoil', 'Canada': 'George Weston', 'Ireland': 'Accenture', 'Indonesia': 'Pertamina', 'Denmark': 'Maersk Group', 'Saudi Arabia': 'SABIC', 'Sweden': 'H & M Hennes & Mauritz', 'Finland': 'Nokia', 'Venezuela': 'Mercantil Servicios Financieros', 'Turkey': 'Koc Holding', 'U.A.E': 'Emirates Group', 'Israel': 'Teva Pharmaceutical Industries'}\n"
     ]
    }
   ],
   "source": [
    "## Creating an empty dictionary to add values to later\n",
    "top_employer_by_country = {}\n",
    "\n",
    "## Creating a list of unique values in the \"country\" column\n",
    "country = f500[\"country\"].unique()\n",
    "print(\"Unique countries:\")\n",
    "print(country)\n",
    "print('\\n')\n",
    "\n",
    "## for each country in the country list:\n",
    "for c in country:\n",
    "    df = f500[f500[\"country\"] == c]\n",
    "    company = df.sort_values(\"employees\",ascending=False).iloc[0][\"company\"]\n",
    "    top_employer_by_country[c] = company\n",
    "print(top_employer_by_country)"
   ]
  },
  {
   "cell_type": "markdown",
   "id": "55cfdb8c",
   "metadata": {},
   "source": [
    "Calculating top performing company per sector based on return on assets:"
   ]
  },
  {
   "cell_type": "code",
   "execution_count": 102,
   "id": "9a3d2970",
   "metadata": {},
   "outputs": [
    {
     "name": "stdout",
     "output_type": "stream",
     "text": [
      "Unique sectors:\n",
      "['Retailing' 'Energy' 'Motor Vehicles & Parts' 'Financials' 'Technology'\n",
      " 'Wholesalers' 'Health Care' 'Telecommunications'\n",
      " 'Engineering & Construction' 'Industrials' 'Food & Drug Stores'\n",
      " 'Aerospace & Defense' 'Food, Beverages & Tobacco' 'Household Products'\n",
      " 'Transportation' 'Materials' 'Chemicals' 'Media' 'Apparel'\n",
      " 'Hotels, Restaurants & Leisure' 'Business Services']\n",
      "\n",
      "\n",
      "{'Retailing': 'H & M Hennes & Mauritz', 'Energy': 'National Grid', 'Motor Vehicles & Parts': 'Subaru', 'Financials': 'Berkshire Hathaway', 'Technology': 'Accenture', 'Wholesalers': 'McKesson', 'Health Care': 'Gilead Sciences', 'Telecommunications': 'KDDI', 'Engineering & Construction': 'Pacific Construction Group', 'Industrials': '3M', 'Food & Drug Stores': 'Publix Super Markets', 'Aerospace & Defense': 'Lockheed Martin', 'Food, Beverages & Tobacco': 'Philip Morris International', 'Household Products': 'Unilever', 'Transportation': 'Delta Air Lines', 'Materials': 'CRH', 'Chemicals': 'LyondellBasell Industries', 'Media': 'Disney', 'Apparel': 'Nike', 'Hotels, Restaurants & Leisure': 'McDonald’s', 'Business Services': 'Adecco Group'}\n"
     ]
    }
   ],
   "source": [
    "## creating a return on assets column\n",
    "f500[\"roa\"] = f500[\"profits\"] / f500[\"assets\"]\n",
    "\n",
    "## creating a new dictionary\n",
    "top_roa_by_sector = {}\n",
    "\n",
    "## creating a list of unique sectors\n",
    "sectors = f500[\"sector\"].unique()\n",
    "print(\"Unique sectors:\")\n",
    "print(sectors)\n",
    "print('\\n')\n",
    "\n",
    "## For each value in sectors (i.e. each individual sector\n",
    "for s in sectors:\n",
    "    ## create a dataframe that is the f500 dataframe filtered down to only companies in that sector\n",
    "    df = f500[f500[\"sector\"] == s]\n",
    "    ## a variable called \"company\" is the new dataframe sorted in descending order by \"roa\", then choose the first row, and only the company name\n",
    "    company = df.sort_values(\"roa\",ascending=False).iloc[0][\"company\"]\n",
    "    # add a value to the dictionary, where the index is the sector, and the value is the company\n",
    "    top_roa_by_sector[s] = company\n",
    "\n",
    "print(top_roa_by_sector)"
   ]
  },
  {
   "cell_type": "markdown",
   "id": "4a711153",
   "metadata": {},
   "source": [
    "## Data Cleaning Basics"
   ]
  },
  {
   "cell_type": "markdown",
   "id": "4d4621b6",
   "metadata": {},
   "source": [
    "Importing a csv using encoding:"
   ]
  },
  {
   "cell_type": "code",
   "execution_count": 104,
   "id": "a26bd57b",
   "metadata": {},
   "outputs": [
    {
     "name": "stdout",
     "output_type": "stream",
     "text": [
      "<class 'pandas.core.frame.DataFrame'>\n",
      "RangeIndex: 1303 entries, 0 to 1302\n",
      "Data columns (total 13 columns):\n",
      " #   Column                    Non-Null Count  Dtype \n",
      "---  ------                    --------------  ----- \n",
      " 0   Manufacturer              1303 non-null   object\n",
      " 1   Model Name                1303 non-null   object\n",
      " 2   Category                  1303 non-null   object\n",
      " 3   Screen Size               1303 non-null   object\n",
      " 4   Screen                    1303 non-null   object\n",
      " 5   CPU                       1303 non-null   object\n",
      " 6   RAM                       1303 non-null   object\n",
      " 7    Storage                  1303 non-null   object\n",
      " 8   GPU                       1303 non-null   object\n",
      " 9   Operating System          1303 non-null   object\n",
      " 10  Operating System Version  1133 non-null   object\n",
      " 11  Weight                    1303 non-null   object\n",
      " 12  Price (Euros)             1303 non-null   object\n",
      "dtypes: object(13)\n",
      "memory usage: 132.5+ KB\n"
     ]
    }
   ],
   "source": [
    "import pandas as pd\n",
    "laptops = pd.read_csv(\"laptops.csv\", encoding=\"Latin-1\")\n",
    "laptops.info()"
   ]
  },
  {
   "cell_type": "markdown",
   "id": "b02d4f83",
   "metadata": {},
   "source": [
    "Cleaning whitespace from column names:"
   ]
  },
  {
   "cell_type": "code",
   "execution_count": 105,
   "id": "867c0c56",
   "metadata": {
    "scrolled": true
   },
   "outputs": [
    {
     "name": "stdout",
     "output_type": "stream",
     "text": [
      "Index(['Manufacturer', 'Model Name', 'Category', 'Screen Size', 'Screen',\n",
      "       'CPU', 'RAM', ' Storage', 'GPU', 'Operating System',\n",
      "       'Operating System Version', 'Weight', 'Price (Euros)'],\n",
      "      dtype='object')\n",
      "\n",
      "\n",
      "['Manufacturer', 'Model Name', 'Category', 'Screen Size', 'Screen', 'CPU', 'RAM', 'Storage', 'GPU', 'Operating System', 'Operating System Version', 'Weight', 'Price (Euros)']\n",
      "\n",
      "\n",
      "Index(['Manufacturer', 'Model Name', 'Category', 'Screen Size', 'Screen',\n",
      "       'CPU', 'RAM', 'Storage', 'GPU', 'Operating System',\n",
      "       'Operating System Version', 'Weight', 'Price (Euros)'],\n",
      "      dtype='object')\n"
     ]
    }
   ],
   "source": [
    "print(laptops.columns)\n",
    "\n",
    "new_columns = []\n",
    "\n",
    "for c in laptops.columns:\n",
    "    new_c = c.strip()\n",
    "    new_columns.append(new_c)\n",
    "    \n",
    "print(\"\\n\")\n",
    "print(new_columns)  \n",
    "\n",
    "laptops.columns = new_columns\n",
    "print(\"\\n\")\n",
    "print(laptops.columns)"
   ]
  },
  {
   "cell_type": "code",
   "execution_count": 107,
   "id": "bdbc5539",
   "metadata": {},
   "outputs": [
    {
     "name": "stdout",
     "output_type": "stream",
     "text": [
      "Index(['manufacturer', 'model_name', 'category', 'screen_size', 'screen',\n",
      "       'cpu', 'ram', 'storage', 'gpu', 'os', 'os_version', 'weight',\n",
      "       'price_euros'],\n",
      "      dtype='object')\n"
     ]
    }
   ],
   "source": [
    "## define a function that cleans column names\n",
    "def columncleaner(col):\n",
    "    ## strips whitespace\n",
    "    col = col.strip()\n",
    "    ## replaces Operting System with os\n",
    "    col = col.replace(\"Operating System\",\"os\")\n",
    "    ## replaces whitespace with underscores\n",
    "    col = col.replace(\" \",\"_\")\n",
    "    ## remove parentheses\n",
    "    col = col.replace(\"(\",\"\")\n",
    "    col = col.replace(\")\",\"\")\n",
    "    ## makes the string lowercase\n",
    "    col = col.lower()\n",
    "    ## returns the modified string\n",
    "    return col\n",
    "\n",
    "cleaned_column_list = []\n",
    "\n",
    "## for each column name in the columns\n",
    "for c in laptops.columns:\n",
    "    ## apply the function to each column and return it as a new variable\n",
    "    cleaned_column = columncleaner(c)\n",
    "    ## assign this variable to the new columns list\n",
    "    cleaned_column_list.append(cleaned_column)\n",
    "    \n",
    "## update the laptops.columns with the new columns list values\n",
    "laptops.columns = cleaned_column_list\n",
    "print(laptops.columns)"
   ]
  },
  {
   "cell_type": "markdown",
   "id": "66ab94d7",
   "metadata": {},
   "source": [
    "Exploring data types in the headers:"
   ]
  },
  {
   "cell_type": "code",
   "execution_count": 108,
   "id": "a1e66f94",
   "metadata": {},
   "outputs": [
    {
     "name": "stdout",
     "output_type": "stream",
     "text": [
      "object\n",
      "['13.3\"' '15.6\"' '15.4\"' '14.0\"' '12.0\"' '11.6\"' '17.3\"' '10.1\"' '13.5\"'\n",
      " '12.5\"' '13.0\"' '18.4\"' '13.9\"' '12.3\"' '17.0\"' '15.0\"' '14.1\"' '11.3\"']\n",
      "['8GB' '16GB' '4GB' '2GB' '12GB' '6GB' '32GB' '24GB' '64GB']\n"
     ]
    }
   ],
   "source": [
    "print(laptops[\"screen_size\"].dtype)\n",
    "print(laptops[\"screen_size\"].unique())\n",
    "\n",
    "unique_ram = laptops[\"ram\"].unique()\n",
    "print(unique_ram)"
   ]
  },
  {
   "cell_type": "markdown",
   "id": "05fb1bb3",
   "metadata": {},
   "source": [
    "Removing non-digit characters:"
   ]
  },
  {
   "cell_type": "code",
   "execution_count": 109,
   "id": "9db10678",
   "metadata": {},
   "outputs": [
    {
     "name": "stdout",
     "output_type": "stream",
     "text": [
      "['8' '16' '4' '2' '12' '6' '32' '24' '64']\n"
     ]
    }
   ],
   "source": [
    "laptops[\"ram\"] = laptops[\"ram\"].str.replace('GB','')\n",
    "unique_ram = laptops[\"ram\"].unique()\n",
    "print(unique_ram)"
   ]
  },
  {
   "cell_type": "markdown",
   "id": "4f9e6a27",
   "metadata": {},
   "source": [
    "Converting columns to numeric dtypes:"
   ]
  },
  {
   "cell_type": "code",
   "execution_count": 110,
   "id": "055b928a",
   "metadata": {},
   "outputs": [
    {
     "name": "stdout",
     "output_type": "stream",
     "text": [
      "manufacturer    object\n",
      "model_name      object\n",
      "category        object\n",
      "screen_size     object\n",
      "screen          object\n",
      "cpu             object\n",
      "ram              int32\n",
      "storage         object\n",
      "gpu             object\n",
      "os              object\n",
      "os_version      object\n",
      "weight          object\n",
      "price_euros     object\n",
      "dtype: object\n"
     ]
    }
   ],
   "source": [
    "laptops[\"ram\"] = laptops[\"ram\"].astype(int)\n",
    "dtypes = laptops.dtypes\n",
    "print(dtypes)"
   ]
  },
  {
   "cell_type": "markdown",
   "id": "15f90713",
   "metadata": {},
   "source": [
    "Renaming columns:"
   ]
  },
  {
   "cell_type": "code",
   "execution_count": 112,
   "id": "a2cecc38",
   "metadata": {
    "scrolled": true
   },
   "outputs": [
    {
     "name": "stdout",
     "output_type": "stream",
     "text": [
      "count    1303.000000\n",
      "mean        8.382195\n",
      "std         5.084665\n",
      "min         2.000000\n",
      "25%         4.000000\n",
      "50%         8.000000\n",
      "75%         8.000000\n",
      "max        64.000000\n",
      "Name: ram_gb, dtype: float64\n"
     ]
    }
   ],
   "source": [
    "laptops.rename({\"ram\":\"ram_gb\"},axis=1,inplace=True)\n",
    "ram_gb_desc = laptops[\"ram_gb\"].describe()\n",
    "print(ram_gb_desc)"
   ]
  },
  {
   "cell_type": "markdown",
   "id": "1fa37879",
   "metadata": {},
   "source": [
    "Extracting values from strings:"
   ]
  },
  {
   "cell_type": "code",
   "execution_count": 115,
   "id": "2dc052c1",
   "metadata": {},
   "outputs": [
    {
     "name": "stdout",
     "output_type": "stream",
     "text": [
      "gpu_manufacturer\n",
      "Intel     722\n",
      "Nvidia    400\n",
      "AMD       180\n",
      "ARM         1\n",
      "Name: count, dtype: int64\n",
      "cpu_manufacturer\n",
      "Intel      1240\n",
      "AMD          62\n",
      "Samsung       1\n",
      "Name: count, dtype: int64\n"
     ]
    }
   ],
   "source": [
    "laptops[\"gpu_manufacturer\"] = (laptops[\"gpu\"]\n",
    "                                       .str.split()\n",
    "                                       .str[0]\n",
    "                              )\n",
    "gpu_manufacturer_counts = laptops[\"gpu_manufacturer\"].value_counts()\n",
    "print(gpu_manufacturer_counts)\n",
    "\n",
    "laptops[\"cpu_manufacturer\"] = (laptops[\"cpu\"]\n",
    "                               .str.split()\n",
    "                               .str[0]\n",
    "                              )\n",
    "cpu_manufacturer_counts = laptops[\"cpu_manufacturer\"].value_counts()\n",
    "print(cpu_manufacturer_counts)"
   ]
  },
  {
   "cell_type": "markdown",
   "id": "ad5b5ae9",
   "metadata": {},
   "source": [
    "Correcting bad values using mapping:"
   ]
  },
  {
   "cell_type": "code",
   "execution_count": 116,
   "id": "692eef38",
   "metadata": {},
   "outputs": [
    {
     "name": "stdout",
     "output_type": "stream",
     "text": [
      "os\n",
      "Windows      1125\n",
      "No OS          66\n",
      "Linux          62\n",
      "Chrome OS      27\n",
      "macOS          13\n",
      "Mac OS          8\n",
      "Android         2\n",
      "Name: count, dtype: int64\n",
      "os\n",
      "Windows      1125\n",
      "No OS          66\n",
      "Linux          62\n",
      "Chrome OS      27\n",
      "macOS          21\n",
      "Android         2\n",
      "Name: count, dtype: int64\n"
     ]
    }
   ],
   "source": [
    "print(laptops[\"os\"].value_counts())\n",
    "\n",
    "mapping_dict = {\n",
    "    'Android': 'Android',\n",
    "    'Chrome OS': 'Chrome OS',\n",
    "    'Linux': 'Linux',\n",
    "    'Mac OS': 'macOS',\n",
    "    'No OS': 'No OS',\n",
    "    'Windows': 'Windows',\n",
    "    'macOS': 'macOS'\n",
    "}\n",
    "\n",
    "laptops[\"os\"] = laptops[\"os\"].map(mapping_dict)\n",
    "print(laptops[\"os\"].value_counts())"
   ]
  },
  {
   "cell_type": "markdown",
   "id": "457daa4d",
   "metadata": {},
   "source": [
    "Dropping missing values:"
   ]
  },
  {
   "cell_type": "code",
   "execution_count": 130,
   "id": "0b0b78a5",
   "metadata": {},
   "outputs": [
    {
     "name": "stdout",
     "output_type": "stream",
     "text": [
      "Columns with null values in rows:\n",
      "manufacturer          0\n",
      "model_name            0\n",
      "category              0\n",
      "screen_size           0\n",
      "screen                0\n",
      "cpu                   0\n",
      "ram_gb                0\n",
      "storage               0\n",
      "gpu                   0\n",
      "os                    0\n",
      "os_version          170\n",
      "weight                0\n",
      "price_euros           0\n",
      "gpu_manufacturer      0\n",
      "cpu_manufacturer      0\n",
      "dtype: int64\n",
      "\n",
      "\n",
      "Columns with null values in rows:\n",
      "manufacturer        0\n",
      "model_name          0\n",
      "category            0\n",
      "screen_size         0\n",
      "screen              0\n",
      "cpu                 0\n",
      "ram_gb              0\n",
      "storage             0\n",
      "gpu                 0\n",
      "os                  0\n",
      "os_version          0\n",
      "weight              0\n",
      "price_euros         0\n",
      "gpu_manufacturer    0\n",
      "cpu_manufacturer    0\n",
      "dtype: int64\n",
      "\n",
      "\n",
      "Rows with null values in columns:\n",
      "0       1\n",
      "1       1\n",
      "2       1\n",
      "3       1\n",
      "4       1\n",
      "       ..\n",
      "1298    0\n",
      "1299    0\n",
      "1300    0\n",
      "1301    0\n",
      "1302    0\n",
      "Length: 1303, dtype: int64\n",
      "\n",
      "\n",
      "Rows with null values in columns:\n",
      "0       0\n",
      "1       0\n",
      "2       0\n",
      "3       0\n",
      "4       0\n",
      "       ..\n",
      "1298    0\n",
      "1299    0\n",
      "1300    0\n",
      "1301    0\n",
      "1302    0\n",
      "Length: 1303, dtype: int64\n"
     ]
    }
   ],
   "source": [
    "print('Columns with null values in rows:')\n",
    "print(laptops.isnull().sum())\n",
    "print('\\n')\n",
    "\n",
    "## removing rows with null values\n",
    "laptops_no_null_rows = laptops.dropna(axis=0)\n",
    "print('Columns with null values in rows:')\n",
    "print(laptops_no_null_rows.isnull().sum(axis=0))\n",
    "print('\\n')\n",
    "\n",
    "## removing cols with null values\n",
    "print('Rows with null values in columns:')\n",
    "print(laptops.isnull().sum(axis=1))\n",
    "print('\\n')\n",
    "laptops_no_null_cols = laptops.dropna(axis=1)\n",
    "print('Rows with null values in columns:')\n",
    "print(laptops_no_null_cols.isnull().sum(axis=1))"
   ]
  },
  {
   "cell_type": "markdown",
   "id": "369cc7ea",
   "metadata": {},
   "source": [
    "Filling missing values:"
   ]
  },
  {
   "cell_type": "code",
   "execution_count": 132,
   "id": "6d46da47",
   "metadata": {},
   "outputs": [
    {
     "name": "stdout",
     "output_type": "stream",
     "text": [
      "os\n",
      "Linux        62\n",
      "Chrome OS    27\n",
      "Android       2\n",
      "Name: count, dtype: int64\n",
      "\n",
      "\n",
      "os\n",
      "Linux        62\n",
      "Chrome OS    27\n",
      "Android       2\n",
      "Name: count, dtype: int64\n"
     ]
    }
   ],
   "source": [
    "value_counts_before = laptops.loc[laptops[\"os_version\"].isnull(), \"os\"].value_counts()\n",
    "laptops.loc[laptops[\"os\"] == \"macOS\", \"os_version\"] = \"X\"\n",
    "\n",
    "## in the laptops df, where the row for os is \"No OS\", the \"os version\" changes to:\n",
    "laptops.loc[laptops[\"os\"] == \"No OS\",\"os_version\"] = \"Version Unknown\"\n",
    "\n",
    "## where the laptops \"os version\" is null, get a value count from the \"os\" column\n",
    "value_counts_after = laptops.loc[laptops[\"os_version\"].isnull(), \"os\"].value_counts()\n",
    "\n",
    "print(value_counts_before)\n",
    "print('\\n')\n",
    "print(value_counts_after)"
   ]
  },
  {
   "cell_type": "markdown",
   "id": "b832560e",
   "metadata": {},
   "source": [
    "Challenge: clean a string column:\n",
    "Converting weight to a float and renaming the column:"
   ]
  },
  {
   "cell_type": "code",
   "execution_count": 133,
   "id": "f8638df3",
   "metadata": {},
   "outputs": [
    {
     "name": "stdout",
     "output_type": "stream",
     "text": [
      "0       1.37\n",
      "1       1.34\n",
      "2       1.86\n",
      "3       1.83\n",
      "4       1.37\n",
      "        ... \n",
      "1298    1.80\n",
      "1299    1.30\n",
      "1300    1.50\n",
      "1301    2.19\n",
      "1302    2.20\n",
      "Name: weight_kg, Length: 1303, dtype: float64\n"
     ]
    }
   ],
   "source": [
    "def columncleaner(col):\n",
    "    col = col.replace(\"kgs\",\"\")\n",
    "    col = col.replace(\"kg\",\"\")\n",
    "    return col\n",
    "\n",
    "## rename the column\n",
    "laptops.rename({\"weight\":\"weight_kg\"},axis=1,inplace=True)\n",
    "\n",
    "## remove letters\n",
    "new_weights = []\n",
    "for w in laptops[\"weight_kg\"]:\n",
    "    w = columncleaner(w)\n",
    "    new_weights.append(w)\n",
    "laptops[\"weight_kg\"] = new_weights\n",
    "\n",
    "## change dtype\n",
    "laptops[\"weight_kg\"] = laptops[\"weight_kg\"].astype(float)\n",
    "\n",
    "print(laptops[\"weight_kg\"])\n",
    "\n",
    "laptops.to_csv(\"laptops_cleaned.csv\", index=False)"
   ]
  },
  {
   "cell_type": "markdown",
   "id": "59bd7886",
   "metadata": {},
   "source": [
    "## Guided Project: Exploring eBay Car Sales Data"
   ]
  },
  {
   "cell_type": "markdown",
   "id": "ab444da1",
   "metadata": {},
   "source": [
    "Please see separate project notebook."
   ]
  }
 ],
 "metadata": {
  "kernelspec": {
   "display_name": "Python 3 (ipykernel)",
   "language": "python",
   "name": "python3"
  },
  "language_info": {
   "codemirror_mode": {
    "name": "ipython",
    "version": 3
   },
   "file_extension": ".py",
   "mimetype": "text/x-python",
   "name": "python",
   "nbconvert_exporter": "python",
   "pygments_lexer": "ipython3",
   "version": "3.10.13"
  }
 },
 "nbformat": 4,
 "nbformat_minor": 5
}
