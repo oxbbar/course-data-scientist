{
 "cells": [
  {
   "cell_type": "markdown",
   "id": "e9f9507a",
   "metadata": {},
   "source": [
    "## Part 2.1: Introduction to Pandas and NumPy for Data Analysis"
   ]
  },
  {
   "cell_type": "markdown",
   "id": "6c1dd124",
   "metadata": {},
   "source": [
    "## Introduction to NumPy"
   ]
  },
  {
   "cell_type": "markdown",
   "id": "5d7401c1",
   "metadata": {},
   "source": [
    "Importing the NumPy library and creating a NumPy ndarray:"
   ]
  },
  {
   "cell_type": "code",
   "execution_count": null,
   "id": "426940c5",
   "metadata": {},
   "outputs": [],
   "source": [
    "import numpy as np\n",
    "data_ndarray = np.array([10, 20, 30])"
   ]
  },
  {
   "cell_type": "markdown",
   "id": "53bc0559",
   "metadata": {},
   "source": [
    "Importing the nyc_taxis csv and converting to a NumPy array:"
   ]
  },
  {
   "cell_type": "code",
   "execution_count": null,
   "id": "42548b50",
   "metadata": {},
   "outputs": [],
   "source": [
    "from csv import reader\n",
    "opened_file = open(\"nyc_taxis.csv\", \"r\", encoding='UTF8')\n",
    "read_file = reader(opened_file)\n",
    "taxi_list = list(read_file)\n",
    "\n",
    "# remove the header row\n",
    "taxi_list = taxi_list[1:]\n",
    "\n",
    "# convert all values to floats\n",
    "converted_taxi_list = []\n",
    "for row in taxi_list:\n",
    "    converted_row = []\n",
    "    for item in row:\n",
    "        converted_row.append(float(item))\n",
    "    converted_taxi_list.append(converted_row)\n",
    "\n",
    "# start writing your code below this comment\n",
    "\n",
    "taxi = np.array(converted_taxi_list)"
   ]
  },
  {
   "cell_type": "markdown",
   "id": "b9ff7538",
   "metadata": {},
   "source": [
    "Querying the shape of arrays:"
   ]
  },
  {
   "cell_type": "code",
   "execution_count": null,
   "id": "fbbbb82d",
   "metadata": {},
   "outputs": [],
   "source": [
    "print(taxi)\n",
    "\n",
    "data_ndarray = np.array([[5, 10, 15],[20, 25, 30]])\n",
    "print(data_ndarray.shape)\n",
    "\n",
    "taxi_shape = taxi.shape\n",
    "print(taxi_shape)"
   ]
  },
  {
   "cell_type": "markdown",
   "id": "3f01187c",
   "metadata": {},
   "source": []
  },
  {
   "cell_type": "code",
   "execution_count": null,
   "id": "07189675",
   "metadata": {},
   "outputs": [],
   "source": []
  },
  {
   "cell_type": "markdown",
   "id": "24444eba",
   "metadata": {},
   "source": []
  },
  {
   "cell_type": "code",
   "execution_count": null,
   "id": "3248140e",
   "metadata": {},
   "outputs": [],
   "source": []
  },
  {
   "cell_type": "markdown",
   "id": "88958a4b",
   "metadata": {},
   "source": []
  },
  {
   "cell_type": "code",
   "execution_count": null,
   "id": "2299e241",
   "metadata": {},
   "outputs": [],
   "source": []
  },
  {
   "cell_type": "markdown",
   "id": "195c8ec7",
   "metadata": {},
   "source": []
  },
  {
   "cell_type": "code",
   "execution_count": null,
   "id": "4c1fb26b",
   "metadata": {},
   "outputs": [],
   "source": []
  },
  {
   "cell_type": "markdown",
   "id": "0ef59b5d",
   "metadata": {},
   "source": []
  },
  {
   "cell_type": "code",
   "execution_count": null,
   "id": "e95007b6",
   "metadata": {},
   "outputs": [],
   "source": []
  },
  {
   "cell_type": "markdown",
   "id": "47994858",
   "metadata": {},
   "source": [
    "## Boolean Indexing with NumPy"
   ]
  },
  {
   "cell_type": "markdown",
   "id": "35f58e49",
   "metadata": {},
   "source": []
  },
  {
   "cell_type": "code",
   "execution_count": null,
   "id": "70d7c31a",
   "metadata": {},
   "outputs": [],
   "source": []
  },
  {
   "cell_type": "markdown",
   "id": "6b203ee6",
   "metadata": {},
   "source": []
  },
  {
   "cell_type": "code",
   "execution_count": null,
   "id": "5719192d",
   "metadata": {},
   "outputs": [],
   "source": []
  },
  {
   "cell_type": "markdown",
   "id": "965611f4",
   "metadata": {},
   "source": []
  },
  {
   "cell_type": "code",
   "execution_count": null,
   "id": "e0437dbd",
   "metadata": {},
   "outputs": [],
   "source": []
  },
  {
   "cell_type": "markdown",
   "id": "05e855e4",
   "metadata": {},
   "source": [
    "## Introduction to pandas"
   ]
  },
  {
   "cell_type": "markdown",
   "id": "c44cd573",
   "metadata": {},
   "source": []
  },
  {
   "cell_type": "code",
   "execution_count": null,
   "id": "674cd77b",
   "metadata": {},
   "outputs": [],
   "source": []
  },
  {
   "cell_type": "markdown",
   "id": "062cbc8d",
   "metadata": {},
   "source": []
  },
  {
   "cell_type": "code",
   "execution_count": null,
   "id": "7ac0f426",
   "metadata": {},
   "outputs": [],
   "source": []
  },
  {
   "cell_type": "markdown",
   "id": "4039a4dd",
   "metadata": {},
   "source": []
  },
  {
   "cell_type": "code",
   "execution_count": null,
   "id": "5eae23c1",
   "metadata": {},
   "outputs": [],
   "source": []
  },
  {
   "cell_type": "markdown",
   "id": "9e6f66b0",
   "metadata": {},
   "source": [
    "## Exploring Data with Pandas: Fundamentals"
   ]
  },
  {
   "cell_type": "markdown",
   "id": "e8b1df1b",
   "metadata": {},
   "source": []
  },
  {
   "cell_type": "code",
   "execution_count": null,
   "id": "6c355329",
   "metadata": {},
   "outputs": [],
   "source": []
  },
  {
   "cell_type": "markdown",
   "id": "75ffe4ee",
   "metadata": {},
   "source": []
  },
  {
   "cell_type": "code",
   "execution_count": null,
   "id": "2801bbec",
   "metadata": {},
   "outputs": [],
   "source": []
  },
  {
   "cell_type": "markdown",
   "id": "bdb4240c",
   "metadata": {},
   "source": []
  },
  {
   "cell_type": "code",
   "execution_count": null,
   "id": "bd7915fa",
   "metadata": {},
   "outputs": [],
   "source": []
  },
  {
   "cell_type": "markdown",
   "id": "9b64b036",
   "metadata": {},
   "source": [
    "## Exploring Data with Pandas: Intermediate"
   ]
  },
  {
   "cell_type": "markdown",
   "id": "abaeb5c2",
   "metadata": {},
   "source": []
  },
  {
   "cell_type": "code",
   "execution_count": null,
   "id": "fffc4c51",
   "metadata": {},
   "outputs": [],
   "source": []
  },
  {
   "cell_type": "markdown",
   "id": "e9501136",
   "metadata": {},
   "source": []
  },
  {
   "cell_type": "code",
   "execution_count": null,
   "id": "1ac908f4",
   "metadata": {},
   "outputs": [],
   "source": []
  },
  {
   "cell_type": "markdown",
   "id": "d319dd5a",
   "metadata": {},
   "source": []
  },
  {
   "cell_type": "code",
   "execution_count": null,
   "id": "e3b55cf1",
   "metadata": {},
   "outputs": [],
   "source": []
  },
  {
   "cell_type": "markdown",
   "id": "4a711153",
   "metadata": {},
   "source": [
    "## Data Cleaning Basics"
   ]
  },
  {
   "cell_type": "markdown",
   "id": "4d4621b6",
   "metadata": {},
   "source": []
  },
  {
   "cell_type": "code",
   "execution_count": null,
   "id": "a26bd57b",
   "metadata": {},
   "outputs": [],
   "source": []
  },
  {
   "cell_type": "markdown",
   "id": "b02d4f83",
   "metadata": {},
   "source": []
  },
  {
   "cell_type": "code",
   "execution_count": null,
   "id": "867c0c56",
   "metadata": {},
   "outputs": [],
   "source": []
  },
  {
   "cell_type": "markdown",
   "id": "66ab94d7",
   "metadata": {},
   "source": []
  },
  {
   "cell_type": "code",
   "execution_count": null,
   "id": "a1e66f94",
   "metadata": {},
   "outputs": [],
   "source": []
  },
  {
   "cell_type": "markdown",
   "id": "59bd7886",
   "metadata": {},
   "source": [
    "## Guided Project: Exploring eBay Car Sales Data"
   ]
  },
  {
   "cell_type": "markdown",
   "id": "ab444da1",
   "metadata": {},
   "source": [
    "Please see separate project notebook."
   ]
  }
 ],
 "metadata": {
  "kernelspec": {
   "display_name": "Python 3 (ipykernel)",
   "language": "python",
   "name": "python3"
  },
  "language_info": {
   "codemirror_mode": {
    "name": "ipython",
    "version": 3
   },
   "file_extension": ".py",
   "mimetype": "text/x-python",
   "name": "python",
   "nbconvert_exporter": "python",
   "pygments_lexer": "ipython3",
   "version": "3.10.13"
  }
 },
 "nbformat": 4,
 "nbformat_minor": 5
}
